{
 "cells": [
  {
   "cell_type": "code",
   "execution_count": 55,
   "metadata": {
    "collapsed": true
   },
   "outputs": [],
   "source": [
    "import periodictable as PT\n",
    "import periodictable.formulas\n",
    "import json\n",
    "\n",
    "import pandas as pd\n",
    "from IPython.display import  display"
   ]
  },
  {
   "cell_type": "code",
   "execution_count": 56,
   "metadata": {
    "collapsed": false
   },
   "outputs": [
    {
     "data": {
      "text/plain": [
       "<module 'mix' from 'mix.pyc'>"
      ]
     },
     "execution_count": 56,
     "metadata": {},
     "output_type": "execute_result"
    }
   ],
   "source": [
    "import mix\n",
    "reload(mix)"
   ]
  },
  {
   "cell_type": "markdown",
   "metadata": {},
   "source": [
    "#compounds"
   ]
  },
  {
   "cell_type": "code",
   "execution_count": 57,
   "metadata": {
    "collapsed": false
   },
   "outputs": [
    {
     "data": {
      "text/html": [
       "<p> Compound('',None) </p>"
      ],
      "text/plain": [
       "Compound({'formula': ''})"
      ]
     },
     "execution_count": 57,
     "metadata": {},
     "output_type": "execute_result"
    }
   ],
   "source": [
    "c = mix.Compound()\n",
    "c"
   ]
  },
  {
   "cell_type": "code",
   "execution_count": 58,
   "metadata": {
    "collapsed": false
   },
   "outputs": [
    {
     "data": {
      "text/html": [
       "<p> Compound('H2O',water) </p>"
      ],
      "text/plain": [
       "Compound({'formula': 'H2O', 'name': 'water'})"
      ]
     },
     "execution_count": 58,
     "metadata": {},
     "output_type": "execute_result"
    }
   ],
   "source": [
    "c.formula = 'H2O'\n",
    "c.name = 'water'\n",
    "c"
   ]
  },
  {
   "cell_type": "code",
   "execution_count": 59,
   "metadata": {
    "collapsed": false
   },
   "outputs": [
    {
     "name": "stdout",
     "output_type": "stream",
     "text": [
      "superdict([('H', 0.11189834407236524), ('O', 0.8881016559276347)])\n",
      "0.111898344072 0.888101655928\n"
     ]
    }
   ],
   "source": [
    "print c.mass_fraction\n",
    "#note, type c.mass_fraction[<press tab> to complete 'H', 'O']\n",
    "print c.mass_fraction['H'],c.mass_fraction['O']"
   ]
  },
  {
   "cell_type": "code",
   "execution_count": 6,
   "metadata": {
    "collapsed": false
   },
   "outputs": [
    {
     "name": "stdout",
     "output_type": "stream",
     "text": [
      "{'formula': 'H2O', 'name': 'water'}\n"
     ]
    }
   ],
   "source": [
    "#serialize\n",
    "print c.to_dict()"
   ]
  },
  {
   "cell_type": "code",
   "execution_count": 7,
   "metadata": {
    "collapsed": false
   },
   "outputs": [
    {
     "name": "stdout",
     "output_type": "stream",
     "text": [
      "{'formula': 'H2O', 'name': 'water'}\n",
      "{'formula': 'H2O', 'name': 'water'}\n",
      "{\"formula\": \"H2O\", \"name\": \"water\"}\n",
      "{'formula': 'H2O', 'name': u'water'}\n"
     ]
    }
   ],
   "source": [
    "#create from self\n",
    "print mix.Compound(c)\n",
    "\n",
    "#create from serial\n",
    "print mix.Compound(c.to_dict())\n",
    "\n",
    "#dump to json\n",
    "print json.dumps(c.to_dict())\n",
    "\n",
    "#create from json\n",
    "print mix.Compound(json.loads(json.dumps(c.to_dict())))"
   ]
  },
  {
   "cell_type": "code",
   "execution_count": 8,
   "metadata": {
    "collapsed": true
   },
   "outputs": [],
   "source": [
    "x = [('H2O',0.5),('HCl',0.5)]"
   ]
  },
  {
   "cell_type": "code",
   "execution_count": 9,
   "metadata": {
    "collapsed": false
   },
   "outputs": [],
   "source": [
    "c1 = mix.Compound(x)"
   ]
  },
  {
   "cell_type": "code",
   "execution_count": 10,
   "metadata": {
    "collapsed": false
   },
   "outputs": [],
   "source": [
    "c2 = mix.Compound([(x,0.5),('H2O',0.5)])"
   ]
  },
  {
   "cell_type": "code",
   "execution_count": 11,
   "metadata": {
    "collapsed": true
   },
   "outputs": [],
   "source": [
    "c3 = mix.Compound({'H2O':0.75,'HCl':0.25})"
   ]
  },
  {
   "cell_type": "code",
   "execution_count": 12,
   "metadata": {
    "collapsed": false
   },
   "outputs": [
    {
     "data": {
      "text/plain": [
       "superdict([('H', 0.09083485250219547),\n",
       "           ('O', 0.6660762419457261),\n",
       "           ('Cl', 0.2430889055520785)])"
      ]
     },
     "execution_count": 12,
     "metadata": {},
     "output_type": "execute_result"
    }
   ],
   "source": [
    "c3.mass_fraction"
   ]
  },
  {
   "cell_type": "code",
   "execution_count": 13,
   "metadata": {
    "collapsed": false
   },
   "outputs": [
    {
     "data": {
      "text/html": [
       "<p> Compound('[(Compound({'formula': 'H2O', 'name': 'water'}), 0.5)]',None) </p>"
      ],
      "text/plain": [
       "Compound({'formula': [(Compound({'formula': 'H2O', 'name': 'water'}), 0.5)]})"
      ]
     },
     "execution_count": 13,
     "metadata": {},
     "output_type": "execute_result"
    }
   ],
   "source": [
    "mix.Compound([(c,0.5)])"
   ]
  },
  {
   "cell_type": "code",
   "execution_count": 14,
   "metadata": {
    "collapsed": false
   },
   "outputs": [
    {
     "name": "stdout",
     "output_type": "stream",
     "text": [
      "{'formula': [('H', 0.5), ('Fe', 0.5)]}\n",
      "H0.496061Fe0.00895335\n",
      "superdict([('H', 0.5), ('Fe', 0.5)])\n",
      "{'formula': [('FeO2', 0.5), ('H2O', 0.5)]}\n",
      "(FeO2)0.00569192(H2O)0.0277542\n",
      "superdict([('H', 0.055949172036182625), ('Fe', 0.31786534735519184), ('O', 0.6261854806086256)])\n"
     ]
    }
   ],
   "source": [
    "#create compound from mix by mass\n",
    "\n",
    "#simple case\n",
    "c = mix.Compound({'H':0.5,'Fe':0.5})\n",
    "print c\n",
    "print c.formula\n",
    "print c.mass_fraction\n",
    "\n",
    "#harder case\n",
    "c = mix.Compound({'H2O':0.5,'FeO2':0.5})\n",
    "print c\n",
    "print c.formula\n",
    "print c.mass_fraction\n"
   ]
  },
  {
   "cell_type": "code",
   "execution_count": 15,
   "metadata": {
    "collapsed": false
   },
   "outputs": [
    {
     "data": {
      "text/html": [
       "<p> Compound('[('FeO2', 0.5), ('H2O', 0.5)]',None) </p>"
      ],
      "text/plain": [
       "Compound({'formula': [('FeO2', 0.5), ('H2O', 0.5)]})"
      ]
     },
     "execution_count": 15,
     "metadata": {},
     "output_type": "execute_result"
    }
   ],
   "source": [
    "c"
   ]
  },
  {
   "cell_type": "code",
   "execution_count": 16,
   "metadata": {
    "collapsed": false
   },
   "outputs": [
    {
     "data": {
      "text/plain": [
       "<module 'mix' from 'mix.pyc'>"
      ]
     },
     "execution_count": 16,
     "metadata": {},
     "output_type": "execute_result"
    }
   ],
   "source": [
    "reload(mix)"
   ]
  },
  {
   "cell_type": "code",
   "execution_count": 17,
   "metadata": {
    "collapsed": false
   },
   "outputs": [
    {
     "data": {
      "text/plain": [
       "18.01528"
      ]
     },
     "execution_count": 17,
     "metadata": {},
     "output_type": "execute_result"
    }
   ],
   "source": [
    "mix.Compound('H2O').formula.mass"
   ]
  },
  {
   "cell_type": "code",
   "execution_count": 18,
   "metadata": {
    "collapsed": false
   },
   "outputs": [
    {
     "data": {
      "text/plain": [
       "formula('H2O')"
      ]
     },
     "execution_count": 18,
     "metadata": {},
     "output_type": "execute_result"
    }
   ],
   "source": [
    "mix.Compound([('H2O',18.01528)]).formula"
   ]
  },
  {
   "cell_type": "code",
   "execution_count": 19,
   "metadata": {
    "collapsed": false
   },
   "outputs": [
    {
     "name": "stdout",
     "output_type": "stream",
     "text": [
      "{'formula': [(formula('H2O'), 0.5), (formula('FeO2'), 0.5)]}\n",
      "(H2O)0.0277542(FeO2)0.00569192\n",
      "superdict([('H', 0.055949172036182625), ('O', 0.6261854806086256), ('Fe', 0.31786534735519184)])\n"
     ]
    }
   ],
   "source": [
    "#create from mix of compounds\n",
    "A = mix.Compound('H2O')\n",
    "B = mix.Compound('FeO2')\n",
    "\n",
    "c = mix.Compound({A.formula:0.5,B.formula:0.5})\n",
    "print c\n",
    "print c.formula\n",
    "print c.mass_fraction"
   ]
  },
  {
   "cell_type": "markdown",
   "metadata": {},
   "source": [
    "#Compound Volatile\n",
    "\n",
    " * class to handle volatility\n",
    " * two main inputs\n",
    "     * measured: compound formula for measured substance\n",
    "     * final: compound after volatiles removed\n",
    "     * note: need consistent definition \n",
    "     * if have mix of \"A\" and \"V\" where \"V\" is volatile, then have two choices:\n",
    "         * measured = \"(A)x + (V)m\", final=\"(A)x + (V)f\"\n",
    "         * measured = {\"A\":x, \"V\":m}, final={\"A\":x, \"V\":m}\n",
    "         * x must be same in measured and final\n",
    "         \n",
    "      \n",
    "         \n",
    "     "
   ]
  },
  {
   "cell_type": "code",
   "execution_count": 20,
   "metadata": {
    "collapsed": false
   },
   "outputs": [
    {
     "name": "stdout",
     "output_type": "stream",
     "text": [
      "{'measured': {'formula': 'H2O'}}\n"
     ]
    },
    {
     "data": {
      "text/html": [
       "<div>\n",
       "<table border=\"1\" class=\"dataframe\">\n",
       "  <thead>\n",
       "    <tr style=\"text-align: right;\">\n",
       "      <th></th>\n",
       "      <th>name</th>\n",
       "      <th>measured</th>\n",
       "      <th>final</th>\n",
       "    </tr>\n",
       "  </thead>\n",
       "  <tbody>\n",
       "    <tr>\n",
       "      <th>0</th>\n",
       "      <td>H2O</td>\n",
       "      <td>H2O</td>\n",
       "      <td>--</td>\n",
       "    </tr>\n",
       "  </tbody>\n",
       "</table>\n",
       "</div>"
      ],
      "text/plain": [
       "CompoundVolatile({'measured': {'formula': 'H2O'}})"
      ]
     },
     "metadata": {},
     "output_type": "display_data"
    }
   ],
   "source": [
    "c = mix.CompoundVolatile('H2O')\n",
    "print c\n",
    "display(c)"
   ]
  },
  {
   "cell_type": "code",
   "execution_count": 21,
   "metadata": {
    "collapsed": false
   },
   "outputs": [
    {
     "data": {
      "text/html": [
       "<div>\n",
       "<table border=\"1\" class=\"dataframe\">\n",
       "  <thead>\n",
       "    <tr style=\"text-align: right;\">\n",
       "      <th></th>\n",
       "      <th>name</th>\n",
       "      <th>measured</th>\n",
       "      <th>final</th>\n",
       "    </tr>\n",
       "  </thead>\n",
       "  <tbody>\n",
       "    <tr>\n",
       "      <th>0</th>\n",
       "      <td>H2OFeO3</td>\n",
       "      <td>H2OFeO3</td>\n",
       "      <td>FeO3</td>\n",
       "    </tr>\n",
       "  </tbody>\n",
       "</table>\n",
       "</div>"
      ],
      "text/plain": [
       "CompoundVolatile({'measured': {'formula': 'H2O+FeO3'}, 'final': {'formula': 'FeO3'}})"
      ]
     },
     "execution_count": 21,
     "metadata": {},
     "output_type": "execute_result"
    }
   ],
   "source": [
    "mix.CompoundVolatile(measured='H2O+FeO3',final='FeO3')"
   ]
  },
  {
   "cell_type": "code",
   "execution_count": 22,
   "metadata": {
    "collapsed": false
   },
   "outputs": [
    {
     "name": "stdout",
     "output_type": "stream",
     "text": [
      "{'measured': {'formula': [('FeO2', 0.5), ('H2O', 0.5)]}, 'final': {'formula': [('FeO2', 0.5)]}, 'name': 'A'}\n",
      "(FeO2)0.00569192(H2O)0.0277542\n",
      "(FeO2)0.00569192\n"
     ]
    },
    {
     "data": {
      "text/html": [
       "<div>\n",
       "<table border=\"1\" class=\"dataframe\">\n",
       "  <thead>\n",
       "    <tr style=\"text-align: right;\">\n",
       "      <th></th>\n",
       "      <th>name</th>\n",
       "      <th>measured</th>\n",
       "      <th>final</th>\n",
       "    </tr>\n",
       "  </thead>\n",
       "  <tbody>\n",
       "    <tr>\n",
       "      <th>0</th>\n",
       "      <td>A</td>\n",
       "      <td>(FeO2)0.00569192(H2O)0.0277542</td>\n",
       "      <td>(FeO2)0.00569192</td>\n",
       "    </tr>\n",
       "  </tbody>\n",
       "</table>\n",
       "</div>"
      ],
      "text/plain": [
       "CompoundVolatile({'measured': {'formula': [('FeO2', 0.5), ('H2O', 0.5)]}, 'final': {'formula': [('FeO2', 0.5)]}, 'name': 'A'})"
      ]
     },
     "metadata": {},
     "output_type": "display_data"
    },
    {
     "name": "stdout",
     "output_type": "stream",
     "text": [
      "2.0 0.5\n"
     ]
    }
   ],
   "source": [
    "m = mix.Compound({'FeO2':0.5,'H2O':0.5})\n",
    "f = mix.Compound({'FeO2':0.5})\n",
    "\n",
    "c = mix.CompoundVolatile(measured=m,final=f,name='A')\n",
    "\n",
    "print c\n",
    "print c.measured.formula\n",
    "print c.final.formula\n",
    "\n",
    "display(c)\n",
    "\n",
    "#conversions\n",
    "print c.final_to_measured_conversion,c.measured_to_final_conversion\n",
    "\n",
    "\n",
    "#check that source 'Fe' does not change\n",
    "c.check_atom('Fe')"
   ]
  },
  {
   "cell_type": "code",
   "execution_count": 23,
   "metadata": {
    "collapsed": false
   },
   "outputs": [
    {
     "data": {
      "text/html": [
       "<div>\n",
       "<table border=\"1\" class=\"dataframe\">\n",
       "  <thead>\n",
       "    <tr style=\"text-align: right;\">\n",
       "      <th></th>\n",
       "      <th>name</th>\n",
       "      <th>measured</th>\n",
       "      <th>final</th>\n",
       "    </tr>\n",
       "  </thead>\n",
       "  <tbody>\n",
       "    <tr>\n",
       "      <th>0</th>\n",
       "      <td>A</td>\n",
       "      <td>FeO2H2O</td>\n",
       "      <td>FeO2</td>\n",
       "    </tr>\n",
       "  </tbody>\n",
       "</table>\n",
       "</div>"
      ],
      "text/plain": [
       "CompoundVolatile({'measured': {'formula': 'FeO2+H2O'}, 'final': {'formula': 'FeO2'}, 'name': 'A'})"
      ]
     },
     "metadata": {},
     "output_type": "display_data"
    },
    {
     "name": "stdout",
     "output_type": "stream",
     "text": [
      "{'measured': {'formula': 'FeO2+H2O'}, 'final': {'formula': 'FeO2'}, 'name': 'A'}\n",
      "FeO2H2O\n",
      "FeO2\n",
      "1.20508311344 0.829818282947\n"
     ]
    }
   ],
   "source": [
    "#mol mix\n",
    "m = mix.Compound('FeO2+H2O')\n",
    "f = mix.Compound('FeO2')\n",
    "\n",
    "c = mix.CompoundVolatile(measured=m,final=f,name='A')\n",
    "display(c)\n",
    "print c\n",
    "print c.measured.formula\n",
    "print c.final.formula\n",
    "\n",
    "#conversions\n",
    "print c.final_to_measured_conversion,c.measured_to_final_conversion\n",
    "\n",
    "\n",
    "#check that source 'Fe' does not change\n",
    "c.check_atom('Fe')"
   ]
  },
  {
   "cell_type": "markdown",
   "metadata": {},
   "source": [
    "#compound collection\n",
    "\n",
    " * collection of (volatile) compounds\n",
    " "
   ]
  },
  {
   "cell_type": "code",
   "execution_count": 24,
   "metadata": {
    "collapsed": false
   },
   "outputs": [
    {
     "data": {
      "text/plain": [
       "<module 'mix' from 'mix.pyc'>"
      ]
     },
     "execution_count": 24,
     "metadata": {},
     "output_type": "execute_result"
    }
   ],
   "source": [
    "reload(mix)"
   ]
  },
  {
   "cell_type": "code",
   "execution_count": 25,
   "metadata": {
    "collapsed": false
   },
   "outputs": [],
   "source": [
    "c = mix.CompoundCollection()"
   ]
  },
  {
   "cell_type": "code",
   "execution_count": 26,
   "metadata": {
    "collapsed": false
   },
   "outputs": [
    {
     "data": {
      "text/html": [
       "<div>\n",
       "<table border=\"1\" class=\"dataframe\">\n",
       "  <thead>\n",
       "    <tr style=\"text-align: right;\">\n",
       "      <th></th>\n",
       "    </tr>\n",
       "  </thead>\n",
       "  <tbody>\n",
       "  </tbody>\n",
       "</table>\n",
       "</div>"
      ],
      "text/plain": [
       "CompoundCollection({'formulas': []})"
      ]
     },
     "metadata": {},
     "output_type": "display_data"
    },
    {
     "data": {
      "text/html": [
       "<div>\n",
       "<table border=\"1\" class=\"dataframe\">\n",
       "  <thead>\n",
       "    <tr style=\"text-align: right;\">\n",
       "      <th></th>\n",
       "      <th>name</th>\n",
       "      <th>measured</th>\n",
       "      <th>final</th>\n",
       "    </tr>\n",
       "  </thead>\n",
       "  <tbody>\n",
       "    <tr>\n",
       "      <th>0</th>\n",
       "      <td>FeO2H2O</td>\n",
       "      <td>FeO2H2O</td>\n",
       "      <td>--</td>\n",
       "    </tr>\n",
       "    <tr>\n",
       "      <th>1</th>\n",
       "      <td>CaO</td>\n",
       "      <td>CaO</td>\n",
       "      <td>--</td>\n",
       "    </tr>\n",
       "  </tbody>\n",
       "</table>\n",
       "</div>"
      ],
      "text/plain": [
       "CompoundCollection({'formulas': [{'measured': {'formula': 'FeO2+H2O'}}, {'measured': {'formula': 'CaO'}}]})"
      ]
     },
     "metadata": {},
     "output_type": "display_data"
    }
   ],
   "source": [
    "c = mix.CompoundCollection()\n",
    "display(c)\n",
    "\n",
    "#assign formulas\n",
    "c.formulas = ['FeO2+H2O','CaO']\n",
    "display(c)"
   ]
  },
  {
   "cell_type": "code",
   "execution_count": 27,
   "metadata": {
    "collapsed": true
   },
   "outputs": [],
   "source": [
    "c.append('H2O')"
   ]
  },
  {
   "cell_type": "code",
   "execution_count": 28,
   "metadata": {
    "collapsed": false
   },
   "outputs": [
    {
     "name": "stdout",
     "output_type": "stream",
     "text": [
      "{'measured': {'formula': 'FeO2+H2O'}}\n",
      "{'measured': {'formula': 'CaO'}}\n",
      "{'measured': {'formula': 'FeO2+H2O'}}\n",
      "{'measured': {'formula': 'CaO'}}\n",
      "['FeO2H2O', 'CaO', 'H2O']\n",
      "{'measured': {'formula': 'FeO2+H2O'}}\n",
      "{'measured': {'formula': 'CaO'}}\n",
      "{'measured': {'formula': 'FeO2+H2O'}}\n",
      "{'measured': {'formula': 'CaO'}}\n"
     ]
    }
   ],
   "source": [
    "#positional access\n",
    "print c[0]\n",
    "print c[1]\n",
    "\n",
    "#the above is equivalent to\n",
    "print c.formulas[0]\n",
    "print c.formulas[1]\n",
    "\n",
    "#can also access by name\n",
    "print c.keys()\n",
    "print c['FeO2H2O']\n",
    "print c['CaO']\n",
    "\n",
    "#can access by attribute\n",
    "print c.FeO2H2O\n",
    "print c.CaO"
   ]
  },
  {
   "cell_type": "code",
   "execution_count": 29,
   "metadata": {
    "collapsed": false
   },
   "outputs": [
    {
     "data": {
      "text/html": [
       "<p> Compound('FeO2+H2O',None) </p>"
      ],
      "text/plain": [
       "Compound({'formula': 'FeO2+H2O'})"
      ]
     },
     "metadata": {},
     "output_type": "display_data"
    },
    {
     "data": {
      "text/html": [
       "<p> Compound('FeO2+H2O',None) </p>"
      ],
      "text/plain": [
       "Compound({'formula': 'FeO2+H2O'})"
      ]
     },
     "metadata": {},
     "output_type": "display_data"
    }
   ],
   "source": [
    "#each member is a volatile compount\n",
    "display(c.FeO2H2O.measured)\n",
    "display(c.FeO2H2O.final)"
   ]
  },
  {
   "cell_type": "code",
   "execution_count": 30,
   "metadata": {
    "collapsed": false
   },
   "outputs": [
    {
     "data": {
      "text/plain": [
       "[CompoundVolatile({'measured': {'formula': 'FeO2+H2O'}, 'name': 'A'}),\n",
       " CompoundVolatile({'measured': {'formula': 'CaO'}, 'name': 'B'}),\n",
       " CompoundVolatile({'measured': {'formula': 'H2O'}})]"
      ]
     },
     "metadata": {},
     "output_type": "display_data"
    },
    {
     "data": {
      "text/html": [
       "<div>\n",
       "<table border=\"1\" class=\"dataframe\">\n",
       "  <thead>\n",
       "    <tr style=\"text-align: right;\">\n",
       "      <th></th>\n",
       "      <th>name</th>\n",
       "      <th>measured</th>\n",
       "      <th>final</th>\n",
       "    </tr>\n",
       "  </thead>\n",
       "  <tbody>\n",
       "    <tr>\n",
       "      <th>0</th>\n",
       "      <td>A</td>\n",
       "      <td>FeO2H2O</td>\n",
       "      <td>--</td>\n",
       "    </tr>\n",
       "    <tr>\n",
       "      <th>1</th>\n",
       "      <td>B</td>\n",
       "      <td>CaO</td>\n",
       "      <td>--</td>\n",
       "    </tr>\n",
       "    <tr>\n",
       "      <th>2</th>\n",
       "      <td>H2O</td>\n",
       "      <td>H2O</td>\n",
       "      <td>--</td>\n",
       "    </tr>\n",
       "  </tbody>\n",
       "</table>\n",
       "</div>"
      ],
      "text/plain": [
       "CompoundCollection({'formulas': [{'measured': {'formula': 'FeO2+H2O'}, 'name': 'A'}, {'measured': {'formula': 'CaO'}, 'name': 'B'}, {'measured': {'formula': 'H2O'}}]})"
      ]
     },
     "metadata": {},
     "output_type": "display_data"
    }
   ],
   "source": [
    "#more control\n",
    "c.formulas[0].name = 'A'\n",
    "c.formulas[1].name = 'B'\n",
    "display(c.formulas)\n",
    "display(c)"
   ]
  },
  {
   "cell_type": "code",
   "execution_count": 31,
   "metadata": {
    "collapsed": false
   },
   "outputs": [
    {
     "data": {
      "text/html": [
       "<div>\n",
       "<table border=\"1\" class=\"dataframe\">\n",
       "  <thead>\n",
       "    <tr style=\"text-align: right;\">\n",
       "      <th></th>\n",
       "      <th>name</th>\n",
       "      <th>measured</th>\n",
       "      <th>final</th>\n",
       "    </tr>\n",
       "  </thead>\n",
       "  <tbody>\n",
       "    <tr>\n",
       "      <th>0</th>\n",
       "      <td>A</td>\n",
       "      <td>FeO2H2O</td>\n",
       "      <td>--</td>\n",
       "    </tr>\n",
       "  </tbody>\n",
       "</table>\n",
       "</div>"
      ],
      "text/plain": [
       "CompoundVolatile({'measured': {'formula': 'FeO2+H2O'}, 'name': 'A'})"
      ]
     },
     "metadata": {},
     "output_type": "display_data"
    },
    {
     "data": {
      "text/html": [
       "<div>\n",
       "<table border=\"1\" class=\"dataframe\">\n",
       "  <thead>\n",
       "    <tr style=\"text-align: right;\">\n",
       "      <th></th>\n",
       "      <th>name</th>\n",
       "      <th>measured</th>\n",
       "      <th>final</th>\n",
       "    </tr>\n",
       "  </thead>\n",
       "  <tbody>\n",
       "    <tr>\n",
       "      <th>0</th>\n",
       "      <td>B</td>\n",
       "      <td>CaO</td>\n",
       "      <td>--</td>\n",
       "    </tr>\n",
       "  </tbody>\n",
       "</table>\n",
       "</div>"
      ],
      "text/plain": [
       "CompoundVolatile({'measured': {'formula': 'CaO'}, 'name': 'B'})"
      ]
     },
     "metadata": {},
     "output_type": "display_data"
    }
   ],
   "source": [
    "display(c['A'])\n",
    "display(c['B'])"
   ]
  },
  {
   "cell_type": "code",
   "execution_count": 32,
   "metadata": {
    "collapsed": false
   },
   "outputs": [
    {
     "data": {
      "text/html": [
       "<div>\n",
       "<table border=\"1\" class=\"dataframe\">\n",
       "  <thead>\n",
       "    <tr style=\"text-align: right;\">\n",
       "      <th></th>\n",
       "      <th>name</th>\n",
       "      <th>measured</th>\n",
       "      <th>final</th>\n",
       "    </tr>\n",
       "  </thead>\n",
       "  <tbody>\n",
       "    <tr>\n",
       "      <th>0</th>\n",
       "      <td>A</td>\n",
       "      <td>FeO2H2O</td>\n",
       "      <td>FeO2</td>\n",
       "    </tr>\n",
       "    <tr>\n",
       "      <th>1</th>\n",
       "      <td>B</td>\n",
       "      <td>CaO</td>\n",
       "      <td>--</td>\n",
       "    </tr>\n",
       "    <tr>\n",
       "      <th>2</th>\n",
       "      <td>H2O</td>\n",
       "      <td>H2O</td>\n",
       "      <td>--</td>\n",
       "    </tr>\n",
       "  </tbody>\n",
       "</table>\n",
       "</div>"
      ],
      "text/plain": [
       "CompoundCollection({'formulas': [{'measured': {'formula': 'FeO2+H2O'}, 'final': {'formula': 'FeO2'}, 'name': 'A'}, {'measured': {'formula': 'CaO'}, 'name': 'B'}, {'measured': {'formula': 'H2O'}}]})"
      ]
     },
     "metadata": {},
     "output_type": "display_data"
    }
   ],
   "source": [
    "#add in final formula for 'A'\n",
    "c.A.final = 'FeO2'\n",
    "\n",
    "display(c)\n",
    "#check atom\n",
    "c.A.check_atom('Fe')\n",
    "\n"
   ]
  },
  {
   "cell_type": "markdown",
   "metadata": {},
   "source": [
    "#Single glass bead\n",
    "    \n",
    " * container for making a glass\n",
    "\n",
    "## Forward calculation:\n",
    "\n",
    " * specify target atoms composition\n",
    " * specify source compounds\n",
    " * specify matrix material ('LiB4O7')\n",
    " * solve for masses of source compounds and matrix material\n",
    " \n",
    "## reverse calculation:\n",
    " * given measured masses of \"stuff\", get "
   ]
  },
  {
   "cell_type": "code",
   "execution_count": 33,
   "metadata": {
    "collapsed": false
   },
   "outputs": [
    {
     "data": {
      "text/plain": [
       "<module 'mix' from 'mix.pyc'>"
      ]
     },
     "execution_count": 33,
     "metadata": {},
     "output_type": "execute_result"
    }
   ],
   "source": [
    "reload(mix)"
   ]
  },
  {
   "cell_type": "code",
   "execution_count": 34,
   "metadata": {
    "collapsed": false
   },
   "outputs": [
    {
     "data": {
      "text/html": [
       "<div>\n",
       "<table border=\"1\" class=\"dataframe\">\n",
       "  <thead>\n",
       "    <tr style=\"text-align: right;\">\n",
       "      <th></th>\n",
       "      <th>name</th>\n",
       "      <th>measured</th>\n",
       "      <th>final</th>\n",
       "      <th>mass</th>\n",
       "    </tr>\n",
       "  </thead>\n",
       "  <tbody>\n",
       "    <tr>\n",
       "      <th>0</th>\n",
       "      <td>(H2O)0.0277542(CaO)0.00891625</td>\n",
       "      <td>(H2O)0.0277542(CaO)0.00891625</td>\n",
       "      <td>(CaO)0.00891625</td>\n",
       "      <td>0.279841</td>\n",
       "    </tr>\n",
       "    <tr>\n",
       "      <th>1</th>\n",
       "      <td>Fe2O3</td>\n",
       "      <td>Fe2O3</td>\n",
       "      <td>--</td>\n",
       "      <td>0.357436</td>\n",
       "    </tr>\n",
       "    <tr>\n",
       "      <th>2</th>\n",
       "      <td>LiB4O7</td>\n",
       "      <td>LiB4O7</td>\n",
       "      <td>--</td>\n",
       "      <td>0.502643</td>\n",
       "    </tr>\n",
       "    <tr>\n",
       "      <th>0</th>\n",
       "      <td>tot</td>\n",
       "      <td>--</td>\n",
       "      <td>--</td>\n",
       "      <td>1.000000</td>\n",
       "    </tr>\n",
       "  </tbody>\n",
       "</table>\n",
       "</div>"
      ],
      "text/plain": [
       "<mix.SingleBead at 0x1074cfc90>"
      ]
     },
     "metadata": {},
     "output_type": "display_data"
    }
   ],
   "source": [
    "matrix = mix.CompoundVolatile('LiB4O7')\n",
    "sourceA = mix.CompoundVolatile({'CaO':0.5,'H2O':0.5},{'CaO':0.5})\n",
    "sourceB = mix.CompoundVolatile('Fe2O3')\n",
    "sources = mix.CompoundCollection([sourceA,sourceB,matrix])\n",
    "#sources = mix.CompoundCollection([matrix,sourceA, sourceB])\n",
    "\n",
    "s = mix.SingleBead.from_targets({'Ca':0.1,'Fe':0.25},1.0,sources)\n",
    "display(s)"
   ]
  },
  {
   "cell_type": "code",
   "execution_count": 35,
   "metadata": {
    "collapsed": false
   },
   "outputs": [
    {
     "ename": "AttributeError",
     "evalue": "'list' object has no attribute 'keys'",
     "output_type": "error",
     "traceback": [
      "\u001b[0;31m---------------------------------------------------------------------------\u001b[0m",
      "\u001b[0;31mAttributeError\u001b[0m                            Traceback (most recent call last)",
      "\u001b[0;32m<ipython-input-35-8ca85fb86b47>\u001b[0m in \u001b[0;36m<module>\u001b[0;34m()\u001b[0m\n\u001b[0;32m----> 1\u001b[0;31m \u001b[0mmix\u001b[0m\u001b[0;34m.\u001b[0m\u001b[0mSingleBead\u001b[0m\u001b[0;34m.\u001b[0m\u001b[0mfrom_targets\u001b[0m\u001b[0;34m(\u001b[0m\u001b[0;34m[\u001b[0m\u001b[0;34m(\u001b[0m\u001b[0;34m'Ca'\u001b[0m\u001b[0;34m,\u001b[0m\u001b[0;36m0.1\u001b[0m\u001b[0;34m)\u001b[0m\u001b[0;34m,\u001b[0m\u001b[0;34m(\u001b[0m\u001b[0;34m'Fe'\u001b[0m\u001b[0;34m,\u001b[0m\u001b[0;36m0.25\u001b[0m\u001b[0;34m)\u001b[0m\u001b[0;34m]\u001b[0m\u001b[0;34m,\u001b[0m \u001b[0;36m1.0\u001b[0m\u001b[0;34m,\u001b[0m \u001b[0msources\u001b[0m\u001b[0;34m)\u001b[0m\u001b[0;34m\u001b[0m\u001b[0m\n\u001b[0m",
      "\u001b[0;32m/Users/wpk/Documents/Research/CurrentResearch/Projects/glassmaker/glassMaker/src/mix.pyc\u001b[0m in \u001b[0;36mfrom_targets\u001b[0;34m(targets, mass, sources, matrix, checks)\u001b[0m\n\u001b[1;32m    772\u001b[0m             \u001b[0msources_all\u001b[0m \u001b[0;34m=\u001b[0m \u001b[0msources\u001b[0m \u001b[0;34m+\u001b[0m\u001b[0;34m[\u001b[0m\u001b[0mmatrix\u001b[0m\u001b[0;34m]\u001b[0m\u001b[0;34m\u001b[0m\u001b[0m\n\u001b[1;32m    773\u001b[0m \u001b[0;34m\u001b[0m\u001b[0m\n\u001b[0;32m--> 774\u001b[0;31m         \u001b[0melements\u001b[0m \u001b[0;34m=\u001b[0m \u001b[0mtargets\u001b[0m\u001b[0;34m.\u001b[0m\u001b[0mkeys\u001b[0m\u001b[0;34m(\u001b[0m\u001b[0;34m)\u001b[0m\u001b[0;34m\u001b[0m\u001b[0m\n\u001b[0m\u001b[1;32m    775\u001b[0m         \u001b[0mmf\u001b[0m \u001b[0;34m=\u001b[0m \u001b[0;34m[\u001b[0m\u001b[0mtargets\u001b[0m\u001b[0;34m[\u001b[0m\u001b[0mk\u001b[0m\u001b[0;34m]\u001b[0m \u001b[0;32mfor\u001b[0m \u001b[0mk\u001b[0m \u001b[0;32min\u001b[0m \u001b[0melements\u001b[0m\u001b[0;34m]\u001b[0m\u001b[0;34m\u001b[0m\u001b[0m\n\u001b[1;32m    776\u001b[0m \u001b[0;34m\u001b[0m\u001b[0m\n",
      "\u001b[0;31mAttributeError\u001b[0m: 'list' object has no attribute 'keys'"
     ]
    }
   ],
   "source": [
    "mix.SingleBead.from_targets([('Ca',0.1),('Fe',0.25)], 1.0, sources)"
   ]
  },
  {
   "cell_type": "code",
   "execution_count": null,
   "metadata": {
    "collapsed": false
   },
   "outputs": [],
   "source": [
    "#if we in fact made this bead, we'd get the following compound\n",
    "display(s.final_compound)\n",
    "\n",
    "#with mass fractions\n",
    "s.final_compound.mass_fraction_round()"
   ]
  },
  {
   "cell_type": "code",
   "execution_count": 36,
   "metadata": {
    "collapsed": false
   },
   "outputs": [
    {
     "data": {
      "text/plain": [
       "array([ 0.27984131,  0.35743621,  0.50264314])"
      ]
     },
     "execution_count": 36,
     "metadata": {},
     "output_type": "execute_result"
    }
   ],
   "source": [
    "s.masses"
   ]
  },
  {
   "cell_type": "code",
   "execution_count": 37,
   "metadata": {
    "collapsed": false
   },
   "outputs": [
    {
     "data": {
      "text/html": [
       "<div>\n",
       "<table border=\"1\" class=\"dataframe\">\n",
       "  <thead>\n",
       "    <tr style=\"text-align: right;\">\n",
       "      <th></th>\n",
       "      <th>name</th>\n",
       "      <th>measured</th>\n",
       "      <th>final</th>\n",
       "      <th>mass</th>\n",
       "    </tr>\n",
       "  </thead>\n",
       "  <tbody>\n",
       "    <tr>\n",
       "      <th>0</th>\n",
       "      <td>(H2O)0.0277542(CaO)0.00891625</td>\n",
       "      <td>(H2O)0.0277542(CaO)0.00891625</td>\n",
       "      <td>(CaO)0.00891625</td>\n",
       "      <td>0.279841</td>\n",
       "    </tr>\n",
       "    <tr>\n",
       "      <th>1</th>\n",
       "      <td>Fe2O3</td>\n",
       "      <td>Fe2O3</td>\n",
       "      <td>--</td>\n",
       "      <td>0.357436</td>\n",
       "    </tr>\n",
       "    <tr>\n",
       "      <th>2</th>\n",
       "      <td>LiB4O7</td>\n",
       "      <td>LiB4O7</td>\n",
       "      <td>--</td>\n",
       "      <td>0.502643</td>\n",
       "    </tr>\n",
       "    <tr>\n",
       "      <th>0</th>\n",
       "      <td>tot</td>\n",
       "      <td>--</td>\n",
       "      <td>--</td>\n",
       "      <td>1.000000</td>\n",
       "    </tr>\n",
       "  </tbody>\n",
       "</table>\n",
       "</div>"
      ],
      "text/plain": [
       "<mix.SingleBead at 0x117c0e510>"
      ]
     },
     "execution_count": 37,
     "metadata": {},
     "output_type": "execute_result"
    }
   ],
   "source": [
    "bead = mix.SingleBead(sources,masses=s.masses)\n",
    "bead"
   ]
  },
  {
   "cell_type": "code",
   "execution_count": 38,
   "metadata": {
    "collapsed": false
   },
   "outputs": [
    {
     "data": {
      "text/html": [
       "<div>\n",
       "<table border=\"1\" class=\"dataframe\">\n",
       "  <thead>\n",
       "    <tr style=\"text-align: right;\">\n",
       "      <th></th>\n",
       "      <th>name</th>\n",
       "      <th>measured</th>\n",
       "      <th>final</th>\n",
       "      <th>mass</th>\n",
       "    </tr>\n",
       "  </thead>\n",
       "  <tbody>\n",
       "    <tr>\n",
       "      <th>0</th>\n",
       "      <td>(H2O)0.0277542(CaO)0.00891625</td>\n",
       "      <td>(H2O)0.0277542(CaO)0.00891625</td>\n",
       "      <td>(CaO)0.00891625</td>\n",
       "      <td>0.28</td>\n",
       "    </tr>\n",
       "    <tr>\n",
       "      <th>1</th>\n",
       "      <td>Fe2O3</td>\n",
       "      <td>Fe2O3</td>\n",
       "      <td>--</td>\n",
       "      <td>0.36</td>\n",
       "    </tr>\n",
       "    <tr>\n",
       "      <th>2</th>\n",
       "      <td>LiB4O7</td>\n",
       "      <td>LiB4O7</td>\n",
       "      <td>--</td>\n",
       "      <td>0.50</td>\n",
       "    </tr>\n",
       "    <tr>\n",
       "      <th>0</th>\n",
       "      <td>tot</td>\n",
       "      <td>--</td>\n",
       "      <td>--</td>\n",
       "      <td>1.00</td>\n",
       "    </tr>\n",
       "  </tbody>\n",
       "</table>\n",
       "</div>"
      ],
      "text/plain": [
       "<mix.SingleBead at 0x117c0e910>"
      ]
     },
     "metadata": {},
     "output_type": "display_data"
    }
   ],
   "source": [
    "#lets say we make a bead almost like this\n",
    "sM = mix.SingleBead(sources,masses=[0.28,0.36,0.50])#massTot=0.995)\n",
    "display(sM)"
   ]
  },
  {
   "cell_type": "code",
   "execution_count": 39,
   "metadata": {
    "collapsed": false
   },
   "outputs": [],
   "source": [
    "bead = mix.SingleBead(sources, masses=[0.28, 0.36, 0.5])"
   ]
  },
  {
   "cell_type": "code",
   "execution_count": 40,
   "metadata": {
    "collapsed": false
   },
   "outputs": [
    {
     "data": {
      "text/plain": [
       "superdict([('Fe', 0.2530584743350262),\n",
       "           ('No', 0.6463820208040236),\n",
       "           ('Ca', 0.10055950486095018)])"
      ]
     },
     "execution_count": 40,
     "metadata": {},
     "output_type": "execute_result"
    }
   ],
   "source": [
    "bead.final_compound_filtered(elements=['Fe','Ca'],mass=0.995).mass_fraction"
   ]
  },
  {
   "cell_type": "code",
   "execution_count": 41,
   "metadata": {
    "collapsed": false
   },
   "outputs": [
    {
     "data": {
      "text/html": [
       "<p> Compound('[('Ca', 0.10005670733664543), ('Fe', 0.2517931819633511), ('No', 0.6431501107000035)]',None) </p>"
      ],
      "text/plain": [
       "Compound({'formula': [('Ca', 0.10005670733664543), ('Fe', 0.2517931819633511), ('No', 0.6431501107000035)]})"
      ]
     },
     "metadata": {},
     "output_type": "display_data"
    },
    {
     "name": "stdout",
     "output_type": "stream",
     "text": [
      "0.995\n",
      "superdict([('Fe', 0.2530584743350262), ('No', 0.6463820208040236), ('Ca', 0.10055950486095018)])\n"
     ]
    }
   ],
   "source": [
    "#we make the bead, and find that the final mass is\n",
    "mass_total = 0.995 #grams\n",
    "\n",
    "#create a truncated Compound from sM\n",
    "bead = sM.final_compound_filtered(elements = ['Fe','Ca'],mass = mass_total)\n",
    "\n",
    "display(bead)\n",
    "\n",
    "print bead.mass\n",
    "print bead.mass_fraction\n",
    "\n",
    "#note that 'No' is used as a filler"
   ]
  },
  {
   "cell_type": "code",
   "execution_count": 42,
   "metadata": {
    "collapsed": false
   },
   "outputs": [
    {
     "data": {
      "text/plain": [
       "\"{'Ca': 0.10055950486095018, 'Fe': 0.2530584743350262, 'No': 0.6463820208040236}\""
      ]
     },
     "execution_count": 42,
     "metadata": {},
     "output_type": "execute_result"
    }
   ],
   "source": [
    "str(dict(sM.final_compound_filtered(elements=['Fe','Ca'], mass=mass_total).mass_fraction))"
   ]
  },
  {
   "cell_type": "code",
   "execution_count": 43,
   "metadata": {
    "collapsed": false
   },
   "outputs": [
    {
     "data": {
      "text/html": [
       "<p> Compound('[('Ca', 0.10005670733664541), ('Fe', 0.2517931819633511), ('No', 0.6431501107000035)]',None) </p>"
      ],
      "text/plain": [
       "Compound({'formula': [('Ca', 0.10005670733664541), ('Fe', 0.2517931819633511), ('No', 0.6431501107000035)]})"
      ]
     },
     "metadata": {},
     "output_type": "display_data"
    },
    {
     "name": "stdout",
     "output_type": "stream",
     "text": [
      "0.995\n",
      "superdict([('Fe', 0.2530584743350262), ('No', 0.6463820208040236), ('Ca', 0.10055950486095017)])\n"
     ]
    }
   ],
   "source": [
    "bead = sM.measured_compound_filtered(elements = ['Fe','Ca'],mass=mass_total)\n",
    "display(bead)\n",
    "\n",
    "print bead.mass\n",
    "print bead.mass_fraction"
   ]
  },
  {
   "cell_type": "code",
   "execution_count": null,
   "metadata": {
    "collapsed": true
   },
   "outputs": [],
   "source": []
  },
  {
   "cell_type": "markdown",
   "metadata": {},
   "source": [
    "#suggester"
   ]
  },
  {
   "cell_type": "code",
   "execution_count": 84,
   "metadata": {
    "collapsed": false
   },
   "outputs": [
    {
     "data": {
      "text/plain": [
       "<module 'mix' from 'mix.pyc'>"
      ]
     },
     "execution_count": 84,
     "metadata": {},
     "output_type": "execute_result"
    }
   ],
   "source": [
    "reload(mix)"
   ]
  },
  {
   "cell_type": "code",
   "execution_count": 85,
   "metadata": {
    "collapsed": true
   },
   "outputs": [],
   "source": [
    "matrix = mix.CompoundVolatile('LiB4O7',name = 'lithium_borate')\n",
    "sourceA = mix.CompoundVolatile({'CaO':0.5,'H2O':0.5},{'CaO':0.5},name='CaO')\n",
    "sourceB = mix.CompoundVolatile('Fe2O3')\n",
    "sources = mix.CompoundCollection([sourceA,sourceB,matrix])\n",
    "target_mass = 1.0"
   ]
  },
  {
   "cell_type": "code",
   "execution_count": 86,
   "metadata": {
    "collapsed": false
   },
   "outputs": [],
   "source": [
    "Suggester = mix.TargetMassFracSuggester(targets=[('Fe',(0.1,0.2)), ('Ca',(0.2, 0.3))],nsamples=5)"
   ]
  },
  {
   "cell_type": "code",
   "execution_count": 87,
   "metadata": {
    "collapsed": false
   },
   "outputs": [
    {
     "data": {
      "text/plain": [
       "OrderedDict([('Fe', (0.1, 0.2)), ('Ca', (0.2, 0.3))])"
      ]
     },
     "execution_count": 87,
     "metadata": {},
     "output_type": "execute_result"
    }
   ],
   "source": [
    "Suggester.targets['Fe'] = (0.1,0.2)\n",
    "Suggester.targets['Ca'] = (0.2,0.3)\n",
    "Suggester.targets"
   ]
  },
  {
   "cell_type": "code",
   "execution_count": 88,
   "metadata": {
    "collapsed": false
   },
   "outputs": [
    {
     "data": {
      "text/html": [
       "<div>\n",
       "<table border=\"1\" class=\"dataframe\">\n",
       "  <thead>\n",
       "    <tr>\n",
       "      <th></th>\n",
       "      <th colspan=\"3\" halign=\"left\">Ca</th>\n",
       "      <th colspan=\"3\" halign=\"left\">Fe</th>\n",
       "    </tr>\n",
       "    <tr>\n",
       "      <th></th>\n",
       "      <th>lb</th>\n",
       "      <th>sample</th>\n",
       "      <th>ub</th>\n",
       "      <th>lb</th>\n",
       "      <th>sample</th>\n",
       "      <th>ub</th>\n",
       "    </tr>\n",
       "  </thead>\n",
       "  <tbody>\n",
       "    <tr>\n",
       "      <th>0</th>\n",
       "      <td>-inf</td>\n",
       "      <td></td>\n",
       "      <td>0.2</td>\n",
       "      <td>-inf</td>\n",
       "      <td></td>\n",
       "      <td>0.1</td>\n",
       "    </tr>\n",
       "    <tr>\n",
       "      <th>1</th>\n",
       "      <td>0.200000</td>\n",
       "      <td></td>\n",
       "      <td>0.22</td>\n",
       "      <td>0.100000</td>\n",
       "      <td></td>\n",
       "      <td>0.12</td>\n",
       "    </tr>\n",
       "    <tr>\n",
       "      <th>2</th>\n",
       "      <td>0.220000</td>\n",
       "      <td></td>\n",
       "      <td>0.24</td>\n",
       "      <td>0.120000</td>\n",
       "      <td></td>\n",
       "      <td>0.14</td>\n",
       "    </tr>\n",
       "    <tr>\n",
       "      <th>3</th>\n",
       "      <td>0.240000</td>\n",
       "      <td></td>\n",
       "      <td>0.26</td>\n",
       "      <td>0.140000</td>\n",
       "      <td></td>\n",
       "      <td>0.16</td>\n",
       "    </tr>\n",
       "    <tr>\n",
       "      <th>4</th>\n",
       "      <td>0.260000</td>\n",
       "      <td></td>\n",
       "      <td>0.28</td>\n",
       "      <td>0.160000</td>\n",
       "      <td></td>\n",
       "      <td>0.18</td>\n",
       "    </tr>\n",
       "    <tr>\n",
       "      <th>5</th>\n",
       "      <td>0.280000</td>\n",
       "      <td></td>\n",
       "      <td>0.3</td>\n",
       "      <td>0.180000</td>\n",
       "      <td></td>\n",
       "      <td>0.2</td>\n",
       "    </tr>\n",
       "    <tr>\n",
       "      <th>6</th>\n",
       "      <td>0.300000</td>\n",
       "      <td></td>\n",
       "      <td>np.inf</td>\n",
       "      <td>0.200000</td>\n",
       "      <td></td>\n",
       "      <td>np.inf</td>\n",
       "    </tr>\n",
       "  </tbody>\n",
       "</table>\n",
       "</div>"
      ],
      "text/plain": [
       "         Ca                       Fe               \n",
       "         lb sample      ub        lb sample      ub\n",
       "0      -inf            0.2      -inf            0.1\n",
       "1  0.200000           0.22  0.100000           0.12\n",
       "2  0.220000           0.24  0.120000           0.14\n",
       "3  0.240000           0.26  0.140000           0.16\n",
       "4  0.260000           0.28  0.160000           0.18\n",
       "5  0.280000            0.3  0.180000            0.2\n",
       "6  0.300000         np.inf  0.200000         np.inf"
      ]
     },
     "execution_count": 88,
     "metadata": {},
     "output_type": "execute_result"
    }
   ],
   "source": [
    "Suggester.get_state()"
   ]
  },
  {
   "cell_type": "code",
   "execution_count": 89,
   "metadata": {
    "collapsed": true
   },
   "outputs": [],
   "source": [
    "#make first bead"
   ]
  },
  {
   "cell_type": "code",
   "execution_count": 92,
   "metadata": {
    "collapsed": true
   },
   "outputs": [],
   "source": [
    "mix.random.seed(10)"
   ]
  },
  {
   "cell_type": "code",
   "execution_count": 93,
   "metadata": {
    "collapsed": false
   },
   "outputs": [
    {
     "data": {
      "text/plain": [
       "{'Ca': 0.25, 'Fe': 0.15000000000000002}"
      ]
     },
     "execution_count": 93,
     "metadata": {},
     "output_type": "execute_result"
    }
   ],
   "source": [
    "suggestion = Suggester.make_suggestion()\n",
    "suggestion"
   ]
  },
  {
   "cell_type": "code",
   "execution_count": 94,
   "metadata": {
    "collapsed": false
   },
   "outputs": [
    {
     "data": {
      "text/html": [
       "<div>\n",
       "<table border=\"1\" class=\"dataframe\">\n",
       "  <thead>\n",
       "    <tr style=\"text-align: right;\">\n",
       "      <th></th>\n",
       "      <th>name</th>\n",
       "      <th>measured</th>\n",
       "      <th>final</th>\n",
       "      <th>mass</th>\n",
       "    </tr>\n",
       "  </thead>\n",
       "  <tbody>\n",
       "    <tr>\n",
       "      <th>0</th>\n",
       "      <td>CaO</td>\n",
       "      <td>(H2O)0.0277542(CaO)0.00891625</td>\n",
       "      <td>(CaO)0.00891625</td>\n",
       "      <td>0.699603</td>\n",
       "    </tr>\n",
       "    <tr>\n",
       "      <th>1</th>\n",
       "      <td>Fe2O3</td>\n",
       "      <td>Fe2O3</td>\n",
       "      <td>--</td>\n",
       "      <td>0.214462</td>\n",
       "    </tr>\n",
       "    <tr>\n",
       "      <th>2</th>\n",
       "      <td>lithium_borate</td>\n",
       "      <td>LiB4O7</td>\n",
       "      <td>--</td>\n",
       "      <td>0.435737</td>\n",
       "    </tr>\n",
       "    <tr>\n",
       "      <th>0</th>\n",
       "      <td>tot</td>\n",
       "      <td>--</td>\n",
       "      <td>--</td>\n",
       "      <td>1.000000</td>\n",
       "    </tr>\n",
       "  </tbody>\n",
       "</table>\n",
       "</div>"
      ],
      "text/plain": [
       "<mix.SingleBead at 0x117c17b50>"
      ]
     },
     "execution_count": 94,
     "metadata": {},
     "output_type": "execute_result"
    }
   ],
   "source": [
    "s = mix.SingleBead.from_targets(suggestion,target_mass,sources)\n",
    "s"
   ]
  },
  {
   "cell_type": "code",
   "execution_count": 306,
   "metadata": {
    "collapsed": false
   },
   "outputs": [
    {
     "data": {
      "text/html": [
       "<div>\n",
       "<table border=\"1\" class=\"dataframe\">\n",
       "  <thead>\n",
       "    <tr style=\"text-align: right;\">\n",
       "      <th></th>\n",
       "      <th>name</th>\n",
       "      <th>measured</th>\n",
       "      <th>final</th>\n",
       "      <th>mass</th>\n",
       "    </tr>\n",
       "  </thead>\n",
       "  <tbody>\n",
       "    <tr>\n",
       "      <th>0</th>\n",
       "      <td>CaO</td>\n",
       "      <td>(H2O)0.0277542(CaO)0.00891625</td>\n",
       "      <td>(CaO)0.00891625</td>\n",
       "      <td>0.70</td>\n",
       "    </tr>\n",
       "    <tr>\n",
       "      <th>1</th>\n",
       "      <td>Fe2O3</td>\n",
       "      <td>Fe2O3</td>\n",
       "      <td>--</td>\n",
       "      <td>0.21</td>\n",
       "    </tr>\n",
       "    <tr>\n",
       "      <th>2</th>\n",
       "      <td>lithium_borate</td>\n",
       "      <td>LiB4O7</td>\n",
       "      <td>--</td>\n",
       "      <td>0.44</td>\n",
       "    </tr>\n",
       "    <tr>\n",
       "      <th>0</th>\n",
       "      <td>tot</td>\n",
       "      <td>--</td>\n",
       "      <td>--</td>\n",
       "      <td>1.00</td>\n",
       "    </tr>\n",
       "  </tbody>\n",
       "</table>\n",
       "</div>"
      ],
      "text/plain": [
       "<mix.SingleBead at 0x117c0f510>"
      ]
     },
     "metadata": {},
     "output_type": "display_data"
    },
    {
     "data": {
      "text/html": [
       "<p> Compound('[('Ca', 0.2501417683416135), ('Fe', 0.14687935614528813), ('No', 0.5529788755130983)]',None) </p>"
      ],
      "text/plain": [
       "Compound({'formula': [('Ca', 0.2501417683416135), ('Fe', 0.14687935614528813), ('No', 0.5529788755130983)]})"
      ]
     },
     "metadata": {},
     "output_type": "display_data"
    },
    {
     "name": "stdout",
     "output_type": "stream",
     "text": [
      "superdict([('No', 0.582083026855893), ('Ca', 0.2633071245701195), ('Fe', 0.15460984857398752)])\n"
     ]
    }
   ],
   "source": [
    "#make actual bead\n",
    "sA = mix.SingleBead(sources,[0.70,0.21,0.44])\n",
    "display(sA)\n",
    "#mass ends up being 0.95\n",
    "bead = sA.measured_compound_filtered(['Ca','Fe'],0.95)\n",
    "display(bead)\n",
    "print bead.mass_fraction"
   ]
  },
  {
   "cell_type": "code",
   "execution_count": 316,
   "metadata": {
    "collapsed": false
   },
   "outputs": [
    {
     "data": {
      "text/plain": [
       "['Fe', 'Ca']"
      ]
     },
     "execution_count": 316,
     "metadata": {},
     "output_type": "execute_result"
    }
   ],
   "source": [
    "Suggester.targets.keys()"
   ]
  },
  {
   "cell_type": "code",
   "execution_count": 307,
   "metadata": {
    "collapsed": false
   },
   "outputs": [
    {
     "data": {
      "text/plain": [
       "superdict([('No', 0.582083026855893),\n",
       "           ('Ca', 0.2633071245701195),\n",
       "           ('Fe', 0.15460984857398752)])"
      ]
     },
     "execution_count": 307,
     "metadata": {},
     "output_type": "execute_result"
    }
   ],
   "source": [
    "bead.mass_fraction"
   ]
  },
  {
   "cell_type": "code",
   "execution_count": 310,
   "metadata": {
    "collapsed": false
   },
   "outputs": [],
   "source": [
    "Suggester._samples = []"
   ]
  },
  {
   "cell_type": "code",
   "execution_count": 312,
   "metadata": {
    "collapsed": true
   },
   "outputs": [],
   "source": [
    "Suggester.add_sample(**bead.mass_fraction)"
   ]
  },
  {
   "cell_type": "code",
   "execution_count": 313,
   "metadata": {
    "collapsed": false
   },
   "outputs": [
    {
     "data": {
      "text/html": [
       "<div>\n",
       "<table border=\"1\" class=\"dataframe\">\n",
       "  <thead>\n",
       "    <tr>\n",
       "      <th></th>\n",
       "      <th colspan=\"3\" halign=\"left\">Ca</th>\n",
       "      <th colspan=\"3\" halign=\"left\">Fe</th>\n",
       "    </tr>\n",
       "    <tr>\n",
       "      <th></th>\n",
       "      <th>lb</th>\n",
       "      <th>sample</th>\n",
       "      <th>ub</th>\n",
       "      <th>lb</th>\n",
       "      <th>sample</th>\n",
       "      <th>ub</th>\n",
       "    </tr>\n",
       "  </thead>\n",
       "  <tbody>\n",
       "    <tr>\n",
       "      <th>0</th>\n",
       "      <td>-inf</td>\n",
       "      <td></td>\n",
       "      <td>0.2</td>\n",
       "      <td>-inf</td>\n",
       "      <td></td>\n",
       "      <td>0.1</td>\n",
       "    </tr>\n",
       "    <tr>\n",
       "      <th>1</th>\n",
       "      <td>0.200000</td>\n",
       "      <td></td>\n",
       "      <td>0.22</td>\n",
       "      <td>0.100000</td>\n",
       "      <td></td>\n",
       "      <td>0.12</td>\n",
       "    </tr>\n",
       "    <tr>\n",
       "      <th>2</th>\n",
       "      <td>0.220000</td>\n",
       "      <td></td>\n",
       "      <td>0.24</td>\n",
       "      <td>0.120000</td>\n",
       "      <td></td>\n",
       "      <td>0.14</td>\n",
       "    </tr>\n",
       "    <tr>\n",
       "      <th>3</th>\n",
       "      <td>0.240000</td>\n",
       "      <td></td>\n",
       "      <td>0.26</td>\n",
       "      <td>0.140000</td>\n",
       "      <td>0</td>\n",
       "      <td>0.16</td>\n",
       "    </tr>\n",
       "    <tr>\n",
       "      <th>4</th>\n",
       "      <td>0.260000</td>\n",
       "      <td>0</td>\n",
       "      <td>0.28</td>\n",
       "      <td>0.160000</td>\n",
       "      <td></td>\n",
       "      <td>0.18</td>\n",
       "    </tr>\n",
       "    <tr>\n",
       "      <th>5</th>\n",
       "      <td>0.280000</td>\n",
       "      <td></td>\n",
       "      <td>0.3</td>\n",
       "      <td>0.180000</td>\n",
       "      <td></td>\n",
       "      <td>0.2</td>\n",
       "    </tr>\n",
       "    <tr>\n",
       "      <th>6</th>\n",
       "      <td>0.300000</td>\n",
       "      <td></td>\n",
       "      <td>np.inf</td>\n",
       "      <td>0.200000</td>\n",
       "      <td></td>\n",
       "      <td>np.inf</td>\n",
       "    </tr>\n",
       "  </tbody>\n",
       "</table>\n",
       "</div>"
      ],
      "text/plain": [
       "         Ca                       Fe               \n",
       "         lb sample      ub        lb sample      ub\n",
       "0      -inf            0.2      -inf            0.1\n",
       "1  0.200000           0.22  0.100000           0.12\n",
       "2  0.220000           0.24  0.120000           0.14\n",
       "3  0.240000           0.26  0.140000      0    0.16\n",
       "4  0.260000      0    0.28  0.160000           0.18\n",
       "5  0.280000            0.3  0.180000            0.2\n",
       "6  0.300000         np.inf  0.200000         np.inf"
      ]
     },
     "execution_count": 313,
     "metadata": {},
     "output_type": "execute_result"
    }
   ],
   "source": [
    "#note how the target was for 0.25 and 0.15, but we missed, no worries\n",
    "Suggester.get_state()"
   ]
  },
  {
   "cell_type": "code",
   "execution_count": 291,
   "metadata": {
    "collapsed": true
   },
   "outputs": [],
   "source": [
    "#again"
   ]
  },
  {
   "cell_type": "code",
   "execution_count": 292,
   "metadata": {
    "collapsed": false
   },
   "outputs": [
    {
     "data": {
      "text/plain": [
       "{'Ca': 0.21000000000000002, 'Fe': 0.16999999999999998}"
      ]
     },
     "execution_count": 292,
     "metadata": {},
     "output_type": "execute_result"
    }
   ],
   "source": [
    "suggestion = Suggester.make_suggestion()\n",
    "suggestion"
   ]
  },
  {
   "cell_type": "code",
   "execution_count": 293,
   "metadata": {
    "collapsed": false
   },
   "outputs": [
    {
     "data": {
      "text/html": [
       "<div>\n",
       "<table border=\"1\" class=\"dataframe\">\n",
       "  <thead>\n",
       "    <tr style=\"text-align: right;\">\n",
       "      <th></th>\n",
       "      <th>name</th>\n",
       "      <th>measured</th>\n",
       "      <th>final</th>\n",
       "      <th>mass</th>\n",
       "    </tr>\n",
       "  </thead>\n",
       "  <tbody>\n",
       "    <tr>\n",
       "      <th>0</th>\n",
       "      <td>CaO</td>\n",
       "      <td>(H2O)0.0277542(CaO)0.00891625</td>\n",
       "      <td>(CaO)0.00891625</td>\n",
       "      <td>0.587667</td>\n",
       "    </tr>\n",
       "    <tr>\n",
       "      <th>1</th>\n",
       "      <td>Fe2O3</td>\n",
       "      <td>Fe2O3</td>\n",
       "      <td>--</td>\n",
       "      <td>0.243057</td>\n",
       "    </tr>\n",
       "    <tr>\n",
       "      <th>2</th>\n",
       "      <td>lithium_borate</td>\n",
       "      <td>LiB4O7</td>\n",
       "      <td>--</td>\n",
       "      <td>0.463110</td>\n",
       "    </tr>\n",
       "    <tr>\n",
       "      <th>0</th>\n",
       "      <td>tot</td>\n",
       "      <td>--</td>\n",
       "      <td>--</td>\n",
       "      <td>1.000000</td>\n",
       "    </tr>\n",
       "  </tbody>\n",
       "</table>\n",
       "</div>"
      ],
      "text/plain": [
       "<mix.SingleBead at 0x11785c250>"
      ]
     },
     "execution_count": 293,
     "metadata": {},
     "output_type": "execute_result"
    }
   ],
   "source": [
    "s = mix.SingleBead.from_targets(suggestion,target_mass,sources)\n",
    "s"
   ]
  },
  {
   "cell_type": "code",
   "execution_count": 1259,
   "metadata": {
    "collapsed": false
   },
   "outputs": [
    {
     "data": {
      "text/html": [
       "<div>\n",
       "<table border=\"1\" class=\"dataframe\">\n",
       "  <thead>\n",
       "    <tr style=\"text-align: right;\">\n",
       "      <th></th>\n",
       "      <th>name</th>\n",
       "      <th>measured</th>\n",
       "      <th>final</th>\n",
       "      <th>mass</th>\n",
       "    </tr>\n",
       "  </thead>\n",
       "  <tbody>\n",
       "    <tr>\n",
       "      <th>0</th>\n",
       "      <td>CaO</td>\n",
       "      <td>(H2O)0.0277542(CaO)0.00891625</td>\n",
       "      <td>(CaO)0.00891625</td>\n",
       "      <td>0.70</td>\n",
       "    </tr>\n",
       "    <tr>\n",
       "      <th>1</th>\n",
       "      <td>Fe2O3</td>\n",
       "      <td>Fe2O3</td>\n",
       "      <td>--</td>\n",
       "      <td>0.19</td>\n",
       "    </tr>\n",
       "    <tr>\n",
       "      <th>2</th>\n",
       "      <td>lithium_borate</td>\n",
       "      <td>LiB4O7</td>\n",
       "      <td>--</td>\n",
       "      <td>0.46</td>\n",
       "    </tr>\n",
       "  </tbody>\n",
       "</table>\n",
       "</div>"
      ],
      "text/plain": [
       "<mix.SingleBead at 0x10a7d6d10>"
      ]
     },
     "metadata": {},
     "output_type": "display_data"
    },
    {
     "data": {
      "text/html": [
       "<p> Compound('[('Ca', 0.2501417683416135), ('Fe', 0.1328908460362131), ('No', 0.5669673856221733)]',None) </p>"
      ],
      "text/plain": [
       "Compound({'formula': [('Ca', 0.2501417683416135), ('Fe', 0.1328908460362131), ('No', 0.5669673856221733)]})"
      ]
     },
     "metadata": {},
     "output_type": "display_data"
    },
    {
     "name": "stdout",
     "output_type": "stream",
     "text": [
      "superdict([('Ca', 0.2633071245701195), ('No', 0.5968077743391298), ('Fe', 0.13988510109075064)])\n"
     ]
    }
   ],
   "source": [
    "#make an acutal bead\n",
    "#make actual bead\n",
    "sA = mix.SingleBead(sources,[0.70,0.19,0.46])\n",
    "display(sA)\n",
    "#mass ends up being 0.95\n",
    "bead = sA.measured_compound_filtered(['Ca','Fe'],0.95)\n",
    "display(bead)\n",
    "print bead.mass_fraction"
   ]
  },
  {
   "cell_type": "code",
   "execution_count": 1260,
   "metadata": {
    "collapsed": false
   },
   "outputs": [],
   "source": [
    "Suggester.add_sample(**bead.mass_fraction)"
   ]
  },
  {
   "cell_type": "code",
   "execution_count": 1261,
   "metadata": {
    "collapsed": false
   },
   "outputs": [
    {
     "data": {
      "text/html": [
       "<div>\n",
       "<table border=\"1\" class=\"dataframe\">\n",
       "  <thead>\n",
       "    <tr>\n",
       "      <th></th>\n",
       "      <th colspan=\"3\" halign=\"left\">Ca</th>\n",
       "      <th colspan=\"3\" halign=\"left\">Fe</th>\n",
       "    </tr>\n",
       "    <tr>\n",
       "      <th></th>\n",
       "      <th>lb</th>\n",
       "      <th>sample</th>\n",
       "      <th>ub</th>\n",
       "      <th>lb</th>\n",
       "      <th>sample</th>\n",
       "      <th>ub</th>\n",
       "    </tr>\n",
       "  </thead>\n",
       "  <tbody>\n",
       "    <tr>\n",
       "      <th>0</th>\n",
       "      <td>-inf</td>\n",
       "      <td></td>\n",
       "      <td>0.2</td>\n",
       "      <td>-inf</td>\n",
       "      <td></td>\n",
       "      <td>0.1</td>\n",
       "    </tr>\n",
       "    <tr>\n",
       "      <th>1</th>\n",
       "      <td>0.200000</td>\n",
       "      <td></td>\n",
       "      <td>0.22</td>\n",
       "      <td>0.100000</td>\n",
       "      <td></td>\n",
       "      <td>0.12</td>\n",
       "    </tr>\n",
       "    <tr>\n",
       "      <th>2</th>\n",
       "      <td>0.220000</td>\n",
       "      <td></td>\n",
       "      <td>0.24</td>\n",
       "      <td>0.120000</td>\n",
       "      <td>1</td>\n",
       "      <td>0.14</td>\n",
       "    </tr>\n",
       "    <tr>\n",
       "      <th>3</th>\n",
       "      <td>0.240000</td>\n",
       "      <td></td>\n",
       "      <td>0.26</td>\n",
       "      <td>0.140000</td>\n",
       "      <td>0</td>\n",
       "      <td>0.16</td>\n",
       "    </tr>\n",
       "    <tr>\n",
       "      <th>4</th>\n",
       "      <td>0.260000</td>\n",
       "      <td>0,1</td>\n",
       "      <td>0.28</td>\n",
       "      <td>0.160000</td>\n",
       "      <td></td>\n",
       "      <td>0.18</td>\n",
       "    </tr>\n",
       "    <tr>\n",
       "      <th>5</th>\n",
       "      <td>0.280000</td>\n",
       "      <td></td>\n",
       "      <td>0.3</td>\n",
       "      <td>0.180000</td>\n",
       "      <td></td>\n",
       "      <td>0.2</td>\n",
       "    </tr>\n",
       "    <tr>\n",
       "      <th>6</th>\n",
       "      <td>0.300000</td>\n",
       "      <td></td>\n",
       "      <td>np.inf</td>\n",
       "      <td>0.200000</td>\n",
       "      <td></td>\n",
       "      <td>np.inf</td>\n",
       "    </tr>\n",
       "  </tbody>\n",
       "</table>\n",
       "</div>"
      ],
      "text/plain": [
       "         Ca                       Fe               \n",
       "         lb sample      ub        lb sample      ub\n",
       "0      -inf            0.2      -inf            0.1\n",
       "1  0.200000           0.22  0.100000           0.12\n",
       "2  0.220000           0.24  0.120000      1    0.14\n",
       "3  0.240000           0.26  0.140000      0    0.16\n",
       "4  0.260000    0,1    0.28  0.160000           0.18\n",
       "5  0.280000            0.3  0.180000            0.2\n",
       "6  0.300000         np.inf  0.200000         np.inf"
      ]
     },
     "execution_count": 1261,
     "metadata": {},
     "output_type": "execute_result"
    }
   ],
   "source": [
    "Suggester.get_state()"
   ]
  },
  {
   "cell_type": "code",
   "execution_count": null,
   "metadata": {
    "collapsed": true
   },
   "outputs": [],
   "source": []
  }
 ],
 "metadata": {
  "kernelspec": {
   "display_name": "Python 2",
   "language": "python",
   "name": "python2"
  },
  "language_info": {
   "codemirror_mode": {
    "name": "ipython",
    "version": 2
   },
   "file_extension": ".py",
   "mimetype": "text/x-python",
   "name": "python",
   "nbconvert_exporter": "python",
   "pygments_lexer": "ipython2",
   "version": "2.7.11"
  }
 },
 "nbformat": 4,
 "nbformat_minor": 0
}
