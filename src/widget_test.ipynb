{
 "cells": [
  {
   "cell_type": "code",
   "execution_count": 1,
   "metadata": {
    "collapsed": true
   },
   "outputs": [],
   "source": [
    "import ipywidgets as widgets"
   ]
  },
  {
   "cell_type": "code",
   "execution_count": 2,
   "metadata": {},
   "outputs": [
    {
     "data": {
      "text/plain": [
       "<module 'global_widgets' from 'global_widgets.pyc'>"
      ]
     },
     "execution_count": 2,
     "metadata": {},
     "output_type": "execute_result"
    }
   ],
   "source": [
    "import global_widgets\n",
    "reload(global_widgets)"
   ]
  },
  {
   "cell_type": "code",
   "execution_count": 657,
   "metadata": {},
   "outputs": [
    {
     "data": {
      "text/plain": [
       "<module 'mix' from 'mix.pyc'>"
      ]
     },
     "execution_count": 657,
     "metadata": {},
     "output_type": "execute_result"
    }
   ],
   "source": [
    "import mix\n",
    "reload(mix)"
   ]
  },
  {
   "cell_type": "code",
   "execution_count": 658,
   "metadata": {},
   "outputs": [
    {
     "data": {
      "text/plain": [
       "<module 'SamplePlotter' from 'SamplePlotter.pyc'>"
      ]
     },
     "execution_count": 658,
     "metadata": {},
     "output_type": "execute_result"
    }
   ],
   "source": [
    "import SamplePlotter\n",
    "reload(SamplePlotter)"
   ]
  },
  {
   "cell_type": "code",
   "execution_count": 659,
   "metadata": {},
   "outputs": [],
   "source": [
    "s = SamplePlotter.SamplePlotter()"
   ]
  },
  {
   "cell_type": "code",
   "execution_count": 660,
   "metadata": {
    "collapsed": true
   },
   "outputs": [],
   "source": [
    "s.elements = ('Fe','Ca')\n",
    "s.bounds = ((0.2,0.4),(0.3,0.5))\n",
    "s.nbin = 4"
   ]
  },
  {
   "cell_type": "code",
   "execution_count": 661,
   "metadata": {},
   "outputs": [],
   "source": [
    "x = SamplePlotter.SamplePlotter(5,elements=['Fe','Ca'],bounds=[(0.2,0.4),(0.3,0.5)])\n"
   ]
  },
  {
   "cell_type": "markdown",
   "metadata": {
    "collapsed": true
   },
   "source": [
    "# element widgets"
   ]
  },
  {
   "cell_type": "code",
   "execution_count": 662,
   "metadata": {},
   "outputs": [
    {
     "data": {
      "text/plain": [
       "<module 'global_widgets' from 'global_widgets.pyc'>"
      ]
     },
     "execution_count": 662,
     "metadata": {},
     "output_type": "execute_result"
    }
   ],
   "source": [
    "reload(global_widgets)"
   ]
  },
  {
   "cell_type": "code",
   "execution_count": 663,
   "metadata": {
    "collapsed": true
   },
   "outputs": [],
   "source": [
    "elist = [{'element': 'Fe', 'massfrac_max': 0.2, 'massfrac_min': 0.1},\n",
    " {'element': 'Ca', 'massfrac_max': 0.3, 'massfrac_min': 0.2}]"
   ]
  },
  {
   "cell_type": "code",
   "execution_count": 983,
   "metadata": {
    "collapsed": true
   },
   "outputs": [],
   "source": [
    "elements = global_widgets.elements(4)\n",
    "elements.widget"
   ]
  },
  {
   "cell_type": "code",
   "execution_count": 1017,
   "metadata": {
    "collapsed": true
   },
   "outputs": [],
   "source": [
    "elements.set_by_dicts(elist)"
   ]
  },
  {
   "cell_type": "markdown",
   "metadata": {},
   "source": [
    "# sources widget"
   ]
  },
  {
   "cell_type": "code",
   "execution_count": 1001,
   "metadata": {
    "collapsed": true
   },
   "outputs": [],
   "source": [
    "slist = [[{'compound': u'LiB4O7',\n",
    "   'mass': u'1.0',\n",
    "   'type': 'manual',\n",
    "   'volatile': False}],\n",
    " [{'compound': 'CaO',\n",
    "   'element': u'Ca',\n",
    "   'mass': u'0.5',\n",
    "   'type': 'oxide',\n",
    "   'volatile': False},\n",
    "  {'compound': u'H2O', 'mass': u'0.5', 'type': 'manual', 'volatile': True}],\n",
    " [{'compound': 'Fe2O3',\n",
    "   'element': u'Fe',\n",
    "   'mass': u'1.0',\n",
    "   'type': 'oxide',\n",
    "   'volatile': False}]]"
   ]
  },
  {
   "cell_type": "code",
   "execution_count": 1002,
   "metadata": {},
   "outputs": [
    {
     "data": {
      "text/plain": [
       "<module 'global_widgets' from 'global_widgets.py'>"
      ]
     },
     "execution_count": 1002,
     "metadata": {},
     "output_type": "execute_result"
    }
   ],
   "source": [
    "reload(global_widgets)"
   ]
  },
  {
   "cell_type": "code",
   "execution_count": 1003,
   "metadata": {
    "collapsed": true
   },
   "outputs": [],
   "source": [
    "sources = global_widgets.TabSources(3)\n",
    "sources.widget"
   ]
  },
  {
   "cell_type": "code",
   "execution_count": 1004,
   "metadata": {
    "collapsed": true
   },
   "outputs": [],
   "source": [
    "sources.set_by_dicts(slist)"
   ]
  },
  {
   "cell_type": "markdown",
   "metadata": {},
   "source": [
    "# Single bead"
   ]
  },
  {
   "cell_type": "code",
   "execution_count": 1005,
   "metadata": {},
   "outputs": [
    {
     "data": {
      "text/plain": [
       "<module 'global_widgets' from 'global_widgets.pyc'>"
      ]
     },
     "execution_count": 1005,
     "metadata": {},
     "output_type": "execute_result"
    }
   ],
   "source": [
    "reload(global_widgets)"
   ]
  },
  {
   "cell_type": "code",
   "execution_count": 1006,
   "metadata": {
    "collapsed": true
   },
   "outputs": [],
   "source": [
    "mdict = {'mass_total_measured': 0.995,\n",
    " 'mass_total_suggested': 1.0,\n",
    " 'source_masses_measured': [0.5, 0.28, 0.36],\n",
    " 'source_masses_suggested': [0.502643137917, 0.279841309447, 0.35743620736],\n",
    " 'target_masses': [0.1, 0.25]}\n"
   ]
  },
  {
   "cell_type": "code",
   "execution_count": 1008,
   "metadata": {},
   "outputs": [
    {
     "data": {
      "text/plain": [
       "[('Fe', (0.1, 0.2)), ('Ca', (0.2, 0.3)), ('H', (0.0, 0.0))]"
      ]
     },
     "execution_count": 1008,
     "metadata": {},
     "output_type": "execute_result"
    }
   ],
   "source": [
    "elements.to_list_of_tuples()"
   ]
  },
  {
   "cell_type": "code",
   "execution_count": 1010,
   "metadata": {},
   "outputs": [],
   "source": [
    "bead = global_widgets.SingleBead(targets=['Fe','Ca'], sources=sources.to_CompoundCollection())"
   ]
  },
  {
   "cell_type": "code",
   "execution_count": 1011,
   "metadata": {
    "collapsed": true
   },
   "outputs": [],
   "source": [
    "bead.widget"
   ]
  },
  {
   "cell_type": "code",
   "execution_count": 1012,
   "metadata": {
    "collapsed": true
   },
   "outputs": [],
   "source": [
    "bead.set_by_values(**mdict)"
   ]
  },
  {
   "cell_type": "markdown",
   "metadata": {},
   "source": [
    "# bead collection"
   ]
  },
  {
   "cell_type": "code",
   "execution_count": 1013,
   "metadata": {},
   "outputs": [
    {
     "data": {
      "text/plain": [
       "<module 'global_widgets' from 'global_widgets.pyc'>"
      ]
     },
     "execution_count": 1013,
     "metadata": {},
     "output_type": "execute_result"
    }
   ],
   "source": [
    "reload(global_widgets)"
   ]
  },
  {
   "cell_type": "code",
   "execution_count": 1018,
   "metadata": {},
   "outputs": [],
   "source": [
    "x=global_widgets.TabSuggester(targets=elements.to_list_of_tuples(),sources=sources.to_CompoundCollection())"
   ]
  },
  {
   "cell_type": "code",
   "execution_count": 1019,
   "metadata": {},
   "outputs": [
    {
     "data": {
      "text/plain": [
       "[('Fe', (0.1, 0.2)), ('Ca', (0.2, 0.3))]"
      ]
     },
     "execution_count": 1019,
     "metadata": {},
     "output_type": "execute_result"
    }
   ],
   "source": [
    "elements.to_list_of_tuples()"
   ]
  },
  {
   "cell_type": "code",
   "execution_count": 1020,
   "metadata": {},
   "outputs": [],
   "source": [
    "x.widget"
   ]
  },
  {
   "cell_type": "code",
   "execution_count": 1088,
   "metadata": {},
   "outputs": [
    {
     "data": {
      "text/plain": [
       "2"
      ]
     },
     "execution_count": 1088,
     "metadata": {},
     "output_type": "execute_result"
    }
   ],
   "source": [
    "elements.ncomp"
   ]
  },
  {
   "cell_type": "code",
   "execution_count": 1023,
   "metadata": {},
   "outputs": [],
   "source": [
    "sample_dict = {'nbin': 5,\n",
    " 'nsample': 5,\n",
    " 'sample': [{'mass_total_measured': 0.995,\n",
    "   'mass_total_suggested': 1.0,\n",
    "   'source_masses_measured': [0.5, 0.28, 0.36],\n",
    "   'source_masses_suggested': [0.502643137917, 0.279841309447, 0.35743620736],\n",
    "   'target_masses': [0.1, 0.25]},\n",
    "  {'mass_total_measured': 0.995,\n",
    "   'mass_total_suggested': 1.0,\n",
    "   'source_masses_measured': [0.5, 0.28, 0.36],\n",
    "   'source_masses_suggested': [0.502643137917, 0.279841309447, 0.35743620736],\n",
    "   'target_masses': [0.1, 0.25]},\n",
    "  {'mass_total_measured': u'',\n",
    "   'mass_total_suggested': u'',\n",
    "   'source_masses_measured': [u'', u'', u''],\n",
    "   'source_masses_suggested': [u'', u'', u''],\n",
    "   'target_masses': [u'', u'']},\n",
    "  {'mass_total_measured': u'',\n",
    "   'mass_total_suggested': u'',\n",
    "   'source_masses_measured': [u'', u'', u''],\n",
    "   'source_masses_suggested': [u'', u'', u''],\n",
    "   'target_masses': [u'', u'']},\n",
    "  {'mass_total_measured': u'',\n",
    "   'mass_total_suggested': u'',\n",
    "   'source_masses_measured': [u'', u'', u''],\n",
    "   'source_masses_suggested': [u'', u'', u''],\n",
    "   'target_masses': [u'', u'']}]}"
   ]
  },
  {
   "cell_type": "code",
   "execution_count": 1025,
   "metadata": {},
   "outputs": [],
   "source": [
    "x.set_by_values(**sample_dict)"
   ]
  },
  {
   "cell_type": "code",
   "execution_count": 1026,
   "metadata": {
    "collapsed": true
   },
   "outputs": [],
   "source": [
    "# global"
   ]
  },
  {
   "cell_type": "code",
   "execution_count": 1094,
   "metadata": {},
   "outputs": [
    {
     "data": {
      "text/plain": [
       "<module 'global_widgets' from 'global_widgets.py'>"
      ]
     },
     "execution_count": 1094,
     "metadata": {},
     "output_type": "execute_result"
    }
   ],
   "source": [
    "reload(global_widgets)"
   ]
  },
  {
   "cell_type": "code",
   "execution_count": 1095,
   "metadata": {},
   "outputs": [],
   "source": [
    "w = global_widgets.GlobalWidget()"
   ]
  },
  {
   "cell_type": "code",
   "execution_count": 1096,
   "metadata": {},
   "outputs": [],
   "source": [
    "w._widget"
   ]
  },
  {
   "cell_type": "code",
   "execution_count": 1097,
   "metadata": {
    "collapsed": true
   },
   "outputs": [],
   "source": [
    "w._elements.set_by_dicts(elist)"
   ]
  },
  {
   "cell_type": "code",
   "execution_count": 1098,
   "metadata": {
    "collapsed": true
   },
   "outputs": [],
   "source": [
    "w._sources.set_by_dicts(slist)"
   ]
  },
  {
   "cell_type": "code",
   "execution_count": 1052,
   "metadata": {
    "collapsed": true
   },
   "outputs": [],
   "source": [
    "import json"
   ]
  },
  {
   "cell_type": "code",
   "execution_count": 1057,
   "metadata": {},
   "outputs": [
    {
     "data": {
      "text/plain": [
       "[{'element': 'Fe', 'massfrac_max': 0.2, 'massfrac_min': 0.1},\n",
       " {'element': 'Ca', 'massfrac_max': 0.3, 'massfrac_min': 0.2}]"
      ]
     },
     "execution_count": 1057,
     "metadata": {},
     "output_type": "execute_result"
    }
   ],
   "source": [
    "elist"
   ]
  },
  {
   "cell_type": "code",
   "execution_count": 1058,
   "metadata": {},
   "outputs": [
    {
     "data": {
      "text/plain": [
       "[[{'compound': u'LiB4O7',\n",
       "   'mass': u'1.0',\n",
       "   'type': 'manual',\n",
       "   'volatile': False}],\n",
       " [{'compound': 'CaO',\n",
       "   'element': u'Ca',\n",
       "   'mass': u'0.5',\n",
       "   'type': 'oxide',\n",
       "   'volatile': False},\n",
       "  {'compound': u'H2O', 'mass': u'0.5', 'type': 'manual', 'volatile': True}],\n",
       " [{'compound': 'Fe2O3',\n",
       "   'element': u'Fe',\n",
       "   'mass': u'1.0',\n",
       "   'type': 'oxide',\n",
       "   'volatile': False}]]"
      ]
     },
     "execution_count": 1058,
     "metadata": {},
     "output_type": "execute_result"
    }
   ],
   "source": [
    "slist"
   ]
  },
  {
   "cell_type": "code",
   "execution_count": 1060,
   "metadata": {},
   "outputs": [
    {
     "data": {
      "text/plain": [
       "{'nbin': 5,\n",
       " 'nsample': 5,\n",
       " 'sample': [{'mass_total_measured': 0.995,\n",
       "   'mass_total_suggested': 1.0,\n",
       "   'source_masses_measured': [0.5, 0.28, 0.36],\n",
       "   'source_masses_suggested': [0.502643137917, 0.279841309447, 0.35743620736],\n",
       "   'target_masses': [0.1, 0.25]},\n",
       "  {'mass_total_measured': 0.995,\n",
       "   'mass_total_suggested': 1.0,\n",
       "   'source_masses_measured': [0.5, 0.28, 0.36],\n",
       "   'source_masses_suggested': [0.502643137917, 0.279841309447, 0.35743620736],\n",
       "   'target_masses': [0.1, 0.25]},\n",
       "  {'mass_total_measured': u'',\n",
       "   'mass_total_suggested': u'',\n",
       "   'source_masses_measured': [u'', u'', u''],\n",
       "   'source_masses_suggested': [u'', u'', u''],\n",
       "   'target_masses': [u'', u'']},\n",
       "  {'mass_total_measured': u'',\n",
       "   'mass_total_suggested': u'',\n",
       "   'source_masses_measured': [u'', u'', u''],\n",
       "   'source_masses_suggested': [u'', u'', u''],\n",
       "   'target_masses': [u'', u'']},\n",
       "  {'mass_total_measured': u'',\n",
       "   'mass_total_suggested': u'',\n",
       "   'source_masses_measured': [u'', u'', u''],\n",
       "   'source_masses_suggested': [u'', u'', u''],\n",
       "   'target_masses': [u'', u'']}]}"
      ]
     },
     "execution_count": 1060,
     "metadata": {},
     "output_type": "execute_result"
    }
   ],
   "source": [
    "sample_dict"
   ]
  },
  {
   "cell_type": "code",
   "execution_count": 1077,
   "metadata": {
    "collapsed": true
   },
   "outputs": [],
   "source": [
    "d = {'elements':elist, 'sources':slist, 'samples':None}#sample_dict}"
   ]
  },
  {
   "cell_type": "code",
   "execution_count": 1079,
   "metadata": {
    "collapsed": true
   },
   "outputs": [],
   "source": [
    "with open('tmp.json','w') as f:\n",
    "    json.dump(d,f, indent=2)"
   ]
  },
  {
   "cell_type": "code",
   "execution_count": 1080,
   "metadata": {
    "collapsed": true
   },
   "outputs": [],
   "source": [
    "with open('tmp.json','r') as f:\n",
    "    d2 = json.load(f)"
   ]
  },
  {
   "cell_type": "code",
   "execution_count": 1084,
   "metadata": {},
   "outputs": [],
   "source": [
    "d2['samples']"
   ]
  },
  {
   "cell_type": "code",
   "execution_count": 1062,
   "metadata": {},
   "outputs": [
    {
     "data": {
      "text/plain": [
       "'{\"sources\": [[{\"type\": \"manual\", \"volatile\": false, \"mass\": \"1.0\", \"compound\": \"LiB4O7\"}], [{\"type\": \"oxide\", \"element\": \"Ca\", \"mass\": \"0.5\", \"volatile\": false, \"compound\": \"CaO\"}, {\"type\": \"manual\", \"volatile\": true, \"mass\": \"0.5\", \"compound\": \"H2O\"}], [{\"type\": \"oxide\", \"element\": \"Fe\", \"mass\": \"1.0\", \"volatile\": false, \"compound\": \"Fe2O3\"}]], \"elements\": [{\"massfrac_min\": 0.1, \"massfrac_max\": 0.2, \"element\": \"Fe\"}, {\"massfrac_min\": 0.2, \"massfrac_max\": 0.3, \"element\": \"Ca\"}], \"samples\": {\"sample\": [{\"target_masses\": [0.1, 0.25], \"mass_total_suggested\": 1.0, \"source_masses_measured\": [0.5, 0.28, 0.36], \"mass_total_measured\": 0.995, \"source_masses_suggested\": [0.502643137917, 0.279841309447, 0.35743620736]}, {\"target_masses\": [0.1, 0.25], \"mass_total_suggested\": 1.0, \"source_masses_measured\": [0.5, 0.28, 0.36], \"mass_total_measured\": 0.995, \"source_masses_suggested\": [0.502643137917, 0.279841309447, 0.35743620736]}, {\"target_masses\": [\"\", \"\"], \"mass_total_suggested\": \"\", \"source_masses_measured\": [\"\", \"\", \"\"], \"mass_total_measured\": \"\", \"source_masses_suggested\": [\"\", \"\", \"\"]}, {\"target_masses\": [\"\", \"\"], \"mass_total_suggested\": \"\", \"source_masses_measured\": [\"\", \"\", \"\"], \"mass_total_measured\": \"\", \"source_masses_suggested\": [\"\", \"\", \"\"]}, {\"target_masses\": [\"\", \"\"], \"mass_total_suggested\": \"\", \"source_masses_measured\": [\"\", \"\", \"\"], \"mass_total_measured\": \"\", \"source_masses_suggested\": [\"\", \"\", \"\"]}], \"nbin\": 5, \"nsample\": 5}}'"
      ]
     },
     "execution_count": 1062,
     "metadata": {},
     "output_type": "execute_result"
    }
   ],
   "source": [
    "json.dumps(d)"
   ]
  },
  {
   "cell_type": "code",
   "execution_count": 1051,
   "metadata": {},
   "outputs": [
    {
     "data": {
      "text/plain": [
       "{'nbin': 5,\n",
       " 'nsample': 5,\n",
       " 'sample': [{'mass_total_measured': 0.995,\n",
       "   'mass_total_suggested': 1.0,\n",
       "   'source_masses_measured': [0.5, 0.28, 0.36],\n",
       "   'source_masses_suggested': [0.502643137917, 0.279841309447, 0.35743620736],\n",
       "   'target_masses': [0.1, 0.25]},\n",
       "  {'mass_total_measured': 0.995,\n",
       "   'mass_total_suggested': 1.0,\n",
       "   'source_masses_measured': [0.5, 0.28, 0.36],\n",
       "   'source_masses_suggested': [0.502643137917, 0.279841309447, 0.35743620736],\n",
       "   'target_masses': [0.1, 0.25]},\n",
       "  {'mass_total_measured': u'',\n",
       "   'mass_total_suggested': u'',\n",
       "   'source_masses_measured': [u'', u'', u''],\n",
       "   'source_masses_suggested': [u'', u'', u''],\n",
       "   'target_masses': [u'', u'']},\n",
       "  {'mass_total_measured': u'',\n",
       "   'mass_total_suggested': u'',\n",
       "   'source_masses_measured': [u'', u'', u''],\n",
       "   'source_masses_suggested': [u'', u'', u''],\n",
       "   'target_masses': [u'', u'']},\n",
       "  {'mass_total_measured': u'',\n",
       "   'mass_total_suggested': u'',\n",
       "   'source_masses_measured': [u'', u'', u''],\n",
       "   'source_masses_suggested': [u'', u'', u''],\n",
       "   'target_masses': [u'', u'']}]}"
      ]
     },
     "execution_count": 1051,
     "metadata": {},
     "output_type": "execute_result"
    }
   ],
   "source": [
    "sample_dict\n"
   ]
  },
  {
   "cell_type": "code",
   "execution_count": null,
   "metadata": {
    "collapsed": true
   },
   "outputs": [],
   "source": []
  }
 ],
 "metadata": {
  "kernelspec": {
   "display_name": "Python [default]",
   "language": "python",
   "name": "python2"
  },
  "language_info": {
   "codemirror_mode": {
    "name": "ipython",
    "version": 2
   },
   "file_extension": ".py",
   "mimetype": "text/x-python",
   "name": "python",
   "nbconvert_exporter": "python",
   "pygments_lexer": "ipython2",
   "version": "2.7.13"
  },
  "toc": {
   "colors": {
    "hover_highlight": "#DAA520",
    "running_highlight": "#FF0000",
    "selected_highlight": "#FFD700"
   },
   "moveMenuLeft": true,
   "nav_menu": {
    "height": "84px",
    "width": "252px"
   },
   "navigate_menu": true,
   "number_sections": true,
   "sideBar": true,
   "threshold": 4,
   "toc_cell": false,
   "toc_section_display": "block",
   "toc_window_display": false,
   "widenNotebook": false
  },
  "widgets": {
   "state": {
    "11cb3969cbf2473aa8e280d3f82bb351": {
     "views": [
      {
       "cell_index": 22
      }
     ]
    },
    "34ce9eab4e844ea5a0604dbe57d2c02f": {
     "views": [
      {
       "cell_index": 15
      }
     ]
    },
    "3f1303d6ce2a430889f33304d9509b6d": {
     "views": [
      {
       "cell_index": 10
      }
     ]
    },
    "6e15fef0a019490eaa9d587273e7892a": {
     "views": [
      {
       "cell_index": 28
      }
     ]
    },
    "dfabcc10f6e640d2958db831cdcd99cd": {
     "views": [
      {
       "cell_index": 35
      }
     ]
    }
   },
   "version": "1.2.0"
  }
 },
 "nbformat": 4,
 "nbformat_minor": 1
}
