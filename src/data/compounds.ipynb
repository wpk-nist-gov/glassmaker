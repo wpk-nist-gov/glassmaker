{
 "cells": [
  {
   "cell_type": "markdown",
   "metadata": {},
   "source": [
    "#Main\n",
    "\n",
    "read in and edit the compounds in data.xls"
   ]
  },
  {
   "cell_type": "code",
   "execution_count": 1,
   "metadata": {
    "collapsed": false
   },
   "outputs": [],
   "source": [
    "import periodictable as PT\n",
    "import numpy as np\n",
    "from collections import OrderedDict as OD\n",
    "import pandas as pd\n",
    "import numpy as np"
   ]
  },
  {
   "cell_type": "code",
   "execution_count": 2,
   "metadata": {
    "collapsed": false
   },
   "outputs": [],
   "source": [
    "def clean_string(s):\n",
    "    #get rid of spaces\n",
    "    s=s.replace(\" \",\"\")\n",
    "    #get rid of funny plus sign\n",
    "    s=s.replace('\\xc2\\xb7','+')\n",
    "    #change [ to (\n",
    "    s=s.replace('[','(')\n",
    "    #change ] to )\n",
    "    s=s.replace(']',')')\n",
    "    return s\n",
    "    "
   ]
  },
  {
   "cell_type": "markdown",
   "metadata": {},
   "source": [
    "#check elements"
   ]
  },
  {
   "cell_type": "code",
   "execution_count": 3,
   "metadata": {
    "collapsed": false
   },
   "outputs": [],
   "source": [
    "#read elements from xls\n",
    "df_elements=pd.read_excel('./data.xlsx','Elements',index_col=None,skiprows=1)\n",
    "#write elements to csv\n",
    "df_elements.to_csv('./element.csv',index=False,encoding='utf-8')"
   ]
  },
  {
   "cell_type": "code",
   "execution_count": 5,
   "metadata": {
    "collapsed": false
   },
   "outputs": [],
   "source": [
    "#read elements from csv\n",
    "df_elements=pd.read_csv('./element.csv',encoding='utf-8')"
   ]
  },
  {
   "cell_type": "code",
   "execution_count": 6,
   "metadata": {
    "collapsed": false
   },
   "outputs": [
    {
     "data": {
      "text/html": [
       "<div>\n",
       "<table border=\"1\" class=\"dataframe\">\n",
       "  <thead>\n",
       "    <tr style=\"text-align: right;\">\n",
       "      <th></th>\n",
       "      <th>MW_1</th>\n",
       "      <th>MW_2</th>\n",
       "      <th>diff</th>\n",
       "      <th>number</th>\n",
       "      <th>symbol</th>\n",
       "    </tr>\n",
       "  </thead>\n",
       "  <tbody>\n",
       "    <tr>\n",
       "      <th>0</th>\n",
       "      <td>97.9072</td>\n",
       "      <td>98.000</td>\n",
       "      <td>0.000948</td>\n",
       "      <td>43</td>\n",
       "      <td>Tc</td>\n",
       "    </tr>\n",
       "    <tr>\n",
       "      <th>1</th>\n",
       "      <td>144.2420</td>\n",
       "      <td>144.240</td>\n",
       "      <td>0.000014</td>\n",
       "      <td>60</td>\n",
       "      <td>Nd</td>\n",
       "    </tr>\n",
       "    <tr>\n",
       "      <th>2</th>\n",
       "      <td>144.9127</td>\n",
       "      <td>145.000</td>\n",
       "      <td>0.000602</td>\n",
       "      <td>61</td>\n",
       "      <td>Pm</td>\n",
       "    </tr>\n",
       "    <tr>\n",
       "      <th>3</th>\n",
       "      <td>195.0840</td>\n",
       "      <td>195.078</td>\n",
       "      <td>0.000031</td>\n",
       "      <td>78</td>\n",
       "      <td>Pt</td>\n",
       "    </tr>\n",
       "    <tr>\n",
       "      <th>4</th>\n",
       "      <td>208.9824</td>\n",
       "      <td>209.000</td>\n",
       "      <td>0.000084</td>\n",
       "      <td>84</td>\n",
       "      <td>Po</td>\n",
       "    </tr>\n",
       "    <tr>\n",
       "      <th>5</th>\n",
       "      <td>209.9871</td>\n",
       "      <td>210.000</td>\n",
       "      <td>0.000061</td>\n",
       "      <td>85</td>\n",
       "      <td>At</td>\n",
       "    </tr>\n",
       "    <tr>\n",
       "      <th>6</th>\n",
       "      <td>222.0176</td>\n",
       "      <td>222.000</td>\n",
       "      <td>0.000079</td>\n",
       "      <td>86</td>\n",
       "      <td>Rn</td>\n",
       "    </tr>\n",
       "    <tr>\n",
       "      <th>7</th>\n",
       "      <td>223.0197</td>\n",
       "      <td>223.000</td>\n",
       "      <td>0.000088</td>\n",
       "      <td>87</td>\n",
       "      <td>Fr</td>\n",
       "    </tr>\n",
       "    <tr>\n",
       "      <th>8</th>\n",
       "      <td>226.0254</td>\n",
       "      <td>226.000</td>\n",
       "      <td>0.000112</td>\n",
       "      <td>88</td>\n",
       "      <td>Ra</td>\n",
       "    </tr>\n",
       "    <tr>\n",
       "      <th>9</th>\n",
       "      <td>227.0277</td>\n",
       "      <td>227.000</td>\n",
       "      <td>0.000122</td>\n",
       "      <td>89</td>\n",
       "      <td>Ac</td>\n",
       "    </tr>\n",
       "    <tr>\n",
       "      <th>10</th>\n",
       "      <td>237.0482</td>\n",
       "      <td>237.000</td>\n",
       "      <td>0.000203</td>\n",
       "      <td>93</td>\n",
       "      <td>Np</td>\n",
       "    </tr>\n",
       "    <tr>\n",
       "      <th>11</th>\n",
       "      <td>244.0642</td>\n",
       "      <td>244.000</td>\n",
       "      <td>0.000263</td>\n",
       "      <td>94</td>\n",
       "      <td>Pu</td>\n",
       "    </tr>\n",
       "    <tr>\n",
       "      <th>12</th>\n",
       "      <td>243.0614</td>\n",
       "      <td>243.000</td>\n",
       "      <td>0.000253</td>\n",
       "      <td>95</td>\n",
       "      <td>Am</td>\n",
       "    </tr>\n",
       "    <tr>\n",
       "      <th>13</th>\n",
       "      <td>247.0704</td>\n",
       "      <td>247.000</td>\n",
       "      <td>0.000285</td>\n",
       "      <td>96</td>\n",
       "      <td>Cm</td>\n",
       "    </tr>\n",
       "    <tr>\n",
       "      <th>14</th>\n",
       "      <td>247.0703</td>\n",
       "      <td>247.000</td>\n",
       "      <td>0.000285</td>\n",
       "      <td>97</td>\n",
       "      <td>Bk</td>\n",
       "    </tr>\n",
       "    <tr>\n",
       "      <th>15</th>\n",
       "      <td>251.0796</td>\n",
       "      <td>251.000</td>\n",
       "      <td>0.000317</td>\n",
       "      <td>98</td>\n",
       "      <td>Cf</td>\n",
       "    </tr>\n",
       "    <tr>\n",
       "      <th>16</th>\n",
       "      <td>252.0830</td>\n",
       "      <td>252.000</td>\n",
       "      <td>0.000329</td>\n",
       "      <td>99</td>\n",
       "      <td>Es</td>\n",
       "    </tr>\n",
       "    <tr>\n",
       "      <th>17</th>\n",
       "      <td>257.0951</td>\n",
       "      <td>257.000</td>\n",
       "      <td>0.000370</td>\n",
       "      <td>100</td>\n",
       "      <td>Fm</td>\n",
       "    </tr>\n",
       "    <tr>\n",
       "      <th>18</th>\n",
       "      <td>258.0984</td>\n",
       "      <td>258.000</td>\n",
       "      <td>0.000381</td>\n",
       "      <td>101</td>\n",
       "      <td>Md</td>\n",
       "    </tr>\n",
       "    <tr>\n",
       "      <th>19</th>\n",
       "      <td>259.1010</td>\n",
       "      <td>259.000</td>\n",
       "      <td>0.000390</td>\n",
       "      <td>102</td>\n",
       "      <td>No</td>\n",
       "    </tr>\n",
       "    <tr>\n",
       "      <th>20</th>\n",
       "      <td>262.1097</td>\n",
       "      <td>262.000</td>\n",
       "      <td>0.000419</td>\n",
       "      <td>103</td>\n",
       "      <td>Lr</td>\n",
       "    </tr>\n",
       "    <tr>\n",
       "      <th>21</th>\n",
       "      <td>261.1088</td>\n",
       "      <td>261.000</td>\n",
       "      <td>0.000417</td>\n",
       "      <td>104</td>\n",
       "      <td>Rf</td>\n",
       "    </tr>\n",
       "    <tr>\n",
       "      <th>22</th>\n",
       "      <td>262.1141</td>\n",
       "      <td>262.000</td>\n",
       "      <td>0.000435</td>\n",
       "      <td>105</td>\n",
       "      <td>Db</td>\n",
       "    </tr>\n",
       "    <tr>\n",
       "      <th>23</th>\n",
       "      <td>266.1219</td>\n",
       "      <td>266.000</td>\n",
       "      <td>0.000458</td>\n",
       "      <td>106</td>\n",
       "      <td>Sg</td>\n",
       "    </tr>\n",
       "    <tr>\n",
       "      <th>24</th>\n",
       "      <td>264.1200</td>\n",
       "      <td>264.000</td>\n",
       "      <td>0.000454</td>\n",
       "      <td>107</td>\n",
       "      <td>Bh</td>\n",
       "    </tr>\n",
       "    <tr>\n",
       "      <th>25</th>\n",
       "      <td>269.0000</td>\n",
       "      <td>277.000</td>\n",
       "      <td>0.029740</td>\n",
       "      <td>108</td>\n",
       "      <td>Hs</td>\n",
       "    </tr>\n",
       "    <tr>\n",
       "      <th>26</th>\n",
       "      <td>271.0000</td>\n",
       "      <td>281.000</td>\n",
       "      <td>0.036900</td>\n",
       "      <td>110</td>\n",
       "      <td>Ds</td>\n",
       "    </tr>\n",
       "    <tr>\n",
       "      <th>27</th>\n",
       "      <td>285.0000</td>\n",
       "      <td>NaN</td>\n",
       "      <td>100.000000</td>\n",
       "      <td>112</td>\n",
       "      <td>Uub</td>\n",
       "    </tr>\n",
       "    <tr>\n",
       "      <th>28</th>\n",
       "      <td>289.0000</td>\n",
       "      <td>292.000</td>\n",
       "      <td>0.010381</td>\n",
       "      <td>116</td>\n",
       "      <td>Uuh</td>\n",
       "    </tr>\n",
       "  </tbody>\n",
       "</table>\n",
       "</div>"
      ],
      "text/plain": [
       "        MW_1     MW_2        diff  number symbol\n",
       "0    97.9072   98.000    0.000948      43     Tc\n",
       "1   144.2420  144.240    0.000014      60     Nd\n",
       "2   144.9127  145.000    0.000602      61     Pm\n",
       "3   195.0840  195.078    0.000031      78     Pt\n",
       "4   208.9824  209.000    0.000084      84     Po\n",
       "5   209.9871  210.000    0.000061      85     At\n",
       "6   222.0176  222.000    0.000079      86     Rn\n",
       "7   223.0197  223.000    0.000088      87     Fr\n",
       "8   226.0254  226.000    0.000112      88     Ra\n",
       "9   227.0277  227.000    0.000122      89     Ac\n",
       "10  237.0482  237.000    0.000203      93     Np\n",
       "11  244.0642  244.000    0.000263      94     Pu\n",
       "12  243.0614  243.000    0.000253      95     Am\n",
       "13  247.0704  247.000    0.000285      96     Cm\n",
       "14  247.0703  247.000    0.000285      97     Bk\n",
       "15  251.0796  251.000    0.000317      98     Cf\n",
       "16  252.0830  252.000    0.000329      99     Es\n",
       "17  257.0951  257.000    0.000370     100     Fm\n",
       "18  258.0984  258.000    0.000381     101     Md\n",
       "19  259.1010  259.000    0.000390     102     No\n",
       "20  262.1097  262.000    0.000419     103     Lr\n",
       "21  261.1088  261.000    0.000417     104     Rf\n",
       "22  262.1141  262.000    0.000435     105     Db\n",
       "23  266.1219  266.000    0.000458     106     Sg\n",
       "24  264.1200  264.000    0.000454     107     Bh\n",
       "25  269.0000  277.000    0.029740     108     Hs\n",
       "26  271.0000  281.000    0.036900     110     Ds\n",
       "27  285.0000      NaN  100.000000     112    Uub\n",
       "28  289.0000  292.000    0.010381     116    Uuh"
      ]
     },
     "execution_count": 6,
     "metadata": {},
     "output_type": "execute_result"
    }
   ],
   "source": [
    "#check elements\n",
    "error_index=[]\n",
    "eps=1e-6\n",
    "for i,g in df_elements.iterrows():\n",
    "    \n",
    "    MW_1=g['Atomic Mass']\n",
    "    \n",
    "    \n",
    "    try:\n",
    "        MW_2=PT.elements.symbol(g.Symbol).mass\n",
    "        diff=np.abs(MW_1-MW_2)/MW_1\n",
    "        \n",
    "        if diff>eps:\n",
    "            PT.elements.symbol(g['Symbol'])._mass=MW_1\n",
    "        \n",
    "        \n",
    "    except:\n",
    "        MW_2=None\n",
    "        diff=100\n",
    "        \n",
    "        \n",
    "    \n",
    "    if diff>eps:\n",
    "        d=dict(symbol=g['Symbol'],number=g['Atomic Number'], \\\n",
    "               MW_1=MW_1,MW_2=MW_2,diff=diff)\n",
    "        error_index.append(d)\n",
    "\n",
    "    \n",
    "pd.DataFrame(error_index)"
   ]
  },
  {
   "cell_type": "code",
   "execution_count": 7,
   "metadata": {
    "collapsed": false
   },
   "outputs": [
    {
     "name": "stdout",
     "output_type": "stream",
     "text": [
      "element Uub not present\n"
     ]
    }
   ],
   "source": [
    "#adjust elements\n",
    "for i,g in df_elements.iterrows():\n",
    "    \n",
    "    MW_1=g['Atomic Mass']\n",
    "    try:\n",
    "        e=PT.elements.symbol(g.Symbol)\n",
    "        e._mass=MW_1\n",
    "    except:\n",
    "        print \"element %s not present\"%(g.Symbol)\n",
    "    "
   ]
  },
  {
   "cell_type": "markdown",
   "metadata": {},
   "source": [
    "#functions"
   ]
  },
  {
   "cell_type": "code",
   "execution_count": 8,
   "metadata": {
    "collapsed": false
   },
   "outputs": [],
   "source": [
    "def load_sheet(file_name,sheet_name,index_offset=2):\n",
    "    df=pd.read_excel(file_name,sheet_name)\n",
    "    \n",
    "    #alter index\n",
    "    df.index=df.index+index_offset\n",
    "    \n",
    "    #rename formula\n",
    "    #df=df.rename(columns={'Formula':'str_Formula'})\n",
    "    \n",
    "    return df\n",
    "\n",
    "def check_molecular_weigths(df,eps=1e-5):\n",
    "    error_index=[]\n",
    "    \n",
    "    for i,g in df.iterrows():\n",
    "        MW_1=g['MW']\n",
    "        try:\n",
    "            f=PT.formula(g['Formula'])\n",
    "            MW_2=f.mass\n",
    "            diff=np.abs(MW_1-MW_2)/MW_1\n",
    "        except:\n",
    "            f=None\n",
    "            MW_2=-1.0\n",
    "            diff=100.0\n",
    "\n",
    "        #get MW\n",
    "        diff=np.abs(MW_1-MW_2)/MW_1\n",
    "\n",
    "        if diff>eps:\n",
    "            d=dict(index=i,Formula=g['Formula'],MW_1=MW_1,MW_2=MW_2,diff=diff)\n",
    "            error_index.append(d)\n",
    "\n",
    "    \n",
    "    return pd.DataFrame(error_index)    \n",
    "\n",
    "def f_str_Elements(df):\n",
    "    return df.apply(lambda x: unicode([str(y) for y in PT.formula(x['Formula']).atoms.keys()]),axis=1)    \n",
    "\n",
    "def clean_string(s):\n",
    "    #get rid of spaces\n",
    "    s=s.replace(\" \",\"\")\n",
    "    #change [ to (\n",
    "    s=s.replace('[','(')\n",
    "    #change ] to )\n",
    "    s=s.replace(']',')')\n",
    "    return s\n",
    "\n",
    "\n",
    "def add_elements(df,c='Formula',cnew='source'):\n",
    "    \"\"\"\n",
    "    add in and stack element names\n",
    "    \"\"\"\n",
    "    \n",
    "    #get all the elements as columns\n",
    "    x = df[c].apply(lambda x:pd.Series([str(y) for y in PT.formula(x).atoms.keys()]))\n",
    "    #stack and drop bottom level\n",
    "    x = x.stack().reset_index(level=-1,drop=True)\n",
    "    #make a Dataframe with new column name\n",
    "    x = pd.DataFrame({cnew:x})\n",
    "    #merge in \n",
    "    t = df.copy()\n",
    "    return pd.concat((t,x),axis=1)\n",
    "    \n",
    "    "
   ]
  },
  {
   "cell_type": "code",
   "execution_count": 9,
   "metadata": {
    "collapsed": true
   },
   "outputs": [],
   "source": [
    "def add_elements(df,c='Formula',cnew='Target',mass_frac_name='mass_frac'):\n",
    "    \"\"\"\n",
    "    add in and stack element names\n",
    "    \"\"\"\n",
    "    \n",
    " \n",
    "    #get all the elements as columns\n",
    "    x = df[c].apply(lambda x:pd.Series({str(k):v for k,v in PT.formula(x).mass_fraction.iteritems()}))\n",
    "\n",
    "    #stack, frame, drop bottom level to column, add name'\n",
    "    x = pd.DataFrame({mass_frac_name:x.stack()}).reset_index(level=-1).rename(columns={'level_1':cnew})    \n",
    "\n",
    "    #merge in \n",
    "    t = df.copy()\n",
    "    return pd.concat((t,x),axis=1)\n",
    "    "
   ]
  },
  {
   "cell_type": "markdown",
   "metadata": {},
   "source": [
    "make a csv file with the following basic data\n",
    "\n",
    " * 'Name': name of compound (nan if not present)\n",
    " * 'Formula': string representation of formula\n",
    " * 'CAS': cas number (nan if not present)\n",
    " * 'Target': string rep for element if element in 'formula'\n",
    " * 'MassFrac': mass fraction of given 'Targe'\n",
    " "
   ]
  },
  {
   "cell_type": "markdown",
   "metadata": {},
   "source": [
    "#Acids"
   ]
  },
  {
   "cell_type": "code",
   "execution_count": 10,
   "metadata": {
    "collapsed": true
   },
   "outputs": [],
   "source": [
    "#for acid calculations, do something special.\n",
    "#consider acids in there pure form (no water) in calculation, then add in mass % of acid\n",
    "#this assumes that all the water will evaporate off."
   ]
  },
  {
   "cell_type": "code",
   "execution_count": 11,
   "metadata": {
    "collapsed": true
   },
   "outputs": [],
   "source": [
    "df = load_sheet('./data.xlsx','Acids')"
   ]
  },
  {
   "cell_type": "code",
   "execution_count": 12,
   "metadata": {
    "collapsed": true
   },
   "outputs": [],
   "source": [
    "df.to_csv('acid.csv',index=False,encoding='utf-8')"
   ]
  },
  {
   "cell_type": "code",
   "execution_count": 13,
   "metadata": {
    "collapsed": true
   },
   "outputs": [],
   "source": [
    "def get_molality(solute,solvent,mf_solute):\n",
    "    \"\"\"\n",
    "    returns molality (mol/g) of solute in solvent with mass fraction of solute=mf_solute\n",
    "    \"\"\"\n",
    "    if type(solute) is not PT.formulas.Formula:\n",
    "        solute=PT.formula(solute)\n",
    "    if type(solvent) is not PT.formulas.Formula:\n",
    "        solvent=PT.formula(solvent)\n",
    "        \n",
    "    mol_solute=mf_solute/solute.mass\n",
    "    mass_solvent=(1.-mf_solute)\n",
    "    return mol_solute/mass_solvent"
   ]
  },
  {
   "cell_type": "code",
   "execution_count": 14,
   "metadata": {
    "collapsed": true
   },
   "outputs": [],
   "source": [
    "t = add_elements(df)"
   ]
  },
  {
   "cell_type": "code",
   "execution_count": 15,
   "metadata": {
    "collapsed": false
   },
   "outputs": [],
   "source": [
    "t.to_csv('acid.csv',index=False,encoding='utf-8')"
   ]
  },
  {
   "cell_type": "markdown",
   "metadata": {},
   "source": [
    "#oxides"
   ]
  },
  {
   "cell_type": "code",
   "execution_count": 16,
   "metadata": {
    "collapsed": false
   },
   "outputs": [],
   "source": [
    "df=load_sheet('./data.xlsx','inorganic oxide')"
   ]
  },
  {
   "cell_type": "code",
   "execution_count": 17,
   "metadata": {
    "collapsed": false,
    "scrolled": true
   },
   "outputs": [
    {
     "data": {
      "text/html": [
       "<div>\n",
       "<table border=\"1\" class=\"dataframe\">\n",
       "  <thead>\n",
       "    <tr style=\"text-align: right;\">\n",
       "      <th></th>\n",
       "      <th>Formula</th>\n",
       "      <th>MW_1</th>\n",
       "      <th>MW_2</th>\n",
       "      <th>diff</th>\n",
       "      <th>index</th>\n",
       "    </tr>\n",
       "  </thead>\n",
       "  <tbody>\n",
       "    <tr>\n",
       "      <th>0</th>\n",
       "      <td>Ac2O3</td>\n",
       "      <td>502.000</td>\n",
       "      <td>502.053600</td>\n",
       "      <td>0.000107</td>\n",
       "      <td>2</td>\n",
       "    </tr>\n",
       "    <tr>\n",
       "      <th>1</th>\n",
       "      <td>AmO2</td>\n",
       "      <td>275.000</td>\n",
       "      <td>275.060200</td>\n",
       "      <td>0.000219</td>\n",
       "      <td>4</td>\n",
       "    </tr>\n",
       "    <tr>\n",
       "      <th>2</th>\n",
       "      <td>BeO</td>\n",
       "      <td>25.011</td>\n",
       "      <td>25.011582</td>\n",
       "      <td>0.000023</td>\n",
       "      <td>8</td>\n",
       "    </tr>\n",
       "    <tr>\n",
       "      <th>3</th>\n",
       "      <td>Li2O</td>\n",
       "      <td>29.881</td>\n",
       "      <td>29.881400</td>\n",
       "      <td>0.000013</td>\n",
       "      <td>35</td>\n",
       "    </tr>\n",
       "    <tr>\n",
       "      <th>4</th>\n",
       "      <td>NpO2</td>\n",
       "      <td>269.000</td>\n",
       "      <td>269.047000</td>\n",
       "      <td>0.000175</td>\n",
       "      <td>42</td>\n",
       "    </tr>\n",
       "    <tr>\n",
       "      <th>5</th>\n",
       "      <td>NiO</td>\n",
       "      <td>74.692</td>\n",
       "      <td>74.692800</td>\n",
       "      <td>0.000011</td>\n",
       "      <td>43</td>\n",
       "    </tr>\n",
       "    <tr>\n",
       "      <th>6</th>\n",
       "      <td>Pu2O3</td>\n",
       "      <td>536.000</td>\n",
       "      <td>536.126600</td>\n",
       "      <td>0.000236</td>\n",
       "      <td>50</td>\n",
       "    </tr>\n",
       "    <tr>\n",
       "      <th>7</th>\n",
       "      <td>PoO2</td>\n",
       "      <td>241.000</td>\n",
       "      <td>240.981200</td>\n",
       "      <td>0.000078</td>\n",
       "      <td>51</td>\n",
       "    </tr>\n",
       "    <tr>\n",
       "      <th>8</th>\n",
       "      <td>RuO4</td>\n",
       "      <td>165.070</td>\n",
       "      <td>165.067600</td>\n",
       "      <td>0.000015</td>\n",
       "      <td>54</td>\n",
       "    </tr>\n",
       "    <tr>\n",
       "      <th>9</th>\n",
       "      <td>SeO2</td>\n",
       "      <td>110.960</td>\n",
       "      <td>110.958800</td>\n",
       "      <td>0.000011</td>\n",
       "      <td>60</td>\n",
       "    </tr>\n",
       "    <tr>\n",
       "      <th>10</th>\n",
       "      <td>SeO3</td>\n",
       "      <td>126.960</td>\n",
       "      <td>126.958200</td>\n",
       "      <td>0.000014</td>\n",
       "      <td>61</td>\n",
       "    </tr>\n",
       "    <tr>\n",
       "      <th>11</th>\n",
       "      <td>SiO2</td>\n",
       "      <td>60.085</td>\n",
       "      <td>60.084300</td>\n",
       "      <td>0.000012</td>\n",
       "      <td>62</td>\n",
       "    </tr>\n",
       "    <tr>\n",
       "      <th>12</th>\n",
       "      <td>TeO3</td>\n",
       "      <td>175.600</td>\n",
       "      <td>175.598200</td>\n",
       "      <td>0.000010</td>\n",
       "      <td>68</td>\n",
       "    </tr>\n",
       "  </tbody>\n",
       "</table>\n",
       "</div>"
      ],
      "text/plain": [
       "   Formula     MW_1        MW_2      diff  index\n",
       "0    Ac2O3  502.000  502.053600  0.000107      2\n",
       "1     AmO2  275.000  275.060200  0.000219      4\n",
       "2      BeO   25.011   25.011582  0.000023      8\n",
       "3     Li2O   29.881   29.881400  0.000013     35\n",
       "4     NpO2  269.000  269.047000  0.000175     42\n",
       "5      NiO   74.692   74.692800  0.000011     43\n",
       "6    Pu2O3  536.000  536.126600  0.000236     50\n",
       "7     PoO2  241.000  240.981200  0.000078     51\n",
       "8     RuO4  165.070  165.067600  0.000015     54\n",
       "9     SeO2  110.960  110.958800  0.000011     60\n",
       "10    SeO3  126.960  126.958200  0.000014     61\n",
       "11    SiO2   60.085   60.084300  0.000012     62\n",
       "12    TeO3  175.600  175.598200  0.000010     68"
      ]
     },
     "execution_count": 17,
     "metadata": {},
     "output_type": "execute_result"
    }
   ],
   "source": [
    "check=check_molecular_weigths(df)\n",
    "check"
   ]
  },
  {
   "cell_type": "code",
   "execution_count": 18,
   "metadata": {
    "collapsed": false
   },
   "outputs": [],
   "source": [
    "#all look good enough :)"
   ]
  },
  {
   "cell_type": "code",
   "execution_count": 19,
   "metadata": {
    "collapsed": false
   },
   "outputs": [],
   "source": [
    "#clean up Formulas\n",
    "df['Formula']=df.apply(lambda x: clean_string(x['Formula']),axis=1)"
   ]
  },
  {
   "cell_type": "code",
   "execution_count": 20,
   "metadata": {
    "collapsed": false
   },
   "outputs": [],
   "source": [
    "def add_elements(df,c='Formula',cnew='Target',mass_frac_name='mass_frac'):\n",
    "    \"\"\"\n",
    "    add in and stack element names\n",
    "    \"\"\"\n",
    "    \n",
    " \n",
    "    #get all the elements as columns\n",
    "    x = df[c].apply(lambda x:pd.Series({str(k):v for k,v in PT.formula(x).mass_fraction.iteritems()}))\n",
    "\n",
    "    #stack, frame, drop bottom level to column, add name'\n",
    "    x = pd.DataFrame({mass_frac_name:x.stack()}).reset_index(level=-1).rename(columns={'level_1':cnew})    \n",
    "\n",
    "    #merge in \n",
    "    t = df.copy()\n",
    "    return pd.concat((t,x),axis=1)\n",
    "    "
   ]
  },
  {
   "cell_type": "code",
   "execution_count": 21,
   "metadata": {
    "collapsed": true
   },
   "outputs": [],
   "source": [
    "df = add_elements(df)"
   ]
  },
  {
   "cell_type": "code",
   "execution_count": 22,
   "metadata": {
    "collapsed": false
   },
   "outputs": [],
   "source": [
    "df.to_csv('./oxide.csv',index=False,encoding='utf-8')"
   ]
  },
  {
   "cell_type": "markdown",
   "metadata": {},
   "source": [
    "#inorganic salts"
   ]
  },
  {
   "cell_type": "code",
   "execution_count": 23,
   "metadata": {
    "collapsed": false
   },
   "outputs": [],
   "source": [
    "df=load_sheet('./data.xlsx','inorganic salts')"
   ]
  },
  {
   "cell_type": "code",
   "execution_count": 24,
   "metadata": {
    "collapsed": false
   },
   "outputs": [],
   "source": [
    "#clean up Formulas\n",
    "df['Formula']=df.apply(lambda x: clean_string(x['Formula']),axis=1)"
   ]
  },
  {
   "cell_type": "code",
   "execution_count": 25,
   "metadata": {
    "collapsed": false
   },
   "outputs": [],
   "source": [
    "errors=check_molecular_weigths(df)"
   ]
  },
  {
   "cell_type": "code",
   "execution_count": 26,
   "metadata": {
    "collapsed": false
   },
   "outputs": [
    {
     "data": {
      "text/html": [
       "<div>\n",
       "<table border=\"1\" class=\"dataframe\">\n",
       "  <thead>\n",
       "    <tr style=\"text-align: right;\">\n",
       "      <th></th>\n",
       "      <th>Formula</th>\n",
       "      <th>MW_1</th>\n",
       "      <th>MW_2</th>\n",
       "      <th>diff</th>\n",
       "      <th>index</th>\n",
       "    </tr>\n",
       "  </thead>\n",
       "  <tbody>\n",
       "    <tr>\n",
       "      <th>0</th>\n",
       "      <td>Ac</td>\n",
       "      <td>227.0</td>\n",
       "      <td>227.027700</td>\n",
       "      <td>0.000122</td>\n",
       "      <td>2</td>\n",
       "    </tr>\n",
       "    <tr>\n",
       "      <th>2</th>\n",
       "      <td>Ac2O3</td>\n",
       "      <td>502.0</td>\n",
       "      <td>502.053600</td>\n",
       "      <td>0.000107</td>\n",
       "      <td>4</td>\n",
       "    </tr>\n",
       "    <tr>\n",
       "      <th>7</th>\n",
       "      <td>Am</td>\n",
       "      <td>243.0</td>\n",
       "      <td>243.061400</td>\n",
       "      <td>0.000253</td>\n",
       "      <td>23</td>\n",
       "    </tr>\n",
       "    <tr>\n",
       "      <th>8</th>\n",
       "      <td>AmF3</td>\n",
       "      <td>300.0</td>\n",
       "      <td>300.056610</td>\n",
       "      <td>0.000189</td>\n",
       "      <td>24</td>\n",
       "    </tr>\n",
       "    <tr>\n",
       "      <th>9</th>\n",
       "      <td>AmF4</td>\n",
       "      <td>319.0</td>\n",
       "      <td>319.055013</td>\n",
       "      <td>0.000172</td>\n",
       "      <td>25</td>\n",
       "    </tr>\n",
       "    <tr>\n",
       "      <th>10</th>\n",
       "      <td>AmI3</td>\n",
       "      <td>624.0</td>\n",
       "      <td>623.774810</td>\n",
       "      <td>0.000361</td>\n",
       "      <td>26</td>\n",
       "    </tr>\n",
       "    <tr>\n",
       "      <th>11</th>\n",
       "      <td>Am2O3</td>\n",
       "      <td>534.0</td>\n",
       "      <td>534.121000</td>\n",
       "      <td>0.000227</td>\n",
       "      <td>27</td>\n",
       "    </tr>\n",
       "    <tr>\n",
       "      <th>12</th>\n",
       "      <td>AmO2</td>\n",
       "      <td>275.0</td>\n",
       "      <td>275.060200</td>\n",
       "      <td>0.000219</td>\n",
       "      <td>28</td>\n",
       "    </tr>\n",
       "    <tr>\n",
       "      <th>21</th>\n",
       "      <td>Bk</td>\n",
       "      <td>247.0</td>\n",
       "      <td>247.070300</td>\n",
       "      <td>0.000285</td>\n",
       "      <td>115</td>\n",
       "    </tr>\n",
       "    <tr>\n",
       "      <th>24</th>\n",
       "      <td>Ca2PbO4</td>\n",
       "      <td>351.4</td>\n",
       "      <td>351.353600</td>\n",
       "      <td>0.000132</td>\n",
       "      <td>177</td>\n",
       "    </tr>\n",
       "    <tr>\n",
       "      <th>26</th>\n",
       "      <td>Cf</td>\n",
       "      <td>251.0</td>\n",
       "      <td>251.079600</td>\n",
       "      <td>0.000317</td>\n",
       "      <td>199</td>\n",
       "    </tr>\n",
       "    <tr>\n",
       "      <th>29</th>\n",
       "      <td>Cm</td>\n",
       "      <td>247.0</td>\n",
       "      <td>247.070400</td>\n",
       "      <td>0.000285</td>\n",
       "      <td>307</td>\n",
       "    </tr>\n",
       "    <tr>\n",
       "      <th>44</th>\n",
       "      <td>Pb(N3)2</td>\n",
       "      <td>291.2</td>\n",
       "      <td>291.240200</td>\n",
       "      <td>0.000138</td>\n",
       "      <td>445</td>\n",
       "    </tr>\n",
       "    <tr>\n",
       "      <th>48</th>\n",
       "      <td>Pb(CHO2)2</td>\n",
       "      <td>297.2</td>\n",
       "      <td>297.234880</td>\n",
       "      <td>0.000117</td>\n",
       "      <td>450</td>\n",
       "    </tr>\n",
       "    <tr>\n",
       "      <th>56</th>\n",
       "      <td>PbSeO4</td>\n",
       "      <td>350.2</td>\n",
       "      <td>350.157600</td>\n",
       "      <td>0.000121</td>\n",
       "      <td>463</td>\n",
       "    </tr>\n",
       "    <tr>\n",
       "      <th>58</th>\n",
       "      <td>PbSO4</td>\n",
       "      <td>303.3</td>\n",
       "      <td>303.262600</td>\n",
       "      <td>0.000123</td>\n",
       "      <td>465</td>\n",
       "    </tr>\n",
       "    <tr>\n",
       "      <th>59</th>\n",
       "      <td>PbS</td>\n",
       "      <td>239.3</td>\n",
       "      <td>239.265000</td>\n",
       "      <td>0.000146</td>\n",
       "      <td>466</td>\n",
       "    </tr>\n",
       "    <tr>\n",
       "      <th>60</th>\n",
       "      <td>Pb(SCN)2</td>\n",
       "      <td>323.4</td>\n",
       "      <td>323.364800</td>\n",
       "      <td>0.000109</td>\n",
       "      <td>467</td>\n",
       "    </tr>\n",
       "    <tr>\n",
       "      <th>84</th>\n",
       "      <td>Np</td>\n",
       "      <td>237.0</td>\n",
       "      <td>237.048200</td>\n",
       "      <td>0.000203</td>\n",
       "      <td>588</td>\n",
       "    </tr>\n",
       "    <tr>\n",
       "      <th>85</th>\n",
       "      <td>NpO2</td>\n",
       "      <td>269.0</td>\n",
       "      <td>269.047000</td>\n",
       "      <td>0.000175</td>\n",
       "      <td>589</td>\n",
       "    </tr>\n",
       "    <tr>\n",
       "      <th>89</th>\n",
       "      <td>Pu</td>\n",
       "      <td>244.0</td>\n",
       "      <td>244.064200</td>\n",
       "      <td>0.000263</td>\n",
       "      <td>648</td>\n",
       "    </tr>\n",
       "    <tr>\n",
       "      <th>90</th>\n",
       "      <td>PuF3</td>\n",
       "      <td>301.0</td>\n",
       "      <td>301.059410</td>\n",
       "      <td>0.000197</td>\n",
       "      <td>649</td>\n",
       "    </tr>\n",
       "    <tr>\n",
       "      <th>91</th>\n",
       "      <td>PuF4</td>\n",
       "      <td>320.0</td>\n",
       "      <td>320.057813</td>\n",
       "      <td>0.000181</td>\n",
       "      <td>650</td>\n",
       "    </tr>\n",
       "    <tr>\n",
       "      <th>92</th>\n",
       "      <td>PuF6</td>\n",
       "      <td>358.0</td>\n",
       "      <td>358.054619</td>\n",
       "      <td>0.000153</td>\n",
       "      <td>651</td>\n",
       "    </tr>\n",
       "    <tr>\n",
       "      <th>93</th>\n",
       "      <td>PuI3</td>\n",
       "      <td>625.0</td>\n",
       "      <td>624.777610</td>\n",
       "      <td>0.000356</td>\n",
       "      <td>652</td>\n",
       "    </tr>\n",
       "    <tr>\n",
       "      <th>94</th>\n",
       "      <td>PuN</td>\n",
       "      <td>258.0</td>\n",
       "      <td>258.070900</td>\n",
       "      <td>0.000275</td>\n",
       "      <td>653</td>\n",
       "    </tr>\n",
       "    <tr>\n",
       "      <th>95</th>\n",
       "      <td>PuO</td>\n",
       "      <td>260.0</td>\n",
       "      <td>260.063600</td>\n",
       "      <td>0.000245</td>\n",
       "      <td>654</td>\n",
       "    </tr>\n",
       "    <tr>\n",
       "      <th>96</th>\n",
       "      <td>Pu2O3</td>\n",
       "      <td>536.0</td>\n",
       "      <td>536.126600</td>\n",
       "      <td>0.000236</td>\n",
       "      <td>655</td>\n",
       "    </tr>\n",
       "    <tr>\n",
       "      <th>97</th>\n",
       "      <td>PuO2</td>\n",
       "      <td>276.0</td>\n",
       "      <td>276.063000</td>\n",
       "      <td>0.000228</td>\n",
       "      <td>656</td>\n",
       "    </tr>\n",
       "    <tr>\n",
       "      <th>108</th>\n",
       "      <td>Pm</td>\n",
       "      <td>145.0</td>\n",
       "      <td>144.912700</td>\n",
       "      <td>0.000602</td>\n",
       "      <td>745</td>\n",
       "    </tr>\n",
       "    <tr>\n",
       "      <th>109</th>\n",
       "      <td>Ra</td>\n",
       "      <td>226.0</td>\n",
       "      <td>226.025400</td>\n",
       "      <td>0.000112</td>\n",
       "      <td>747</td>\n",
       "    </tr>\n",
       "    <tr>\n",
       "      <th>138</th>\n",
       "      <td>Tc</td>\n",
       "      <td>98.0</td>\n",
       "      <td>97.907200</td>\n",
       "      <td>0.000947</td>\n",
       "      <td>888</td>\n",
       "    </tr>\n",
       "    <tr>\n",
       "      <th>139</th>\n",
       "      <td>TcF6</td>\n",
       "      <td>212.0</td>\n",
       "      <td>211.897619</td>\n",
       "      <td>0.000483</td>\n",
       "      <td>889</td>\n",
       "    </tr>\n",
       "  </tbody>\n",
       "</table>\n",
       "</div>"
      ],
      "text/plain": [
       "       Formula   MW_1        MW_2      diff  index\n",
       "0           Ac  227.0  227.027700  0.000122      2\n",
       "2        Ac2O3  502.0  502.053600  0.000107      4\n",
       "7           Am  243.0  243.061400  0.000253     23\n",
       "8         AmF3  300.0  300.056610  0.000189     24\n",
       "9         AmF4  319.0  319.055013  0.000172     25\n",
       "10        AmI3  624.0  623.774810  0.000361     26\n",
       "11       Am2O3  534.0  534.121000  0.000227     27\n",
       "12        AmO2  275.0  275.060200  0.000219     28\n",
       "21          Bk  247.0  247.070300  0.000285    115\n",
       "24     Ca2PbO4  351.4  351.353600  0.000132    177\n",
       "26          Cf  251.0  251.079600  0.000317    199\n",
       "29          Cm  247.0  247.070400  0.000285    307\n",
       "44     Pb(N3)2  291.2  291.240200  0.000138    445\n",
       "48   Pb(CHO2)2  297.2  297.234880  0.000117    450\n",
       "56      PbSeO4  350.2  350.157600  0.000121    463\n",
       "58       PbSO4  303.3  303.262600  0.000123    465\n",
       "59         PbS  239.3  239.265000  0.000146    466\n",
       "60    Pb(SCN)2  323.4  323.364800  0.000109    467\n",
       "84          Np  237.0  237.048200  0.000203    588\n",
       "85        NpO2  269.0  269.047000  0.000175    589\n",
       "89          Pu  244.0  244.064200  0.000263    648\n",
       "90        PuF3  301.0  301.059410  0.000197    649\n",
       "91        PuF4  320.0  320.057813  0.000181    650\n",
       "92        PuF6  358.0  358.054619  0.000153    651\n",
       "93        PuI3  625.0  624.777610  0.000356    652\n",
       "94         PuN  258.0  258.070900  0.000275    653\n",
       "95         PuO  260.0  260.063600  0.000245    654\n",
       "96       Pu2O3  536.0  536.126600  0.000236    655\n",
       "97        PuO2  276.0  276.063000  0.000228    656\n",
       "108         Pm  145.0  144.912700  0.000602    745\n",
       "109         Ra  226.0  226.025400  0.000112    747\n",
       "138         Tc   98.0   97.907200  0.000947    888\n",
       "139       TcF6  212.0  211.897619  0.000483    889"
      ]
     },
     "execution_count": 26,
     "metadata": {},
     "output_type": "execute_result"
    }
   ],
   "source": [
    "errors[errors['diff']>.0001]"
   ]
  },
  {
   "cell_type": "code",
   "execution_count": 27,
   "metadata": {
    "collapsed": false
   },
   "outputs": [],
   "source": [
    "#this looks good to me"
   ]
  },
  {
   "cell_type": "code",
   "execution_count": 28,
   "metadata": {
    "collapsed": true
   },
   "outputs": [],
   "source": [
    "t = add_elements(df)"
   ]
  },
  {
   "cell_type": "code",
   "execution_count": 30,
   "metadata": {
    "collapsed": false
   },
   "outputs": [],
   "source": [
    "df = t\n",
    "df.to_csv('./salt_1.csv',index=False,encoding='utf-8')"
   ]
  },
  {
   "cell_type": "markdown",
   "metadata": {},
   "source": [
    "#inorganic salts (all)"
   ]
  },
  {
   "cell_type": "code",
   "execution_count": 31,
   "metadata": {
    "collapsed": false
   },
   "outputs": [],
   "source": [
    "df=load_sheet('./data.xlsx','inorganic salts (all)')"
   ]
  },
  {
   "cell_type": "code",
   "execution_count": 32,
   "metadata": {
    "collapsed": false
   },
   "outputs": [],
   "source": [
    "def clean_string(s):\n",
    "    #get rid of spaces\n",
    "    s=s.replace(\" \",\"\")\n",
    "    #change [ to (\n",
    "    s=s.replace('[','(')\n",
    "    #change ] to )\n",
    "    s=s.replace(']',')')\n",
    "    \n",
    "    if u'\\xb7' in s:\n",
    "        s=s.replace(u'\\xb7','+')\n",
    "    if u'\\xc2' in s:\n",
    "        s=s.replace(u'\\xc2','')\n",
    "\n",
    "    return s"
   ]
  },
  {
   "cell_type": "code",
   "execution_count": 33,
   "metadata": {
    "collapsed": false
   },
   "outputs": [],
   "source": [
    "#clean up Formulas\n",
    "df['Formula']=df.apply(lambda x: clean_string(x['Formula']),axis=1)"
   ]
  },
  {
   "cell_type": "code",
   "execution_count": 34,
   "metadata": {
    "collapsed": false
   },
   "outputs": [],
   "source": [
    "#drop null MW\n",
    "df=df.dropna(subset=['MW'])"
   ]
  },
  {
   "cell_type": "code",
   "execution_count": 35,
   "metadata": {
    "collapsed": false
   },
   "outputs": [],
   "source": [
    "errors=check_molecular_weigths(df)"
   ]
  },
  {
   "cell_type": "markdown",
   "metadata": {},
   "source": [
    "error at index\n",
    "373: No MW for cas\n",
    "\n",
    "818:  All screwed up\n",
    "1449: (no idea where MW_1 comes from.  MW on web is 565, corresponding to no waters: 'La2(SO4)3')\n",
    "2549: (MW_1 correspnds to Na3Au(S2O3)2+(H2O)2, not formula Na3Au(S2O3)2+5H2O)\n",
    "\n",
    "3152\n",
    "\n",
    "error, but think I'm right (i.e., MW_1 is wrong):\n",
    "1445, 1456, 1553, 2400, 2617, 2623, 370, 939\n",
    "\n",
    "\n",
    "\n",
    "\n",
    "cleaned up:\n",
    "804,883, 892,1184,1261,1430,\n",
    "\n",
    "660: changed Ce(C2O4)3+9H2O to Ce2(C2O4)3+9H2O\n",
    "\n",
    "1455: reworked formula from Pb(C2H3O2)2+2Pb(OH)2 -> Pb(C2H3O2)2+(Pb(OH)2)2\n",
    "\n",
    "1857: changed formula Nd(C2H3O2)2 -> Nd(C2H3O2)3\n",
    "\n",
    "3100: changes 3Zn(OH)2+2ZnCO3 -> (Zn(OH)2)3·2ZnCO3\n",
    "\n",
    "no error (just rounded MW):\n",
    "2111,2341,4,75,"
   ]
  },
  {
   "cell_type": "code",
   "execution_count": 36,
   "metadata": {
    "collapsed": false
   },
   "outputs": [
    {
     "name": "stdout",
     "output_type": "stream",
     "text": [
      "[4, 75, 370, 373, 818, 939, 1445, 1449, 1456, 1553, 2111, 2341, 2400, 2549, 2617, 2623, 3152]\n"
     ]
    }
   ],
   "source": [
    "bad_errors=list(errors[errors['diff']>.001]['index'].values)\n",
    "print bad_errors"
   ]
  },
  {
   "cell_type": "code",
   "execution_count": 37,
   "metadata": {
    "collapsed": false
   },
   "outputs": [],
   "source": [
    "rounding='2111,2341,4,75'.split(',')\n",
    "fixed='804,883, 892,1184,1261,1430,660,1455,1857,3100'.split(',')\n",
    "error_questionable='1445, 1456, 1553, 2400, 2617, 2623, 370, 939'.split(',')\n",
    "screwed='373,818,1449,2549,3152'.split(',')"
   ]
  },
  {
   "cell_type": "code",
   "execution_count": 38,
   "metadata": {
    "collapsed": false
   },
   "outputs": [
    {
     "name": "stdout",
     "output_type": "stream",
     "text": [
      "removing 2111\n",
      "removing 2341\n",
      "removing 4\n",
      "removing 75\n",
      "removing 1445\n",
      "removing 1456\n",
      "removing 1553\n",
      "removing 2400\n",
      "removing 2617\n",
      "removing 2623\n",
      "removing 370\n",
      "removing 939\n",
      "removing 373\n",
      "removing 818\n",
      "removing 1449\n",
      "removing 2549\n",
      "removing 3152\n",
      "[]\n"
     ]
    }
   ],
   "source": [
    "L=bad_errors[:]\n",
    "\n",
    "for s in rounding:\n",
    "    x=int(s)\n",
    "    if x in L:\n",
    "        print \"removing\",x\n",
    "        L.remove(x)\n",
    "    else:\n",
    "        print \"rounding\",x,'not in L'\n",
    "        \n",
    "for s in fixed:\n",
    "    x=int(s)\n",
    "    if x in L:\n",
    "        print \"shit\",x,\"in L\"\n",
    "        \n",
    "for s in error_questionable:\n",
    "    x=int(s)\n",
    "    if x in L:\n",
    "        print \"removing\",x\n",
    "        L.remove(x)\n",
    "    else:\n",
    "        print \"question\",x,'not in L'\n",
    "\n",
    "for s in screwed:\n",
    "    x=int(s)\n",
    "    if x in L:\n",
    "        print \"removing\",x\n",
    "        L.remove(x)\n",
    "    else:\n",
    "        print \"screwed\",x,'not in L'\n",
    "print L"
   ]
  },
  {
   "cell_type": "code",
   "execution_count": 39,
   "metadata": {
    "collapsed": false
   },
   "outputs": [],
   "source": [
    "#remove screwed ones"
   ]
  },
  {
   "cell_type": "code",
   "execution_count": 40,
   "metadata": {
    "collapsed": false
   },
   "outputs": [],
   "source": [
    "drop_list=[int(x) for x in screwed]\n",
    "df=df.drop(drop_list)"
   ]
  },
  {
   "cell_type": "code",
   "execution_count": 41,
   "metadata": {
    "collapsed": false
   },
   "outputs": [],
   "source": [
    "errors=check_molecular_weigths(df)"
   ]
  },
  {
   "cell_type": "code",
   "execution_count": 42,
   "metadata": {
    "collapsed": false
   },
   "outputs": [],
   "source": [
    "bad_errors=list(errors[errors['diff']>.001]['index'].values)"
   ]
  },
  {
   "cell_type": "code",
   "execution_count": 163,
   "metadata": {
    "collapsed": false
   },
   "outputs": [
    {
     "name": "stdout",
     "output_type": "stream",
     "text": [
      "removing 2111\n",
      "removing 2341\n",
      "removing 4\n",
      "removing 75\n",
      "removing 1445\n",
      "removing 1456\n",
      "removing 1553\n",
      "removing 2400\n",
      "removing 2617\n",
      "removing 2623\n",
      "removing 370\n",
      "removing 939\n",
      "screwed 373 not in L\n",
      "screwed 818 not in L\n",
      "screwed 1449 not in L\n",
      "screwed 2549 not in L\n",
      "screwed 3152 not in L\n",
      "[]\n"
     ]
    }
   ],
   "source": [
    "L=bad_errors[:]\n",
    "\n",
    "for s in rounding:\n",
    "    x=int(s)\n",
    "    if x in L:\n",
    "        print \"removing\",x\n",
    "        L.remove(x)\n",
    "    else:\n",
    "        print \"rounding\",x,'not in L'\n",
    "        \n",
    "for s in fixed:\n",
    "    x=int(s)\n",
    "    if x in L:\n",
    "        print \"shit\",x,\"in L\"\n",
    "        \n",
    "for s in error_questionable:\n",
    "    x=int(s)\n",
    "    if x in L:\n",
    "        print \"removing\",x\n",
    "        L.remove(x)\n",
    "    else:\n",
    "        print \"question\",x,'not in L'\n",
    "\n",
    "for s in screwed:\n",
    "    x=int(s)\n",
    "    if x in L:\n",
    "        print \"removing\",x\n",
    "        L.remove(x)\n",
    "    else:\n",
    "        print \"screwed\",x,'not in L'\n",
    "print L"
   ]
  },
  {
   "cell_type": "code",
   "execution_count": 54,
   "metadata": {
    "collapsed": true
   },
   "outputs": [],
   "source": [
    "t = add_elements(df)"
   ]
  },
  {
   "cell_type": "code",
   "execution_count": 55,
   "metadata": {
    "collapsed": false
   },
   "outputs": [],
   "source": [
    "df = t\n",
    "df.to_csv('./salt.csv',index=False,encoding='utf-8')"
   ]
  },
  {
   "cell_type": "markdown",
   "metadata": {
    "collapsed": false
   },
   "source": [
    "#merge salts/salts_all"
   ]
  },
  {
   "cell_type": "code",
   "execution_count": 56,
   "metadata": {
    "collapsed": true
   },
   "outputs": [],
   "source": [
    "df1 = pd.read_csv('salt_1.csv',encoding='utf-8')\n",
    "df2 = pd.read_csv('salt.csv',encoding='utf-8')"
   ]
  },
  {
   "cell_type": "code",
   "execution_count": 58,
   "metadata": {
    "collapsed": false
   },
   "outputs": [],
   "source": [
    "formula_1 = df1.Formula.unique()\n",
    "formula_2 = df2.Formula.unique()"
   ]
  },
  {
   "cell_type": "code",
   "execution_count": 64,
   "metadata": {
    "collapsed": false
   },
   "outputs": [],
   "source": [
    "for f in formula_1:\n",
    "    if f not in formula_2:\n",
    "        print f"
   ]
  },
  {
   "cell_type": "code",
   "execution_count": 67,
   "metadata": {
    "collapsed": false
   },
   "outputs": [],
   "source": [
    "dfA = df1[['Formula','MW','Target','mass_frac']]\n",
    "dfB = df2[['Formula','MW','Target','mass_frac']]"
   ]
  },
  {
   "cell_type": "code",
   "execution_count": 70,
   "metadata": {
    "collapsed": false
   },
   "outputs": [],
   "source": [
    "t = pd.merge(dfA,dfB,how='left',on=['Formula','Target'])"
   ]
  },
  {
   "cell_type": "code",
   "execution_count": null,
   "metadata": {
    "collapsed": true
   },
   "outputs": [],
   "source": []
  }
 ],
 "metadata": {
  "kernelspec": {
   "display_name": "Python 2",
   "language": "python",
   "name": "python2"
  },
  "language_info": {
   "codemirror_mode": {
    "name": "ipython",
    "version": 2
   },
   "file_extension": ".py",
   "mimetype": "text/x-python",
   "name": "python",
   "nbconvert_exporter": "python",
   "pygments_lexer": "ipython2",
   "version": "2.7.10"
  }
 },
 "nbformat": 4,
 "nbformat_minor": 0
}
