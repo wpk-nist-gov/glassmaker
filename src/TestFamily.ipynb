{
 "cells": [
  {
   "cell_type": "code",
   "execution_count": 117,
   "metadata": {
    "collapsed": false
   },
   "outputs": [],
   "source": [
    "import mix\n",
    "from IPython.display import display"
   ]
  },
  {
   "cell_type": "markdown",
   "metadata": {},
   "source": [
    "#bead family"
   ]
  },
  {
   "cell_type": "code",
   "execution_count": 205,
   "metadata": {
    "collapsed": false
   },
   "outputs": [
    {
     "data": {
      "text/plain": [
       "<module 'mix' from 'mix.pyc'>"
      ]
     },
     "execution_count": 205,
     "metadata": {},
     "output_type": "execute_result"
    }
   ],
   "source": [
    "reload(mix)"
   ]
  },
  {
   "cell_type": "code",
   "execution_count": 206,
   "metadata": {
    "collapsed": true
   },
   "outputs": [],
   "source": [
    "matrix = mix.CompoundVolatile('LiB4O7',name = 'lithium_borate')\n",
    "sourceA = mix.CompoundVolatile({'CaO':0.5,'H2O':0.5},{'CaO':0.5},name='CaO')\n",
    "sourceB = mix.CompoundVolatile('Fe2O3')\n",
    "sources = mix.CompoundCollection([sourceA,sourceB,matrix])"
   ]
  },
  {
   "cell_type": "code",
   "execution_count": 207,
   "metadata": {
    "collapsed": false
   },
   "outputs": [],
   "source": [
    "targets = mix.OrderedDict()\n",
    "targets['Fe'] = (0.1,0.2)\n",
    "targets['Ca'] = (0.2,0.3)\n",
    "\n",
    "X = mix.BeadFamily(targets,sources,5)"
   ]
  },
  {
   "cell_type": "code",
   "execution_count": 170,
   "metadata": {
    "collapsed": true
   },
   "outputs": [],
   "source": [
    "def print_suggestion(sug,bead):\n",
    "    print 'suggested mass fraction'\n",
    "    display(mix.pd.Series(sug))\n",
    "    \n",
    "    print ''\n",
    "    print 'suggested bead'\n",
    "    display(bead)\n",
    "    \n",
    "    print ''\n",
    "    print 'suggested final comp'\n",
    "    display(bead.final_compound.mass_fraction.to_series())"
   ]
  },
  {
   "cell_type": "code",
   "execution_count": 171,
   "metadata": {
    "collapsed": true
   },
   "outputs": [],
   "source": [
    "def print_final(sug,bead):\n",
    "    print 'suggested mass fraction'\n",
    "    display(mix.pd.Series(sug))\n",
    "    \n",
    "    print 'before heating'\n",
    "    display(bead)\n",
    "    \n",
    "    print ''\n",
    "    print 'after heating'\n",
    "    display(bead)\n",
    "    \n",
    "    print 'final compound'\n",
    "    display(bead.bead_compound)\n",
    "    \n",
    "    print 'final composition'\n",
    "    display(bead.bead_compound.mass_fraction.to_series())"
   ]
  },
  {
   "cell_type": "markdown",
   "metadata": {
    "collapsed": true
   },
   "source": [
    "#first"
   ]
  },
  {
   "cell_type": "code",
   "execution_count": 228,
   "metadata": {
    "collapsed": true
   },
   "outputs": [],
   "source": [
    "mix.random.seed(10)"
   ]
  },
  {
   "cell_type": "code",
   "execution_count": 229,
   "metadata": {
    "collapsed": false
   },
   "outputs": [
    {
     "name": "stdout",
     "output_type": "stream",
     "text": [
      "suggested mass fraction\n"
     ]
    },
    {
     "data": {
      "text/plain": [
       "Ca    0.25\n",
       "Fe    0.15\n",
       "dtype: float64"
      ]
     },
     "metadata": {},
     "output_type": "display_data"
    },
    {
     "name": "stdout",
     "output_type": "stream",
     "text": [
      "\n",
      "suggested bead\n"
     ]
    },
    {
     "data": {
      "text/html": [
       "<div>\n",
       "<table border=\"1\" class=\"dataframe\">\n",
       "  <thead>\n",
       "    <tr style=\"text-align: right;\">\n",
       "      <th></th>\n",
       "      <th>name</th>\n",
       "      <th>measured</th>\n",
       "      <th>final</th>\n",
       "      <th>mass</th>\n",
       "    </tr>\n",
       "  </thead>\n",
       "  <tbody>\n",
       "    <tr>\n",
       "      <th>0</th>\n",
       "      <td>CaO</td>\n",
       "      <td>(H2O)0.0277542(CaO)0.00891625</td>\n",
       "      <td>(CaO)0.00891625</td>\n",
       "      <td>0.699603</td>\n",
       "    </tr>\n",
       "    <tr>\n",
       "      <th>1</th>\n",
       "      <td>Fe2O3</td>\n",
       "      <td>Fe2O3</td>\n",
       "      <td>--</td>\n",
       "      <td>0.214462</td>\n",
       "    </tr>\n",
       "    <tr>\n",
       "      <th>2</th>\n",
       "      <td>lithium_borate</td>\n",
       "      <td>LiB4O7</td>\n",
       "      <td>--</td>\n",
       "      <td>0.435737</td>\n",
       "    </tr>\n",
       "    <tr>\n",
       "      <th>0</th>\n",
       "      <td>tot</td>\n",
       "      <td>--</td>\n",
       "      <td>--</td>\n",
       "      <td>1.000000</td>\n",
       "    </tr>\n",
       "  </tbody>\n",
       "</table>\n",
       "</div>"
      ],
      "text/plain": [
       "<mix.SingleBead at 0x108f3c9d0>"
      ]
     },
     "metadata": {},
     "output_type": "display_data"
    },
    {
     "name": "stdout",
     "output_type": "stream",
     "text": [
      "\n",
      "suggested final comp\n"
     ]
    },
    {
     "data": {
      "text/plain": [
       "B     0.116185\n",
       "Li    0.018649\n",
       "Ca    0.250000\n",
       "Fe    0.150000\n",
       "O     0.465166\n",
       "dtype: float64"
      ]
     },
     "metadata": {},
     "output_type": "display_data"
    }
   ],
   "source": [
    "sug,bead = X.get_suggested_bead(1.0)\n",
    "print_suggestion(sug,bead)"
   ]
  },
  {
   "cell_type": "code",
   "execution_count": 230,
   "metadata": {
    "collapsed": false
   },
   "outputs": [
    {
     "name": "stdout",
     "output_type": "stream",
     "text": [
      "suggested mass fraction\n"
     ]
    },
    {
     "data": {
      "text/plain": [
       "Ca    0.25\n",
       "Fe    0.15\n",
       "dtype: float64"
      ]
     },
     "metadata": {},
     "output_type": "display_data"
    },
    {
     "name": "stdout",
     "output_type": "stream",
     "text": [
      "before heating\n"
     ]
    },
    {
     "data": {
      "text/html": [
       "<div>\n",
       "<table border=\"1\" class=\"dataframe\">\n",
       "  <thead>\n",
       "    <tr style=\"text-align: right;\">\n",
       "      <th></th>\n",
       "      <th>name</th>\n",
       "      <th>measured</th>\n",
       "      <th>final</th>\n",
       "      <th>mass</th>\n",
       "    </tr>\n",
       "  </thead>\n",
       "  <tbody>\n",
       "    <tr>\n",
       "      <th>0</th>\n",
       "      <td>CaO</td>\n",
       "      <td>(H2O)0.0277542(CaO)0.00891625</td>\n",
       "      <td>(CaO)0.00891625</td>\n",
       "      <td>0.70</td>\n",
       "    </tr>\n",
       "    <tr>\n",
       "      <th>1</th>\n",
       "      <td>Fe2O3</td>\n",
       "      <td>Fe2O3</td>\n",
       "      <td>--</td>\n",
       "      <td>0.21</td>\n",
       "    </tr>\n",
       "    <tr>\n",
       "      <th>2</th>\n",
       "      <td>lithium_borate</td>\n",
       "      <td>LiB4O7</td>\n",
       "      <td>--</td>\n",
       "      <td>0.43</td>\n",
       "    </tr>\n",
       "    <tr>\n",
       "      <th>0</th>\n",
       "      <td>tot</td>\n",
       "      <td>--</td>\n",
       "      <td>--</td>\n",
       "      <td>0.95</td>\n",
       "    </tr>\n",
       "  </tbody>\n",
       "</table>\n",
       "</div>"
      ],
      "text/plain": [
       "<mix.SingleBead at 0x108f3cc10>"
      ]
     },
     "metadata": {},
     "output_type": "display_data"
    },
    {
     "name": "stdout",
     "output_type": "stream",
     "text": [
      "\n",
      "after heating\n"
     ]
    },
    {
     "data": {
      "text/html": [
       "<div>\n",
       "<table border=\"1\" class=\"dataframe\">\n",
       "  <thead>\n",
       "    <tr style=\"text-align: right;\">\n",
       "      <th></th>\n",
       "      <th>name</th>\n",
       "      <th>measured</th>\n",
       "      <th>final</th>\n",
       "      <th>mass</th>\n",
       "    </tr>\n",
       "  </thead>\n",
       "  <tbody>\n",
       "    <tr>\n",
       "      <th>0</th>\n",
       "      <td>CaO</td>\n",
       "      <td>(H2O)0.0277542(CaO)0.00891625</td>\n",
       "      <td>(CaO)0.00891625</td>\n",
       "      <td>0.70</td>\n",
       "    </tr>\n",
       "    <tr>\n",
       "      <th>1</th>\n",
       "      <td>Fe2O3</td>\n",
       "      <td>Fe2O3</td>\n",
       "      <td>--</td>\n",
       "      <td>0.21</td>\n",
       "    </tr>\n",
       "    <tr>\n",
       "      <th>2</th>\n",
       "      <td>lithium_borate</td>\n",
       "      <td>LiB4O7</td>\n",
       "      <td>--</td>\n",
       "      <td>0.43</td>\n",
       "    </tr>\n",
       "    <tr>\n",
       "      <th>0</th>\n",
       "      <td>tot</td>\n",
       "      <td>--</td>\n",
       "      <td>--</td>\n",
       "      <td>0.95</td>\n",
       "    </tr>\n",
       "  </tbody>\n",
       "</table>\n",
       "</div>"
      ],
      "text/plain": [
       "<mix.SingleBead at 0x108f3cc10>"
      ]
     },
     "metadata": {},
     "output_type": "display_data"
    },
    {
     "name": "stdout",
     "output_type": "stream",
     "text": [
      "final compound\n"
     ]
    },
    {
     "data": {
      "text/html": [
       "<p> Compound('[('Ca', 0.2501417683416135), ('Fe', 0.14687935614528813), ('No', 0.5529788755130983)]',None) </p>"
      ],
      "text/plain": [
       "Compound({'formula': [('Ca', 0.2501417683416135), ('Fe', 0.14687935614528813), ('No', 0.5529788755130983)]})"
      ]
     },
     "metadata": {},
     "output_type": "display_data"
    },
    {
     "name": "stdout",
     "output_type": "stream",
     "text": [
      "final composition\n"
     ]
    },
    {
     "data": {
      "text/plain": [
       "No    0.582083\n",
       "Fe    0.154610\n",
       "Ca    0.263307\n",
       "dtype: float64"
      ]
     },
     "metadata": {},
     "output_type": "display_data"
    }
   ],
   "source": [
    "#make a bead\n",
    "bm = mix.SingleBead(X.sources,[0.70,0.21,0.43])\n",
    "\n",
    "bm.massTot = 0.95\n",
    "bm.keepAtoms = ['Fe','Ca']\n",
    "\n",
    "print_final(sug,bm)\n"
   ]
  },
  {
   "cell_type": "code",
   "execution_count": 231,
   "metadata": {
    "collapsed": true
   },
   "outputs": [],
   "source": [
    "X.append(bm)"
   ]
  },
  {
   "cell_type": "code",
   "execution_count": 232,
   "metadata": {
    "collapsed": false
   },
   "outputs": [
    {
     "data": {
      "text/html": [
       "<div>\n",
       "<table border=\"1\" class=\"dataframe\">\n",
       "  <thead>\n",
       "    <tr>\n",
       "      <th></th>\n",
       "      <th colspan=\"3\" halign=\"left\">Ca</th>\n",
       "      <th colspan=\"3\" halign=\"left\">Fe</th>\n",
       "    </tr>\n",
       "    <tr>\n",
       "      <th></th>\n",
       "      <th>lb</th>\n",
       "      <th>sample</th>\n",
       "      <th>ub</th>\n",
       "      <th>lb</th>\n",
       "      <th>sample</th>\n",
       "      <th>ub</th>\n",
       "    </tr>\n",
       "  </thead>\n",
       "  <tbody>\n",
       "    <tr>\n",
       "      <th>0</th>\n",
       "      <td>-inf</td>\n",
       "      <td></td>\n",
       "      <td>0.2</td>\n",
       "      <td>-inf</td>\n",
       "      <td></td>\n",
       "      <td>0.1</td>\n",
       "    </tr>\n",
       "    <tr>\n",
       "      <th>1</th>\n",
       "      <td>0.200000</td>\n",
       "      <td></td>\n",
       "      <td>0.22</td>\n",
       "      <td>0.100000</td>\n",
       "      <td></td>\n",
       "      <td>0.12</td>\n",
       "    </tr>\n",
       "    <tr>\n",
       "      <th>2</th>\n",
       "      <td>0.220000</td>\n",
       "      <td></td>\n",
       "      <td>0.24</td>\n",
       "      <td>0.120000</td>\n",
       "      <td></td>\n",
       "      <td>0.14</td>\n",
       "    </tr>\n",
       "    <tr>\n",
       "      <th>3</th>\n",
       "      <td>0.240000</td>\n",
       "      <td></td>\n",
       "      <td>0.26</td>\n",
       "      <td>0.140000</td>\n",
       "      <td>0</td>\n",
       "      <td>0.16</td>\n",
       "    </tr>\n",
       "    <tr>\n",
       "      <th>4</th>\n",
       "      <td>0.260000</td>\n",
       "      <td>0</td>\n",
       "      <td>0.28</td>\n",
       "      <td>0.160000</td>\n",
       "      <td></td>\n",
       "      <td>0.18</td>\n",
       "    </tr>\n",
       "    <tr>\n",
       "      <th>5</th>\n",
       "      <td>0.280000</td>\n",
       "      <td></td>\n",
       "      <td>0.3</td>\n",
       "      <td>0.180000</td>\n",
       "      <td></td>\n",
       "      <td>0.2</td>\n",
       "    </tr>\n",
       "    <tr>\n",
       "      <th>6</th>\n",
       "      <td>0.300000</td>\n",
       "      <td></td>\n",
       "      <td>np.inf</td>\n",
       "      <td>0.200000</td>\n",
       "      <td></td>\n",
       "      <td>np.inf</td>\n",
       "    </tr>\n",
       "  </tbody>\n",
       "</table>\n",
       "</div>"
      ],
      "text/plain": [
       "         Ca                       Fe               \n",
       "         lb sample      ub        lb sample      ub\n",
       "0      -inf            0.2      -inf            0.1\n",
       "1  0.200000           0.22  0.100000           0.12\n",
       "2  0.220000           0.24  0.120000           0.14\n",
       "3  0.240000           0.26  0.140000      0    0.16\n",
       "4  0.260000      0    0.28  0.160000           0.18\n",
       "5  0.280000            0.3  0.180000            0.2\n",
       "6  0.300000         np.inf  0.200000         np.inf"
      ]
     },
     "execution_count": 232,
     "metadata": {},
     "output_type": "execute_result"
    }
   ],
   "source": [
    "X.suggester.get_state()"
   ]
  },
  {
   "cell_type": "markdown",
   "metadata": {},
   "source": [
    "#second"
   ]
  },
  {
   "cell_type": "code",
   "execution_count": 233,
   "metadata": {
    "collapsed": false
   },
   "outputs": [
    {
     "name": "stdout",
     "output_type": "stream",
     "text": [
      "suggested mass fraction\n"
     ]
    },
    {
     "data": {
      "text/plain": [
       "Ca    0.21\n",
       "Fe    0.17\n",
       "dtype: float64"
      ]
     },
     "metadata": {},
     "output_type": "display_data"
    },
    {
     "name": "stdout",
     "output_type": "stream",
     "text": [
      "\n",
      "suggested bead\n"
     ]
    },
    {
     "data": {
      "text/html": [
       "<div>\n",
       "<table border=\"1\" class=\"dataframe\">\n",
       "  <thead>\n",
       "    <tr style=\"text-align: right;\">\n",
       "      <th></th>\n",
       "      <th>name</th>\n",
       "      <th>measured</th>\n",
       "      <th>final</th>\n",
       "      <th>mass</th>\n",
       "    </tr>\n",
       "  </thead>\n",
       "  <tbody>\n",
       "    <tr>\n",
       "      <th>0</th>\n",
       "      <td>CaO</td>\n",
       "      <td>(H2O)0.0277542(CaO)0.00891625</td>\n",
       "      <td>(CaO)0.00891625</td>\n",
       "      <td>0.587667</td>\n",
       "    </tr>\n",
       "    <tr>\n",
       "      <th>1</th>\n",
       "      <td>Fe2O3</td>\n",
       "      <td>Fe2O3</td>\n",
       "      <td>--</td>\n",
       "      <td>0.243057</td>\n",
       "    </tr>\n",
       "    <tr>\n",
       "      <th>2</th>\n",
       "      <td>lithium_borate</td>\n",
       "      <td>LiB4O7</td>\n",
       "      <td>--</td>\n",
       "      <td>0.463110</td>\n",
       "    </tr>\n",
       "    <tr>\n",
       "      <th>0</th>\n",
       "      <td>tot</td>\n",
       "      <td>--</td>\n",
       "      <td>--</td>\n",
       "      <td>1.000000</td>\n",
       "    </tr>\n",
       "  </tbody>\n",
       "</table>\n",
       "</div>"
      ],
      "text/plain": [
       "<mix.SingleBead at 0x108f08210>"
      ]
     },
     "metadata": {},
     "output_type": "display_data"
    },
    {
     "name": "stdout",
     "output_type": "stream",
     "text": [
      "\n",
      "suggested final comp\n"
     ]
    },
    {
     "data": {
      "text/plain": [
       "B     0.123484\n",
       "Li    0.019820\n",
       "Ca    0.210000\n",
       "Fe    0.170000\n",
       "O     0.476696\n",
       "dtype: float64"
      ]
     },
     "metadata": {},
     "output_type": "display_data"
    }
   ],
   "source": [
    "sug,bead = X.get_suggested_bead(1.0)\n",
    "print_suggestion(sug,bead)"
   ]
  },
  {
   "cell_type": "code",
   "execution_count": 236,
   "metadata": {
    "collapsed": false
   },
   "outputs": [
    {
     "name": "stdout",
     "output_type": "stream",
     "text": [
      "suggested mass fraction\n"
     ]
    },
    {
     "data": {
      "text/plain": [
       "Ca    0.21\n",
       "Fe    0.17\n",
       "dtype: float64"
      ]
     },
     "metadata": {},
     "output_type": "display_data"
    },
    {
     "name": "stdout",
     "output_type": "stream",
     "text": [
      "before heating\n"
     ]
    },
    {
     "data": {
      "text/html": [
       "<div>\n",
       "<table border=\"1\" class=\"dataframe\">\n",
       "  <thead>\n",
       "    <tr style=\"text-align: right;\">\n",
       "      <th></th>\n",
       "      <th>name</th>\n",
       "      <th>measured</th>\n",
       "      <th>final</th>\n",
       "      <th>mass</th>\n",
       "    </tr>\n",
       "  </thead>\n",
       "  <tbody>\n",
       "    <tr>\n",
       "      <th>0</th>\n",
       "      <td>CaO</td>\n",
       "      <td>(H2O)0.0277542(CaO)0.00891625</td>\n",
       "      <td>(CaO)0.00891625</td>\n",
       "      <td>0.58</td>\n",
       "    </tr>\n",
       "    <tr>\n",
       "      <th>1</th>\n",
       "      <td>Fe2O3</td>\n",
       "      <td>Fe2O3</td>\n",
       "      <td>--</td>\n",
       "      <td>0.24</td>\n",
       "    </tr>\n",
       "    <tr>\n",
       "      <th>2</th>\n",
       "      <td>lithium_borate</td>\n",
       "      <td>LiB4O7</td>\n",
       "      <td>--</td>\n",
       "      <td>0.46</td>\n",
       "    </tr>\n",
       "    <tr>\n",
       "      <th>0</th>\n",
       "      <td>tot</td>\n",
       "      <td>--</td>\n",
       "      <td>--</td>\n",
       "      <td>0.98</td>\n",
       "    </tr>\n",
       "  </tbody>\n",
       "</table>\n",
       "</div>"
      ],
      "text/plain": [
       "<mix.SingleBead at 0x108f5ef50>"
      ]
     },
     "metadata": {},
     "output_type": "display_data"
    },
    {
     "name": "stdout",
     "output_type": "stream",
     "text": [
      "\n",
      "after heating\n"
     ]
    },
    {
     "data": {
      "text/html": [
       "<div>\n",
       "<table border=\"1\" class=\"dataframe\">\n",
       "  <thead>\n",
       "    <tr style=\"text-align: right;\">\n",
       "      <th></th>\n",
       "      <th>name</th>\n",
       "      <th>measured</th>\n",
       "      <th>final</th>\n",
       "      <th>mass</th>\n",
       "    </tr>\n",
       "  </thead>\n",
       "  <tbody>\n",
       "    <tr>\n",
       "      <th>0</th>\n",
       "      <td>CaO</td>\n",
       "      <td>(H2O)0.0277542(CaO)0.00891625</td>\n",
       "      <td>(CaO)0.00891625</td>\n",
       "      <td>0.58</td>\n",
       "    </tr>\n",
       "    <tr>\n",
       "      <th>1</th>\n",
       "      <td>Fe2O3</td>\n",
       "      <td>Fe2O3</td>\n",
       "      <td>--</td>\n",
       "      <td>0.24</td>\n",
       "    </tr>\n",
       "    <tr>\n",
       "      <th>2</th>\n",
       "      <td>lithium_borate</td>\n",
       "      <td>LiB4O7</td>\n",
       "      <td>--</td>\n",
       "      <td>0.46</td>\n",
       "    </tr>\n",
       "    <tr>\n",
       "      <th>0</th>\n",
       "      <td>tot</td>\n",
       "      <td>--</td>\n",
       "      <td>--</td>\n",
       "      <td>0.98</td>\n",
       "    </tr>\n",
       "  </tbody>\n",
       "</table>\n",
       "</div>"
      ],
      "text/plain": [
       "<mix.SingleBead at 0x108f5ef50>"
      ]
     },
     "metadata": {},
     "output_type": "display_data"
    },
    {
     "name": "stdout",
     "output_type": "stream",
     "text": [
      "final compound\n"
     ]
    },
    {
     "data": {
      "text/html": [
       "<p> Compound('[('Ca', 0.20726032234019406), ('Fe', 0.1678621213089007), ('No', 0.6048775563509052)]',None) </p>"
      ],
      "text/plain": [
       "Compound({'formula': [('Ca', 0.20726032234019406), ('Fe', 0.1678621213089007), ('No', 0.6048775563509052)]})"
      ]
     },
     "metadata": {},
     "output_type": "display_data"
    },
    {
     "name": "stdout",
     "output_type": "stream",
     "text": [
      "final composition\n"
     ]
    },
    {
     "data": {
      "text/plain": [
       "No    0.617222\n",
       "Fe    0.171288\n",
       "Ca    0.211490\n",
       "dtype: float64"
      ]
     },
     "metadata": {},
     "output_type": "display_data"
    }
   ],
   "source": [
    "#make a bead\n",
    "bm = mix.SingleBead(X.sources,[0.58,.24,.46])\n",
    "bm.massTot = 0.98\n",
    "bm.keepAtoms = ['Fe','Ca']\n",
    "print_final(sug,bm)\n"
   ]
  },
  {
   "cell_type": "code",
   "execution_count": 237,
   "metadata": {
    "collapsed": true
   },
   "outputs": [],
   "source": [
    "X.append(bm)"
   ]
  },
  {
   "cell_type": "code",
   "execution_count": 238,
   "metadata": {
    "collapsed": false
   },
   "outputs": [
    {
     "data": {
      "text/html": [
       "<div>\n",
       "<table border=\"1\" class=\"dataframe\">\n",
       "  <thead>\n",
       "    <tr>\n",
       "      <th></th>\n",
       "      <th colspan=\"3\" halign=\"left\">Ca</th>\n",
       "      <th colspan=\"3\" halign=\"left\">Fe</th>\n",
       "    </tr>\n",
       "    <tr>\n",
       "      <th></th>\n",
       "      <th>lb</th>\n",
       "      <th>sample</th>\n",
       "      <th>ub</th>\n",
       "      <th>lb</th>\n",
       "      <th>sample</th>\n",
       "      <th>ub</th>\n",
       "    </tr>\n",
       "  </thead>\n",
       "  <tbody>\n",
       "    <tr>\n",
       "      <th>0</th>\n",
       "      <td>-inf</td>\n",
       "      <td></td>\n",
       "      <td>0.2</td>\n",
       "      <td>-inf</td>\n",
       "      <td></td>\n",
       "      <td>0.1</td>\n",
       "    </tr>\n",
       "    <tr>\n",
       "      <th>1</th>\n",
       "      <td>0.200000</td>\n",
       "      <td>1</td>\n",
       "      <td>0.22</td>\n",
       "      <td>0.100000</td>\n",
       "      <td></td>\n",
       "      <td>0.12</td>\n",
       "    </tr>\n",
       "    <tr>\n",
       "      <th>2</th>\n",
       "      <td>0.220000</td>\n",
       "      <td></td>\n",
       "      <td>0.24</td>\n",
       "      <td>0.120000</td>\n",
       "      <td></td>\n",
       "      <td>0.14</td>\n",
       "    </tr>\n",
       "    <tr>\n",
       "      <th>3</th>\n",
       "      <td>0.240000</td>\n",
       "      <td></td>\n",
       "      <td>0.26</td>\n",
       "      <td>0.140000</td>\n",
       "      <td>0</td>\n",
       "      <td>0.16</td>\n",
       "    </tr>\n",
       "    <tr>\n",
       "      <th>4</th>\n",
       "      <td>0.260000</td>\n",
       "      <td>0</td>\n",
       "      <td>0.28</td>\n",
       "      <td>0.160000</td>\n",
       "      <td>1</td>\n",
       "      <td>0.18</td>\n",
       "    </tr>\n",
       "    <tr>\n",
       "      <th>5</th>\n",
       "      <td>0.280000</td>\n",
       "      <td></td>\n",
       "      <td>0.3</td>\n",
       "      <td>0.180000</td>\n",
       "      <td></td>\n",
       "      <td>0.2</td>\n",
       "    </tr>\n",
       "    <tr>\n",
       "      <th>6</th>\n",
       "      <td>0.300000</td>\n",
       "      <td></td>\n",
       "      <td>np.inf</td>\n",
       "      <td>0.200000</td>\n",
       "      <td></td>\n",
       "      <td>np.inf</td>\n",
       "    </tr>\n",
       "  </tbody>\n",
       "</table>\n",
       "</div>"
      ],
      "text/plain": [
       "         Ca                       Fe               \n",
       "         lb sample      ub        lb sample      ub\n",
       "0      -inf            0.2      -inf            0.1\n",
       "1  0.200000      1    0.22  0.100000           0.12\n",
       "2  0.220000           0.24  0.120000           0.14\n",
       "3  0.240000           0.26  0.140000      0    0.16\n",
       "4  0.260000      0    0.28  0.160000      1    0.18\n",
       "5  0.280000            0.3  0.180000            0.2\n",
       "6  0.300000         np.inf  0.200000         np.inf"
      ]
     },
     "execution_count": 238,
     "metadata": {},
     "output_type": "execute_result"
    }
   ],
   "source": [
    "X.suggester.get_state()"
   ]
  },
  {
   "cell_type": "markdown",
   "metadata": {},
   "source": [
    "#third"
   ]
  },
  {
   "cell_type": "code",
   "execution_count": 239,
   "metadata": {
    "collapsed": false
   },
   "outputs": [
    {
     "name": "stdout",
     "output_type": "stream",
     "text": [
      "suggested mass fraction\n"
     ]
    },
    {
     "data": {
      "text/plain": [
       "Ca    0.29\n",
       "Fe    0.19\n",
       "dtype: float64"
      ]
     },
     "metadata": {},
     "output_type": "display_data"
    },
    {
     "name": "stdout",
     "output_type": "stream",
     "text": [
      "\n",
      "suggested bead\n"
     ]
    },
    {
     "data": {
      "text/html": [
       "<div>\n",
       "<table border=\"1\" class=\"dataframe\">\n",
       "  <thead>\n",
       "    <tr style=\"text-align: right;\">\n",
       "      <th></th>\n",
       "      <th>name</th>\n",
       "      <th>measured</th>\n",
       "      <th>final</th>\n",
       "      <th>mass</th>\n",
       "    </tr>\n",
       "  </thead>\n",
       "  <tbody>\n",
       "    <tr>\n",
       "      <th>0</th>\n",
       "      <td>CaO</td>\n",
       "      <td>(H2O)0.0277542(CaO)0.00891625</td>\n",
       "      <td>(CaO)0.00891625</td>\n",
       "      <td>0.811540</td>\n",
       "    </tr>\n",
       "    <tr>\n",
       "      <th>1</th>\n",
       "      <td>Fe2O3</td>\n",
       "      <td>Fe2O3</td>\n",
       "      <td>--</td>\n",
       "      <td>0.271652</td>\n",
       "    </tr>\n",
       "    <tr>\n",
       "      <th>2</th>\n",
       "      <td>lithium_borate</td>\n",
       "      <td>LiB4O7</td>\n",
       "      <td>--</td>\n",
       "      <td>0.322579</td>\n",
       "    </tr>\n",
       "    <tr>\n",
       "      <th>0</th>\n",
       "      <td>tot</td>\n",
       "      <td>--</td>\n",
       "      <td>--</td>\n",
       "      <td>1.000000</td>\n",
       "    </tr>\n",
       "  </tbody>\n",
       "</table>\n",
       "</div>"
      ],
      "text/plain": [
       "<mix.SingleBead at 0x108f59790>"
      ]
     },
     "metadata": {},
     "output_type": "display_data"
    },
    {
     "name": "stdout",
     "output_type": "stream",
     "text": [
      "\n",
      "suggested final comp\n"
     ]
    },
    {
     "data": {
      "text/plain": [
       "B     0.086013\n",
       "Li    0.013806\n",
       "Ca    0.290000\n",
       "Fe    0.190000\n",
       "O     0.420182\n",
       "dtype: float64"
      ]
     },
     "metadata": {},
     "output_type": "display_data"
    }
   ],
   "source": [
    "sug,bead = X.get_suggested_bead(1.0)\n",
    "print_suggestion(sug,bead)"
   ]
  },
  {
   "cell_type": "code",
   "execution_count": 240,
   "metadata": {
    "collapsed": false
   },
   "outputs": [
    {
     "name": "stdout",
     "output_type": "stream",
     "text": [
      "suggested mass fraction\n"
     ]
    },
    {
     "data": {
      "text/plain": [
       "Ca    0.29\n",
       "Fe    0.19\n",
       "dtype: float64"
      ]
     },
     "metadata": {},
     "output_type": "display_data"
    },
    {
     "name": "stdout",
     "output_type": "stream",
     "text": [
      "before heating\n"
     ]
    },
    {
     "data": {
      "text/html": [
       "<div>\n",
       "<table border=\"1\" class=\"dataframe\">\n",
       "  <thead>\n",
       "    <tr style=\"text-align: right;\">\n",
       "      <th></th>\n",
       "      <th>name</th>\n",
       "      <th>measured</th>\n",
       "      <th>final</th>\n",
       "      <th>mass</th>\n",
       "    </tr>\n",
       "  </thead>\n",
       "  <tbody>\n",
       "    <tr>\n",
       "      <th>0</th>\n",
       "      <td>CaO</td>\n",
       "      <td>(H2O)0.0277542(CaO)0.00891625</td>\n",
       "      <td>(CaO)0.00891625</td>\n",
       "      <td>0.81</td>\n",
       "    </tr>\n",
       "    <tr>\n",
       "      <th>1</th>\n",
       "      <td>Fe2O3</td>\n",
       "      <td>Fe2O3</td>\n",
       "      <td>--</td>\n",
       "      <td>0.27</td>\n",
       "    </tr>\n",
       "    <tr>\n",
       "      <th>2</th>\n",
       "      <td>lithium_borate</td>\n",
       "      <td>LiB4O7</td>\n",
       "      <td>--</td>\n",
       "      <td>0.32</td>\n",
       "    </tr>\n",
       "    <tr>\n",
       "      <th>0</th>\n",
       "      <td>tot</td>\n",
       "      <td>--</td>\n",
       "      <td>--</td>\n",
       "      <td>1.00</td>\n",
       "    </tr>\n",
       "  </tbody>\n",
       "</table>\n",
       "</div>"
      ],
      "text/plain": [
       "<mix.SingleBead at 0x108f67910>"
      ]
     },
     "metadata": {},
     "output_type": "display_data"
    },
    {
     "name": "stdout",
     "output_type": "stream",
     "text": [
      "\n",
      "after heating\n"
     ]
    },
    {
     "data": {
      "text/html": [
       "<div>\n",
       "<table border=\"1\" class=\"dataframe\">\n",
       "  <thead>\n",
       "    <tr style=\"text-align: right;\">\n",
       "      <th></th>\n",
       "      <th>name</th>\n",
       "      <th>measured</th>\n",
       "      <th>final</th>\n",
       "      <th>mass</th>\n",
       "    </tr>\n",
       "  </thead>\n",
       "  <tbody>\n",
       "    <tr>\n",
       "      <th>0</th>\n",
       "      <td>CaO</td>\n",
       "      <td>(H2O)0.0277542(CaO)0.00891625</td>\n",
       "      <td>(CaO)0.00891625</td>\n",
       "      <td>0.81</td>\n",
       "    </tr>\n",
       "    <tr>\n",
       "      <th>1</th>\n",
       "      <td>Fe2O3</td>\n",
       "      <td>Fe2O3</td>\n",
       "      <td>--</td>\n",
       "      <td>0.27</td>\n",
       "    </tr>\n",
       "    <tr>\n",
       "      <th>2</th>\n",
       "      <td>lithium_borate</td>\n",
       "      <td>LiB4O7</td>\n",
       "      <td>--</td>\n",
       "      <td>0.32</td>\n",
       "    </tr>\n",
       "    <tr>\n",
       "      <th>0</th>\n",
       "      <td>tot</td>\n",
       "      <td>--</td>\n",
       "      <td>--</td>\n",
       "      <td>1.00</td>\n",
       "    </tr>\n",
       "  </tbody>\n",
       "</table>\n",
       "</div>"
      ],
      "text/plain": [
       "<mix.SingleBead at 0x108f67910>"
      ]
     },
     "metadata": {},
     "output_type": "display_data"
    },
    {
     "name": "stdout",
     "output_type": "stream",
     "text": [
      "final compound\n"
     ]
    },
    {
     "data": {
      "text/html": [
       "<p> Compound('[('Ca', 0.2894497605095814), ('Fe', 0.18884488647251335), ('No', 0.5217053530179052)]',None) </p>"
      ],
      "text/plain": [
       "Compound({'formula': [('Ca', 0.2894497605095814), ('Fe', 0.18884488647251335), ('No', 0.5217053530179052)]})"
      ]
     },
     "metadata": {},
     "output_type": "display_data"
    },
    {
     "name": "stdout",
     "output_type": "stream",
     "text": [
      "final composition\n"
     ]
    },
    {
     "data": {
      "text/plain": [
       "No    0.521705\n",
       "Fe    0.188845\n",
       "Ca    0.289450\n",
       "dtype: float64"
      ]
     },
     "metadata": {},
     "output_type": "display_data"
    }
   ],
   "source": [
    "#make a bead\n",
    "bm = mix.SingleBead(X.sources,[0.81,0.27,0.32])\n",
    "bm.massTot = 1.0\n",
    "bm.keepAtoms = ['Fe','Ca']\n",
    "print_final(sug,bm)"
   ]
  },
  {
   "cell_type": "code",
   "execution_count": 241,
   "metadata": {
    "collapsed": true
   },
   "outputs": [],
   "source": [
    "X.append(bm)"
   ]
  },
  {
   "cell_type": "code",
   "execution_count": 242,
   "metadata": {
    "collapsed": false
   },
   "outputs": [
    {
     "data": {
      "text/html": [
       "<div>\n",
       "<table border=\"1\" class=\"dataframe\">\n",
       "  <thead>\n",
       "    <tr>\n",
       "      <th></th>\n",
       "      <th colspan=\"3\" halign=\"left\">Ca</th>\n",
       "      <th colspan=\"3\" halign=\"left\">Fe</th>\n",
       "    </tr>\n",
       "    <tr>\n",
       "      <th></th>\n",
       "      <th>lb</th>\n",
       "      <th>sample</th>\n",
       "      <th>ub</th>\n",
       "      <th>lb</th>\n",
       "      <th>sample</th>\n",
       "      <th>ub</th>\n",
       "    </tr>\n",
       "  </thead>\n",
       "  <tbody>\n",
       "    <tr>\n",
       "      <th>0</th>\n",
       "      <td>-inf</td>\n",
       "      <td></td>\n",
       "      <td>0.2</td>\n",
       "      <td>-inf</td>\n",
       "      <td></td>\n",
       "      <td>0.1</td>\n",
       "    </tr>\n",
       "    <tr>\n",
       "      <th>1</th>\n",
       "      <td>0.200000</td>\n",
       "      <td>1</td>\n",
       "      <td>0.22</td>\n",
       "      <td>0.100000</td>\n",
       "      <td></td>\n",
       "      <td>0.12</td>\n",
       "    </tr>\n",
       "    <tr>\n",
       "      <th>2</th>\n",
       "      <td>0.220000</td>\n",
       "      <td></td>\n",
       "      <td>0.24</td>\n",
       "      <td>0.120000</td>\n",
       "      <td></td>\n",
       "      <td>0.14</td>\n",
       "    </tr>\n",
       "    <tr>\n",
       "      <th>3</th>\n",
       "      <td>0.240000</td>\n",
       "      <td></td>\n",
       "      <td>0.26</td>\n",
       "      <td>0.140000</td>\n",
       "      <td>0</td>\n",
       "      <td>0.16</td>\n",
       "    </tr>\n",
       "    <tr>\n",
       "      <th>4</th>\n",
       "      <td>0.260000</td>\n",
       "      <td>0</td>\n",
       "      <td>0.28</td>\n",
       "      <td>0.160000</td>\n",
       "      <td>1</td>\n",
       "      <td>0.18</td>\n",
       "    </tr>\n",
       "    <tr>\n",
       "      <th>5</th>\n",
       "      <td>0.280000</td>\n",
       "      <td>2</td>\n",
       "      <td>0.3</td>\n",
       "      <td>0.180000</td>\n",
       "      <td>2</td>\n",
       "      <td>0.2</td>\n",
       "    </tr>\n",
       "    <tr>\n",
       "      <th>6</th>\n",
       "      <td>0.300000</td>\n",
       "      <td></td>\n",
       "      <td>np.inf</td>\n",
       "      <td>0.200000</td>\n",
       "      <td></td>\n",
       "      <td>np.inf</td>\n",
       "    </tr>\n",
       "  </tbody>\n",
       "</table>\n",
       "</div>"
      ],
      "text/plain": [
       "         Ca                       Fe               \n",
       "         lb sample      ub        lb sample      ub\n",
       "0      -inf            0.2      -inf            0.1\n",
       "1  0.200000      1    0.22  0.100000           0.12\n",
       "2  0.220000           0.24  0.120000           0.14\n",
       "3  0.240000           0.26  0.140000      0    0.16\n",
       "4  0.260000      0    0.28  0.160000      1    0.18\n",
       "5  0.280000      2     0.3  0.180000      2     0.2\n",
       "6  0.300000         np.inf  0.200000         np.inf"
      ]
     },
     "execution_count": 242,
     "metadata": {},
     "output_type": "execute_result"
    }
   ],
   "source": [
    "X.suggester.get_state()"
   ]
  },
  {
   "cell_type": "code",
   "execution_count": null,
   "metadata": {
    "collapsed": true
   },
   "outputs": [],
   "source": []
  }
 ],
 "metadata": {
  "kernelspec": {
   "display_name": "Python 2",
   "language": "python",
   "name": "python2"
  },
  "language_info": {
   "codemirror_mode": {
    "name": "ipython",
    "version": 2
   },
   "file_extension": ".py",
   "mimetype": "text/x-python",
   "name": "python",
   "nbconvert_exporter": "python",
   "pygments_lexer": "ipython2",
   "version": "2.7.10"
  }
 },
 "nbformat": 4,
 "nbformat_minor": 0
}
