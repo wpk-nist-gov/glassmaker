{
 "cells": [
  {
   "cell_type": "code",
   "execution_count": 11,
   "metadata": {
    "collapsed": false
   },
   "outputs": [
    {
     "data": {
      "text/plain": [
       "<module 'mix' from 'mix.py'>"
      ]
     },
     "execution_count": 11,
     "metadata": {},
     "output_type": "execute_result"
    }
   ],
   "source": [
    "import mix\n",
    "reload(mix)"
   ]
  },
  {
   "cell_type": "code",
   "execution_count": 20,
   "metadata": {
    "collapsed": true
   },
   "outputs": [],
   "source": [
    "from IPython.display import display"
   ]
  },
  {
   "cell_type": "code",
   "execution_count": 17,
   "metadata": {
    "collapsed": true
   },
   "outputs": [],
   "source": [
    "matrix = mix.CompoundVolatile('LiB4O7',name = 'lithium_borate')\n",
    "sourceA = mix.CompoundVolatile({'CaO':0.5,'H2O':0.5},{'CaO':0.5},name='CaO')\n",
    "sourceB = mix.CompoundVolatile('Fe2O3')\n",
    "sources = mix.CompoundCollection([sourceA,sourceB,matrix])\n",
    "target_mass = 1.0"
   ]
  },
  {
   "cell_type": "code",
   "execution_count": 13,
   "metadata": {
    "collapsed": false
   },
   "outputs": [
    {
     "data": {
      "text/plain": [
       "{'Ca': (0.2, 0.3), 'Fe': (0.1, 0.2)}"
      ]
     },
     "execution_count": 13,
     "metadata": {},
     "output_type": "execute_result"
    }
   ],
   "source": [
    "Suggester = mix.TargetMassFracSuggester(targets={},nsamples=5)\n",
    "Suggester.targets['Fe'] = (0.1,0.2)\n",
    "Suggester.targets['Ca'] = (0.2,0.3)\n",
    "Suggester.targets"
   ]
  },
  {
   "cell_type": "code",
   "execution_count": 14,
   "metadata": {
    "collapsed": false
   },
   "outputs": [],
   "source": [
    "mix.random.seed(10)"
   ]
  },
  {
   "cell_type": "code",
   "execution_count": 15,
   "metadata": {
    "collapsed": false
   },
   "outputs": [
    {
     "data": {
      "text/plain": [
       "{'Ca': 0.25, 'Fe': 0.15000000000000002}"
      ]
     },
     "execution_count": 15,
     "metadata": {},
     "output_type": "execute_result"
    }
   ],
   "source": [
    "suggestion = Suggester.make_suggestion()\n",
    "suggestion"
   ]
  },
  {
   "cell_type": "code",
   "execution_count": 18,
   "metadata": {
    "collapsed": false
   },
   "outputs": [
    {
     "data": {
      "text/html": [
       "<div>\n",
       "<table border=\"1\" class=\"dataframe\">\n",
       "  <thead>\n",
       "    <tr style=\"text-align: right;\">\n",
       "      <th></th>\n",
       "      <th>name</th>\n",
       "      <th>measured</th>\n",
       "      <th>final</th>\n",
       "      <th>mass</th>\n",
       "    </tr>\n",
       "  </thead>\n",
       "  <tbody>\n",
       "    <tr>\n",
       "      <th>0</th>\n",
       "      <td>CaO</td>\n",
       "      <td>(H2O)0.0277542(CaO)0.00891625</td>\n",
       "      <td>(CaO)0.00891625</td>\n",
       "      <td>0.699603</td>\n",
       "    </tr>\n",
       "    <tr>\n",
       "      <th>1</th>\n",
       "      <td>Fe2O3</td>\n",
       "      <td>Fe2O3</td>\n",
       "      <td>--</td>\n",
       "      <td>0.214462</td>\n",
       "    </tr>\n",
       "    <tr>\n",
       "      <th>2</th>\n",
       "      <td>lithium_borate</td>\n",
       "      <td>LiB4O7</td>\n",
       "      <td>--</td>\n",
       "      <td>0.435737</td>\n",
       "    </tr>\n",
       "  </tbody>\n",
       "</table>\n",
       "</div>"
      ],
      "text/plain": [
       "<mix.SingleBead at 0x109278f50>"
      ]
     },
     "execution_count": 18,
     "metadata": {},
     "output_type": "execute_result"
    }
   ],
   "source": [
    "s = mix.SingleBead.from_targets(suggestion,target_mass,sources)\n",
    "s"
   ]
  },
  {
   "cell_type": "code",
   "execution_count": 21,
   "metadata": {
    "collapsed": false
   },
   "outputs": [
    {
     "data": {
      "text/html": [
       "<div>\n",
       "<table border=\"1\" class=\"dataframe\">\n",
       "  <thead>\n",
       "    <tr style=\"text-align: right;\">\n",
       "      <th></th>\n",
       "      <th>name</th>\n",
       "      <th>measured</th>\n",
       "      <th>final</th>\n",
       "      <th>mass</th>\n",
       "    </tr>\n",
       "  </thead>\n",
       "  <tbody>\n",
       "    <tr>\n",
       "      <th>0</th>\n",
       "      <td>CaO</td>\n",
       "      <td>(H2O)0.0277542(CaO)0.00891625</td>\n",
       "      <td>(CaO)0.00891625</td>\n",
       "      <td>0.70</td>\n",
       "    </tr>\n",
       "    <tr>\n",
       "      <th>1</th>\n",
       "      <td>Fe2O3</td>\n",
       "      <td>Fe2O3</td>\n",
       "      <td>--</td>\n",
       "      <td>0.21</td>\n",
       "    </tr>\n",
       "    <tr>\n",
       "      <th>2</th>\n",
       "      <td>lithium_borate</td>\n",
       "      <td>LiB4O7</td>\n",
       "      <td>--</td>\n",
       "      <td>0.44</td>\n",
       "    </tr>\n",
       "  </tbody>\n",
       "</table>\n",
       "</div>"
      ],
      "text/plain": [
       "<mix.SingleBead at 0x109454b10>"
      ]
     },
     "metadata": {},
     "output_type": "display_data"
    },
    {
     "data": {
      "text/html": [
       "<p> Compound('[('Ca', 0.2501417683416135), ('Fe', 0.14687935614528813), ('No', 0.5529788755130983)]',None) </p>"
      ],
      "text/plain": [
       "Compound({'formula': [('Ca', 0.2501417683416135), ('Fe', 0.14687935614528813), ('No', 0.5529788755130983)]})"
      ]
     },
     "metadata": {},
     "output_type": "display_data"
    },
    {
     "name": "stdout",
     "output_type": "stream",
     "text": [
      "superdict([('Fe', 0.15460984857398752), ('No', 0.582083026855893), ('Ca', 0.2633071245701195)])\n"
     ]
    }
   ],
   "source": [
    "#make actual bead\n",
    "sA = mix.SingleBead(sources,[0.70,0.21,0.44])\n",
    "display(sA)\n",
    "#mass ends up being 0.95\n",
    "bead = sA.measured_compound_filtered(['Ca','Fe'],0.95)\n",
    "display(bead)\n",
    "print bead.mass_fraction"
   ]
  },
  {
   "cell_type": "code",
   "execution_count": 29,
   "metadata": {
    "collapsed": true
   },
   "outputs": [],
   "source": [
    "Suggester.add_sample(**bead.mass_fraction)"
   ]
  },
  {
   "cell_type": "code",
   "execution_count": 30,
   "metadata": {
    "collapsed": false,
    "scrolled": true
   },
   "outputs": [
    {
     "data": {
      "text/html": [
       "<div>\n",
       "<table border=\"1\" class=\"dataframe\">\n",
       "  <thead>\n",
       "    <tr>\n",
       "      <th></th>\n",
       "      <th colspan=\"3\" halign=\"left\">Ca</th>\n",
       "      <th colspan=\"3\" halign=\"left\">Fe</th>\n",
       "    </tr>\n",
       "    <tr>\n",
       "      <th></th>\n",
       "      <th>lb</th>\n",
       "      <th>sample</th>\n",
       "      <th>ub</th>\n",
       "      <th>lb</th>\n",
       "      <th>sample</th>\n",
       "      <th>ub</th>\n",
       "    </tr>\n",
       "  </thead>\n",
       "  <tbody>\n",
       "    <tr>\n",
       "      <th>0</th>\n",
       "      <td>-inf</td>\n",
       "      <td></td>\n",
       "      <td>0.2</td>\n",
       "      <td>-inf</td>\n",
       "      <td></td>\n",
       "      <td>0.1</td>\n",
       "    </tr>\n",
       "    <tr>\n",
       "      <th>1</th>\n",
       "      <td>0.200000</td>\n",
       "      <td></td>\n",
       "      <td>0.22</td>\n",
       "      <td>0.100000</td>\n",
       "      <td></td>\n",
       "      <td>0.12</td>\n",
       "    </tr>\n",
       "    <tr>\n",
       "      <th>2</th>\n",
       "      <td>0.220000</td>\n",
       "      <td></td>\n",
       "      <td>0.24</td>\n",
       "      <td>0.120000</td>\n",
       "      <td></td>\n",
       "      <td>0.14</td>\n",
       "    </tr>\n",
       "    <tr>\n",
       "      <th>3</th>\n",
       "      <td>0.240000</td>\n",
       "      <td></td>\n",
       "      <td>0.26</td>\n",
       "      <td>0.140000</td>\n",
       "      <td>0</td>\n",
       "      <td>0.16</td>\n",
       "    </tr>\n",
       "    <tr>\n",
       "      <th>4</th>\n",
       "      <td>0.260000</td>\n",
       "      <td>0</td>\n",
       "      <td>0.28</td>\n",
       "      <td>0.160000</td>\n",
       "      <td></td>\n",
       "      <td>0.18</td>\n",
       "    </tr>\n",
       "    <tr>\n",
       "      <th>5</th>\n",
       "      <td>0.280000</td>\n",
       "      <td></td>\n",
       "      <td>0.3</td>\n",
       "      <td>0.180000</td>\n",
       "      <td></td>\n",
       "      <td>0.2</td>\n",
       "    </tr>\n",
       "    <tr>\n",
       "      <th>6</th>\n",
       "      <td>0.300000</td>\n",
       "      <td></td>\n",
       "      <td>np.inf</td>\n",
       "      <td>0.200000</td>\n",
       "      <td></td>\n",
       "      <td>np.inf</td>\n",
       "    </tr>\n",
       "  </tbody>\n",
       "</table>\n",
       "</div>"
      ],
      "text/plain": [
       "         Ca                       Fe               \n",
       "         lb sample      ub        lb sample      ub\n",
       "0      -inf            0.2      -inf            0.1\n",
       "1  0.200000           0.22  0.100000           0.12\n",
       "2  0.220000           0.24  0.120000           0.14\n",
       "3  0.240000           0.26  0.140000      0    0.16\n",
       "4  0.260000      0    0.28  0.160000           0.18\n",
       "5  0.280000            0.3  0.180000            0.2\n",
       "6  0.300000         np.inf  0.200000         np.inf"
      ]
     },
     "execution_count": 30,
     "metadata": {},
     "output_type": "execute_result"
    }
   ],
   "source": [
    "Suggester.get_state()"
   ]
  },
  {
   "cell_type": "markdown",
   "metadata": {},
   "source": [
    "#bead family"
   ]
  },
  {
   "cell_type": "code",
   "execution_count": 199,
   "metadata": {
    "collapsed": false
   },
   "outputs": [
    {
     "data": {
      "text/plain": [
       "<module 'mix' from 'mix.py'>"
      ]
     },
     "execution_count": 199,
     "metadata": {},
     "output_type": "execute_result"
    }
   ],
   "source": [
    "reload(mix)"
   ]
  },
  {
   "cell_type": "code",
   "execution_count": 200,
   "metadata": {
    "collapsed": true
   },
   "outputs": [],
   "source": [
    "matrix = mix.CompoundVolatile('LiB4O7',name = 'lithium_borate')\n",
    "sourceA = mix.CompoundVolatile({'CaO':0.5,'H2O':0.5},{'CaO':0.5},name='CaO')\n",
    "sourceB = mix.CompoundVolatile('Fe2O3')\n",
    "sources = mix.CompoundCollection([sourceA,sourceB,matrix])"
   ]
  },
  {
   "cell_type": "code",
   "execution_count": 201,
   "metadata": {
    "collapsed": false
   },
   "outputs": [],
   "source": [
    "X = mix.BeadFamily({'Fe':(0.1,0.2),'Ca':(0.2,0.3)},sources,5)"
   ]
  },
  {
   "cell_type": "code",
   "execution_count": 202,
   "metadata": {
    "collapsed": true
   },
   "outputs": [],
   "source": [
    "mix.random.seed(10)"
   ]
  },
  {
   "cell_type": "code",
   "execution_count": 217,
   "metadata": {
    "collapsed": true
   },
   "outputs": [],
   "source": [
    "#first"
   ]
  },
  {
   "cell_type": "code",
   "execution_count": 203,
   "metadata": {
    "collapsed": false
   },
   "outputs": [
    {
     "name": "stdout",
     "output_type": "stream",
     "text": [
      "{'Ca': 0.25, 'Fe': 0.15000000000000002}\n"
     ]
    },
    {
     "data": {
      "text/html": [
       "<div>\n",
       "<table border=\"1\" class=\"dataframe\">\n",
       "  <thead>\n",
       "    <tr style=\"text-align: right;\">\n",
       "      <th></th>\n",
       "      <th>name</th>\n",
       "      <th>measured</th>\n",
       "      <th>final</th>\n",
       "      <th>mass</th>\n",
       "    </tr>\n",
       "  </thead>\n",
       "  <tbody>\n",
       "    <tr>\n",
       "      <th>0</th>\n",
       "      <td>CaO</td>\n",
       "      <td>(H2O)0.0277542(CaO)0.00891625</td>\n",
       "      <td>(CaO)0.00891625</td>\n",
       "      <td>0.699603</td>\n",
       "    </tr>\n",
       "    <tr>\n",
       "      <th>1</th>\n",
       "      <td>Fe2O3</td>\n",
       "      <td>Fe2O3</td>\n",
       "      <td>--</td>\n",
       "      <td>0.214462</td>\n",
       "    </tr>\n",
       "    <tr>\n",
       "      <th>2</th>\n",
       "      <td>lithium_borate</td>\n",
       "      <td>LiB4O7</td>\n",
       "      <td>--</td>\n",
       "      <td>0.435737</td>\n",
       "    </tr>\n",
       "    <tr>\n",
       "      <th>0</th>\n",
       "      <td>tot</td>\n",
       "      <td>--</td>\n",
       "      <td>--</td>\n",
       "      <td>1.000000</td>\n",
       "    </tr>\n",
       "  </tbody>\n",
       "</table>\n",
       "</div>"
      ],
      "text/plain": [
       "<mix.SingleBead at 0x10990be90>"
      ]
     },
     "metadata": {},
     "output_type": "display_data"
    },
    {
     "name": "stdout",
     "output_type": "stream",
     "text": [
      "superdict([('B', 0.11618511690180702), ('Fe', 0.15), ('Ca', 0.24999999999999997), ('Li', 0.01864861937876798), ('O', 0.4651662637194251)])\n"
     ]
    }
   ],
   "source": [
    "sug,bead = X.get_suggested_bead(1.0)\n",
    "print sug\n",
    "display(bead)\n",
    "print bead.final_compound.mass_fraction"
   ]
  },
  {
   "cell_type": "code",
   "execution_count": 205,
   "metadata": {
    "collapsed": false
   },
   "outputs": [
    {
     "name": "stdout",
     "output_type": "stream",
     "text": [
      "before heat\n"
     ]
    },
    {
     "data": {
      "text/html": [
       "<div>\n",
       "<table border=\"1\" class=\"dataframe\">\n",
       "  <thead>\n",
       "    <tr style=\"text-align: right;\">\n",
       "      <th></th>\n",
       "      <th>name</th>\n",
       "      <th>measured</th>\n",
       "      <th>final</th>\n",
       "      <th>mass</th>\n",
       "    </tr>\n",
       "  </thead>\n",
       "  <tbody>\n",
       "    <tr>\n",
       "      <th>0</th>\n",
       "      <td>CaO</td>\n",
       "      <td>(H2O)0.0277542(CaO)0.00891625</td>\n",
       "      <td>(CaO)0.00891625</td>\n",
       "      <td>0.700</td>\n",
       "    </tr>\n",
       "    <tr>\n",
       "      <th>1</th>\n",
       "      <td>Fe2O3</td>\n",
       "      <td>Fe2O3</td>\n",
       "      <td>--</td>\n",
       "      <td>0.210</td>\n",
       "    </tr>\n",
       "    <tr>\n",
       "      <th>2</th>\n",
       "      <td>lithium_borate</td>\n",
       "      <td>LiB4O7</td>\n",
       "      <td>--</td>\n",
       "      <td>0.575</td>\n",
       "    </tr>\n",
       "    <tr>\n",
       "      <th>0</th>\n",
       "      <td>tot</td>\n",
       "      <td>--</td>\n",
       "      <td>--</td>\n",
       "      <td>1.135</td>\n",
       "    </tr>\n",
       "  </tbody>\n",
       "</table>\n",
       "</div>"
      ],
      "text/plain": [
       "<mix.SingleBead at 0x1094e4410>"
      ]
     },
     "metadata": {},
     "output_type": "display_data"
    },
    {
     "name": "stdout",
     "output_type": "stream",
     "text": [
      "after head\n"
     ]
    },
    {
     "data": {
      "text/html": [
       "<div>\n",
       "<table border=\"1\" class=\"dataframe\">\n",
       "  <thead>\n",
       "    <tr style=\"text-align: right;\">\n",
       "      <th></th>\n",
       "      <th>name</th>\n",
       "      <th>measured</th>\n",
       "      <th>final</th>\n",
       "      <th>mass</th>\n",
       "    </tr>\n",
       "  </thead>\n",
       "  <tbody>\n",
       "    <tr>\n",
       "      <th>0</th>\n",
       "      <td>CaO</td>\n",
       "      <td>(H2O)0.0277542(CaO)0.00891625</td>\n",
       "      <td>(CaO)0.00891625</td>\n",
       "      <td>0.700</td>\n",
       "    </tr>\n",
       "    <tr>\n",
       "      <th>1</th>\n",
       "      <td>Fe2O3</td>\n",
       "      <td>Fe2O3</td>\n",
       "      <td>--</td>\n",
       "      <td>0.210</td>\n",
       "    </tr>\n",
       "    <tr>\n",
       "      <th>2</th>\n",
       "      <td>lithium_borate</td>\n",
       "      <td>LiB4O7</td>\n",
       "      <td>--</td>\n",
       "      <td>0.575</td>\n",
       "    </tr>\n",
       "    <tr>\n",
       "      <th>0</th>\n",
       "      <td>tot</td>\n",
       "      <td>--</td>\n",
       "      <td>--</td>\n",
       "      <td>0.950</td>\n",
       "    </tr>\n",
       "  </tbody>\n",
       "</table>\n",
       "</div>"
      ],
      "text/plain": [
       "<mix.SingleBead at 0x1094e4410>"
      ]
     },
     "metadata": {},
     "output_type": "display_data"
    },
    {
     "name": "stdout",
     "output_type": "stream",
     "text": [
      "{'formula': [('Ca', 0.2501417683416135), ('Fe', 0.14687935614528813), ('No', 0.5529788755130983)]}\n",
      "superdict([('Fe', 0.15460984857398752), ('No', 0.582083026855893), ('Ca', 0.2633071245701195)])\n"
     ]
    }
   ],
   "source": [
    "#make a bead\n",
    "bm = mix.SingleBead(X.sources,[0.70,0.21,0.575])\n",
    "print 'before heat'\n",
    "display(bm)\n",
    "\n",
    "#mass of final bead is 0.95\n",
    "bm.massTot = 0.95\n",
    "bm.keepAtoms = ['Fe','Ca']\n",
    "print 'after head'\n",
    "display(bm)\n",
    "print bm.bead_compound\n",
    "print bm.bead_compound.mass_fraction"
   ]
  },
  {
   "cell_type": "code",
   "execution_count": 212,
   "metadata": {
    "collapsed": true
   },
   "outputs": [],
   "source": [
    "X.append(bm)"
   ]
  },
  {
   "cell_type": "code",
   "execution_count": 219,
   "metadata": {
    "collapsed": false
   },
   "outputs": [
    {
     "data": {
      "text/html": [
       "<div>\n",
       "<table border=\"1\" class=\"dataframe\">\n",
       "  <thead>\n",
       "    <tr>\n",
       "      <th></th>\n",
       "      <th colspan=\"3\" halign=\"left\">Ca</th>\n",
       "      <th colspan=\"3\" halign=\"left\">Fe</th>\n",
       "    </tr>\n",
       "    <tr>\n",
       "      <th></th>\n",
       "      <th>lb</th>\n",
       "      <th>sample</th>\n",
       "      <th>ub</th>\n",
       "      <th>lb</th>\n",
       "      <th>sample</th>\n",
       "      <th>ub</th>\n",
       "    </tr>\n",
       "  </thead>\n",
       "  <tbody>\n",
       "    <tr>\n",
       "      <th>0</th>\n",
       "      <td>-inf</td>\n",
       "      <td></td>\n",
       "      <td>0.2</td>\n",
       "      <td>-inf</td>\n",
       "      <td></td>\n",
       "      <td>0.1</td>\n",
       "    </tr>\n",
       "    <tr>\n",
       "      <th>1</th>\n",
       "      <td>0.200000</td>\n",
       "      <td></td>\n",
       "      <td>0.22</td>\n",
       "      <td>0.100000</td>\n",
       "      <td></td>\n",
       "      <td>0.12</td>\n",
       "    </tr>\n",
       "    <tr>\n",
       "      <th>2</th>\n",
       "      <td>0.220000</td>\n",
       "      <td></td>\n",
       "      <td>0.24</td>\n",
       "      <td>0.120000</td>\n",
       "      <td></td>\n",
       "      <td>0.14</td>\n",
       "    </tr>\n",
       "    <tr>\n",
       "      <th>3</th>\n",
       "      <td>0.240000</td>\n",
       "      <td></td>\n",
       "      <td>0.26</td>\n",
       "      <td>0.140000</td>\n",
       "      <td>0</td>\n",
       "      <td>0.16</td>\n",
       "    </tr>\n",
       "    <tr>\n",
       "      <th>4</th>\n",
       "      <td>0.260000</td>\n",
       "      <td>0</td>\n",
       "      <td>0.28</td>\n",
       "      <td>0.160000</td>\n",
       "      <td></td>\n",
       "      <td>0.18</td>\n",
       "    </tr>\n",
       "    <tr>\n",
       "      <th>5</th>\n",
       "      <td>0.280000</td>\n",
       "      <td></td>\n",
       "      <td>0.3</td>\n",
       "      <td>0.180000</td>\n",
       "      <td></td>\n",
       "      <td>0.2</td>\n",
       "    </tr>\n",
       "    <tr>\n",
       "      <th>6</th>\n",
       "      <td>0.300000</td>\n",
       "      <td></td>\n",
       "      <td>np.inf</td>\n",
       "      <td>0.200000</td>\n",
       "      <td></td>\n",
       "      <td>np.inf</td>\n",
       "    </tr>\n",
       "  </tbody>\n",
       "</table>\n",
       "</div>"
      ],
      "text/plain": [
       "         Ca                       Fe               \n",
       "         lb sample      ub        lb sample      ub\n",
       "0      -inf            0.2      -inf            0.1\n",
       "1  0.200000           0.22  0.100000           0.12\n",
       "2  0.220000           0.24  0.120000           0.14\n",
       "3  0.240000           0.26  0.140000      0    0.16\n",
       "4  0.260000      0    0.28  0.160000           0.18\n",
       "5  0.280000            0.3  0.180000            0.2\n",
       "6  0.300000         np.inf  0.200000         np.inf"
      ]
     },
     "execution_count": 219,
     "metadata": {},
     "output_type": "execute_result"
    }
   ],
   "source": [
    "X.suggester.get_state()"
   ]
  },
  {
   "cell_type": "code",
   "execution_count": 218,
   "metadata": {
    "collapsed": false
   },
   "outputs": [
    {
     "name": "stdout",
     "output_type": "stream",
     "text": [
      "{'Ca': 0.25, 'Fe': 0.11000000000000001}\n"
     ]
    },
    {
     "data": {
      "text/html": [
       "<div>\n",
       "<table border=\"1\" class=\"dataframe\">\n",
       "  <thead>\n",
       "    <tr style=\"text-align: right;\">\n",
       "      <th></th>\n",
       "      <th>name</th>\n",
       "      <th>measured</th>\n",
       "      <th>final</th>\n",
       "      <th>mass</th>\n",
       "    </tr>\n",
       "  </thead>\n",
       "  <tbody>\n",
       "    <tr>\n",
       "      <th>0</th>\n",
       "      <td>CaO</td>\n",
       "      <td>(H2O)0.0277542(CaO)0.00891625</td>\n",
       "      <td>(CaO)0.00891625</td>\n",
       "      <td>0.699603</td>\n",
       "    </tr>\n",
       "    <tr>\n",
       "      <th>1</th>\n",
       "      <td>Fe2O3</td>\n",
       "      <td>Fe2O3</td>\n",
       "      <td>--</td>\n",
       "      <td>0.157272</td>\n",
       "    </tr>\n",
       "    <tr>\n",
       "      <th>2</th>\n",
       "      <td>lithium_borate</td>\n",
       "      <td>LiB4O7</td>\n",
       "      <td>--</td>\n",
       "      <td>0.492926</td>\n",
       "    </tr>\n",
       "    <tr>\n",
       "      <th>0</th>\n",
       "      <td>tot</td>\n",
       "      <td>--</td>\n",
       "      <td>--</td>\n",
       "      <td>1.000000</td>\n",
       "    </tr>\n",
       "  </tbody>\n",
       "</table>\n",
       "</div>"
      ],
      "text/plain": [
       "<mix.SingleBead at 0x1098e0fd0>"
      ]
     },
     "metadata": {},
     "output_type": "display_data"
    },
    {
     "name": "stdout",
     "output_type": "stream",
     "text": [
      "superdict([('B', 0.1314342426686657), ('Fe', 0.10999999999999995), ('Ca', 0.25000000000000006), ('Li', 0.021096223253242268), ('O', 0.48746953407809207)])\n"
     ]
    }
   ],
   "source": [
    "#second\n",
    "sug,bead = X.get_suggested_bead(1.0)\n",
    "print sug\n",
    "display(bead)\n",
    "print bead.final_compound.mass_fraction"
   ]
  },
  {
   "cell_type": "code",
   "execution_count": 220,
   "metadata": {
    "collapsed": false
   },
   "outputs": [
    {
     "name": "stdout",
     "output_type": "stream",
     "text": [
      "before heat\n"
     ]
    },
    {
     "data": {
      "text/html": [
       "<div>\n",
       "<table border=\"1\" class=\"dataframe\">\n",
       "  <thead>\n",
       "    <tr style=\"text-align: right;\">\n",
       "      <th></th>\n",
       "      <th>name</th>\n",
       "      <th>measured</th>\n",
       "      <th>final</th>\n",
       "      <th>mass</th>\n",
       "    </tr>\n",
       "  </thead>\n",
       "  <tbody>\n",
       "    <tr>\n",
       "      <th>0</th>\n",
       "      <td>CaO</td>\n",
       "      <td>(H2O)0.0277542(CaO)0.00891625</td>\n",
       "      <td>(CaO)0.00891625</td>\n",
       "      <td>0.70</td>\n",
       "    </tr>\n",
       "    <tr>\n",
       "      <th>1</th>\n",
       "      <td>Fe2O3</td>\n",
       "      <td>Fe2O3</td>\n",
       "      <td>--</td>\n",
       "      <td>0.16</td>\n",
       "    </tr>\n",
       "    <tr>\n",
       "      <th>2</th>\n",
       "      <td>lithium_borate</td>\n",
       "      <td>LiB4O7</td>\n",
       "      <td>--</td>\n",
       "      <td>0.49</td>\n",
       "    </tr>\n",
       "    <tr>\n",
       "      <th>0</th>\n",
       "      <td>tot</td>\n",
       "      <td>--</td>\n",
       "      <td>--</td>\n",
       "      <td>1.00</td>\n",
       "    </tr>\n",
       "  </tbody>\n",
       "</table>\n",
       "</div>"
      ],
      "text/plain": [
       "<mix.SingleBead at 0x1098fe290>"
      ]
     },
     "metadata": {},
     "output_type": "display_data"
    },
    {
     "name": "stdout",
     "output_type": "stream",
     "text": [
      "after head\n"
     ]
    },
    {
     "data": {
      "text/html": [
       "<div>\n",
       "<table border=\"1\" class=\"dataframe\">\n",
       "  <thead>\n",
       "    <tr style=\"text-align: right;\">\n",
       "      <th></th>\n",
       "      <th>name</th>\n",
       "      <th>measured</th>\n",
       "      <th>final</th>\n",
       "      <th>mass</th>\n",
       "    </tr>\n",
       "  </thead>\n",
       "  <tbody>\n",
       "    <tr>\n",
       "      <th>0</th>\n",
       "      <td>CaO</td>\n",
       "      <td>(H2O)0.0277542(CaO)0.00891625</td>\n",
       "      <td>(CaO)0.00891625</td>\n",
       "      <td>0.70</td>\n",
       "    </tr>\n",
       "    <tr>\n",
       "      <th>1</th>\n",
       "      <td>Fe2O3</td>\n",
       "      <td>Fe2O3</td>\n",
       "      <td>--</td>\n",
       "      <td>0.16</td>\n",
       "    </tr>\n",
       "    <tr>\n",
       "      <th>2</th>\n",
       "      <td>lithium_borate</td>\n",
       "      <td>LiB4O7</td>\n",
       "      <td>--</td>\n",
       "      <td>0.49</td>\n",
       "    </tr>\n",
       "    <tr>\n",
       "      <th>0</th>\n",
       "      <td>tot</td>\n",
       "      <td>--</td>\n",
       "      <td>--</td>\n",
       "      <td>0.95</td>\n",
       "    </tr>\n",
       "  </tbody>\n",
       "</table>\n",
       "</div>"
      ],
      "text/plain": [
       "<mix.SingleBead at 0x1098fe290>"
      ]
     },
     "metadata": {},
     "output_type": "display_data"
    },
    {
     "name": "stdout",
     "output_type": "stream",
     "text": [
      "{'formula': [('Ca', 0.2501417683416135), ('Fe', 0.11190808087260048), ('No', 0.5879501507857859)]}\n",
      "superdict([('Fe', 0.11779797986589526), ('No', 0.6188948955639852), ('Ca', 0.2633071245701195)])\n"
     ]
    }
   ],
   "source": [
    "#make a bead\n",
    "bm = mix.SingleBead(X.sources,[0.7,0.16,0.49])\n",
    "print 'before heat'\n",
    "display(bm)\n",
    "\n",
    "#mass of final bead is 0.95\n",
    "bm.massTot = 0.95\n",
    "bm.keepAtoms = ['Fe','Ca']\n",
    "print 'after head'\n",
    "display(bm)\n",
    "print bm.bead_compound\n",
    "print bm.bead_compound.mass_fraction"
   ]
  },
  {
   "cell_type": "code",
   "execution_count": 221,
   "metadata": {
    "collapsed": true
   },
   "outputs": [],
   "source": [
    "X.append(bm)"
   ]
  },
  {
   "cell_type": "code",
   "execution_count": 224,
   "metadata": {
    "collapsed": false
   },
   "outputs": [
    {
     "data": {
      "text/html": [
       "<div>\n",
       "<table border=\"1\" class=\"dataframe\">\n",
       "  <thead>\n",
       "    <tr>\n",
       "      <th></th>\n",
       "      <th colspan=\"3\" halign=\"left\">Ca</th>\n",
       "      <th colspan=\"3\" halign=\"left\">Fe</th>\n",
       "    </tr>\n",
       "    <tr>\n",
       "      <th></th>\n",
       "      <th>lb</th>\n",
       "      <th>sample</th>\n",
       "      <th>ub</th>\n",
       "      <th>lb</th>\n",
       "      <th>sample</th>\n",
       "      <th>ub</th>\n",
       "    </tr>\n",
       "  </thead>\n",
       "  <tbody>\n",
       "    <tr>\n",
       "      <th>0</th>\n",
       "      <td>-inf</td>\n",
       "      <td></td>\n",
       "      <td>0.2</td>\n",
       "      <td>-inf</td>\n",
       "      <td></td>\n",
       "      <td>0.1</td>\n",
       "    </tr>\n",
       "    <tr>\n",
       "      <th>1</th>\n",
       "      <td>0.200000</td>\n",
       "      <td></td>\n",
       "      <td>0.22</td>\n",
       "      <td>0.100000</td>\n",
       "      <td>1</td>\n",
       "      <td>0.12</td>\n",
       "    </tr>\n",
       "    <tr>\n",
       "      <th>2</th>\n",
       "      <td>0.220000</td>\n",
       "      <td></td>\n",
       "      <td>0.24</td>\n",
       "      <td>0.120000</td>\n",
       "      <td></td>\n",
       "      <td>0.14</td>\n",
       "    </tr>\n",
       "    <tr>\n",
       "      <th>3</th>\n",
       "      <td>0.240000</td>\n",
       "      <td></td>\n",
       "      <td>0.26</td>\n",
       "      <td>0.140000</td>\n",
       "      <td>0</td>\n",
       "      <td>0.16</td>\n",
       "    </tr>\n",
       "    <tr>\n",
       "      <th>4</th>\n",
       "      <td>0.260000</td>\n",
       "      <td>0,1</td>\n",
       "      <td>0.28</td>\n",
       "      <td>0.160000</td>\n",
       "      <td></td>\n",
       "      <td>0.18</td>\n",
       "    </tr>\n",
       "    <tr>\n",
       "      <th>5</th>\n",
       "      <td>0.280000</td>\n",
       "      <td></td>\n",
       "      <td>0.3</td>\n",
       "      <td>0.180000</td>\n",
       "      <td></td>\n",
       "      <td>0.2</td>\n",
       "    </tr>\n",
       "    <tr>\n",
       "      <th>6</th>\n",
       "      <td>0.300000</td>\n",
       "      <td></td>\n",
       "      <td>np.inf</td>\n",
       "      <td>0.200000</td>\n",
       "      <td></td>\n",
       "      <td>np.inf</td>\n",
       "    </tr>\n",
       "  </tbody>\n",
       "</table>\n",
       "</div>"
      ],
      "text/plain": [
       "         Ca                       Fe               \n",
       "         lb sample      ub        lb sample      ub\n",
       "0      -inf            0.2      -inf            0.1\n",
       "1  0.200000           0.22  0.100000      1    0.12\n",
       "2  0.220000           0.24  0.120000           0.14\n",
       "3  0.240000           0.26  0.140000      0    0.16\n",
       "4  0.260000    0,1    0.28  0.160000           0.18\n",
       "5  0.280000            0.3  0.180000            0.2\n",
       "6  0.300000         np.inf  0.200000         np.inf"
      ]
     },
     "execution_count": 224,
     "metadata": {},
     "output_type": "execute_result"
    }
   ],
   "source": [
    "X.suggester.get_state()"
   ]
  },
  {
   "cell_type": "code",
   "execution_count": 225,
   "metadata": {
    "collapsed": false
   },
   "outputs": [
    {
     "name": "stdout",
     "output_type": "stream",
     "text": [
      "{'Ca': 0.29000000000000004, 'Fe': 0.19}\n"
     ]
    },
    {
     "data": {
      "text/html": [
       "<div>\n",
       "<table border=\"1\" class=\"dataframe\">\n",
       "  <thead>\n",
       "    <tr style=\"text-align: right;\">\n",
       "      <th></th>\n",
       "      <th>name</th>\n",
       "      <th>measured</th>\n",
       "      <th>final</th>\n",
       "      <th>mass</th>\n",
       "    </tr>\n",
       "  </thead>\n",
       "  <tbody>\n",
       "    <tr>\n",
       "      <th>0</th>\n",
       "      <td>CaO</td>\n",
       "      <td>(H2O)0.0277542(CaO)0.00891625</td>\n",
       "      <td>(CaO)0.00891625</td>\n",
       "      <td>0.811540</td>\n",
       "    </tr>\n",
       "    <tr>\n",
       "      <th>1</th>\n",
       "      <td>Fe2O3</td>\n",
       "      <td>Fe2O3</td>\n",
       "      <td>--</td>\n",
       "      <td>0.271652</td>\n",
       "    </tr>\n",
       "    <tr>\n",
       "      <th>2</th>\n",
       "      <td>lithium_borate</td>\n",
       "      <td>LiB4O7</td>\n",
       "      <td>--</td>\n",
       "      <td>0.322579</td>\n",
       "    </tr>\n",
       "    <tr>\n",
       "      <th>0</th>\n",
       "      <td>tot</td>\n",
       "      <td>--</td>\n",
       "      <td>--</td>\n",
       "      <td>1.000000</td>\n",
       "    </tr>\n",
       "  </tbody>\n",
       "</table>\n",
       "</div>"
      ],
      "text/plain": [
       "<mix.SingleBead at 0x10990bd90>"
      ]
     },
     "metadata": {},
     "output_type": "display_data"
    },
    {
     "name": "stdout",
     "output_type": "stream",
     "text": [
      "superdict([('B', 0.0860125753105007), ('Fe', 0.18999999999999995), ('Ca', 0.2900000000000001), ('Li', 0.013805690621362162), ('O', 0.4201817340681372)])\n"
     ]
    }
   ],
   "source": [
    "#third\n",
    "sug,bead = X.get_suggested_bead(1.0)\n",
    "print sug\n",
    "display(bead)\n",
    "print bead.final_compound.mass_fraction"
   ]
  },
  {
   "cell_type": "code",
   "execution_count": 226,
   "metadata": {
    "collapsed": false
   },
   "outputs": [
    {
     "name": "stdout",
     "output_type": "stream",
     "text": [
      "before heat\n"
     ]
    },
    {
     "data": {
      "text/html": [
       "<div>\n",
       "<table border=\"1\" class=\"dataframe\">\n",
       "  <thead>\n",
       "    <tr style=\"text-align: right;\">\n",
       "      <th></th>\n",
       "      <th>name</th>\n",
       "      <th>measured</th>\n",
       "      <th>final</th>\n",
       "      <th>mass</th>\n",
       "    </tr>\n",
       "  </thead>\n",
       "  <tbody>\n",
       "    <tr>\n",
       "      <th>0</th>\n",
       "      <td>CaO</td>\n",
       "      <td>(H2O)0.0277542(CaO)0.00891625</td>\n",
       "      <td>(CaO)0.00891625</td>\n",
       "      <td>0.810</td>\n",
       "    </tr>\n",
       "    <tr>\n",
       "      <th>1</th>\n",
       "      <td>Fe2O3</td>\n",
       "      <td>Fe2O3</td>\n",
       "      <td>--</td>\n",
       "      <td>0.270</td>\n",
       "    </tr>\n",
       "    <tr>\n",
       "      <th>2</th>\n",
       "      <td>lithium_borate</td>\n",
       "      <td>LiB4O7</td>\n",
       "      <td>--</td>\n",
       "      <td>0.320</td>\n",
       "    </tr>\n",
       "    <tr>\n",
       "      <th>0</th>\n",
       "      <td>tot</td>\n",
       "      <td>--</td>\n",
       "      <td>--</td>\n",
       "      <td>0.995</td>\n",
       "    </tr>\n",
       "  </tbody>\n",
       "</table>\n",
       "</div>"
      ],
      "text/plain": [
       "<mix.SingleBead at 0x109922110>"
      ]
     },
     "metadata": {},
     "output_type": "display_data"
    },
    {
     "name": "stdout",
     "output_type": "stream",
     "text": [
      "after head\n"
     ]
    },
    {
     "data": {
      "text/html": [
       "<div>\n",
       "<table border=\"1\" class=\"dataframe\">\n",
       "  <thead>\n",
       "    <tr style=\"text-align: right;\">\n",
       "      <th></th>\n",
       "      <th>name</th>\n",
       "      <th>measured</th>\n",
       "      <th>final</th>\n",
       "      <th>mass</th>\n",
       "    </tr>\n",
       "  </thead>\n",
       "  <tbody>\n",
       "    <tr>\n",
       "      <th>0</th>\n",
       "      <td>CaO</td>\n",
       "      <td>(H2O)0.0277542(CaO)0.00891625</td>\n",
       "      <td>(CaO)0.00891625</td>\n",
       "      <td>0.81</td>\n",
       "    </tr>\n",
       "    <tr>\n",
       "      <th>1</th>\n",
       "      <td>Fe2O3</td>\n",
       "      <td>Fe2O3</td>\n",
       "      <td>--</td>\n",
       "      <td>0.27</td>\n",
       "    </tr>\n",
       "    <tr>\n",
       "      <th>2</th>\n",
       "      <td>lithium_borate</td>\n",
       "      <td>LiB4O7</td>\n",
       "      <td>--</td>\n",
       "      <td>0.32</td>\n",
       "    </tr>\n",
       "    <tr>\n",
       "      <th>0</th>\n",
       "      <td>tot</td>\n",
       "      <td>--</td>\n",
       "      <td>--</td>\n",
       "      <td>1.00</td>\n",
       "    </tr>\n",
       "  </tbody>\n",
       "</table>\n",
       "</div>"
      ],
      "text/plain": [
       "<mix.SingleBead at 0x109922110>"
      ]
     },
     "metadata": {},
     "output_type": "display_data"
    },
    {
     "name": "stdout",
     "output_type": "stream",
     "text": [
      "{'formula': [('Ca', 0.2894497605095814), ('Fe', 0.18884488647251332), ('No', 0.5217053530179053)]}\n",
      "superdict([('Fe', 0.18884488647251332), ('No', 0.5217053530179053), ('Ca', 0.2894497605095814)])\n"
     ]
    }
   ],
   "source": [
    "#make a bead\n",
    "bm = mix.SingleBead(X.sources,[0.81,0.27,0.32])\n",
    "print 'before heat'\n",
    "display(bm)\n",
    "\n",
    "#mass of final bead is 0.95\n",
    "bm.massTot = 1.0\n",
    "bm.keepAtoms = ['Fe','Ca']\n",
    "print 'after head'\n",
    "display(bm)\n",
    "print bm.bead_compound\n",
    "print bm.bead_compound.mass_fraction"
   ]
  },
  {
   "cell_type": "code",
   "execution_count": 227,
   "metadata": {
    "collapsed": true
   },
   "outputs": [],
   "source": [
    "X.append(bm)"
   ]
  },
  {
   "cell_type": "code",
   "execution_count": 228,
   "metadata": {
    "collapsed": false
   },
   "outputs": [
    {
     "data": {
      "text/html": [
       "<div>\n",
       "<table border=\"1\" class=\"dataframe\">\n",
       "  <thead>\n",
       "    <tr>\n",
       "      <th></th>\n",
       "      <th colspan=\"3\" halign=\"left\">Ca</th>\n",
       "      <th colspan=\"3\" halign=\"left\">Fe</th>\n",
       "    </tr>\n",
       "    <tr>\n",
       "      <th></th>\n",
       "      <th>lb</th>\n",
       "      <th>sample</th>\n",
       "      <th>ub</th>\n",
       "      <th>lb</th>\n",
       "      <th>sample</th>\n",
       "      <th>ub</th>\n",
       "    </tr>\n",
       "  </thead>\n",
       "  <tbody>\n",
       "    <tr>\n",
       "      <th>0</th>\n",
       "      <td>-inf</td>\n",
       "      <td></td>\n",
       "      <td>0.2</td>\n",
       "      <td>-inf</td>\n",
       "      <td></td>\n",
       "      <td>0.1</td>\n",
       "    </tr>\n",
       "    <tr>\n",
       "      <th>1</th>\n",
       "      <td>0.200000</td>\n",
       "      <td></td>\n",
       "      <td>0.22</td>\n",
       "      <td>0.100000</td>\n",
       "      <td>1</td>\n",
       "      <td>0.12</td>\n",
       "    </tr>\n",
       "    <tr>\n",
       "      <th>2</th>\n",
       "      <td>0.220000</td>\n",
       "      <td></td>\n",
       "      <td>0.24</td>\n",
       "      <td>0.120000</td>\n",
       "      <td></td>\n",
       "      <td>0.14</td>\n",
       "    </tr>\n",
       "    <tr>\n",
       "      <th>3</th>\n",
       "      <td>0.240000</td>\n",
       "      <td></td>\n",
       "      <td>0.26</td>\n",
       "      <td>0.140000</td>\n",
       "      <td>0</td>\n",
       "      <td>0.16</td>\n",
       "    </tr>\n",
       "    <tr>\n",
       "      <th>4</th>\n",
       "      <td>0.260000</td>\n",
       "      <td>0,1</td>\n",
       "      <td>0.28</td>\n",
       "      <td>0.160000</td>\n",
       "      <td></td>\n",
       "      <td>0.18</td>\n",
       "    </tr>\n",
       "    <tr>\n",
       "      <th>5</th>\n",
       "      <td>0.280000</td>\n",
       "      <td>2</td>\n",
       "      <td>0.3</td>\n",
       "      <td>0.180000</td>\n",
       "      <td>2</td>\n",
       "      <td>0.2</td>\n",
       "    </tr>\n",
       "    <tr>\n",
       "      <th>6</th>\n",
       "      <td>0.300000</td>\n",
       "      <td></td>\n",
       "      <td>np.inf</td>\n",
       "      <td>0.200000</td>\n",
       "      <td></td>\n",
       "      <td>np.inf</td>\n",
       "    </tr>\n",
       "  </tbody>\n",
       "</table>\n",
       "</div>"
      ],
      "text/plain": [
       "         Ca                       Fe               \n",
       "         lb sample      ub        lb sample      ub\n",
       "0      -inf            0.2      -inf            0.1\n",
       "1  0.200000           0.22  0.100000      1    0.12\n",
       "2  0.220000           0.24  0.120000           0.14\n",
       "3  0.240000           0.26  0.140000      0    0.16\n",
       "4  0.260000    0,1    0.28  0.160000           0.18\n",
       "5  0.280000      2     0.3  0.180000      2     0.2\n",
       "6  0.300000         np.inf  0.200000         np.inf"
      ]
     },
     "execution_count": 228,
     "metadata": {},
     "output_type": "execute_result"
    }
   ],
   "source": [
    "X.suggester.get_state()"
   ]
  },
  {
   "cell_type": "code",
   "execution_count": null,
   "metadata": {
    "collapsed": true
   },
   "outputs": [],
   "source": []
  }
 ],
 "metadata": {
  "kernelspec": {
   "display_name": "Python 2",
   "language": "python",
   "name": "python2"
  },
  "language_info": {
   "codemirror_mode": {
    "name": "ipython",
    "version": 2
   },
   "file_extension": ".py",
   "mimetype": "text/x-python",
   "name": "python",
   "nbconvert_exporter": "python",
   "pygments_lexer": "ipython2",
   "version": "2.7.10"
  }
 },
 "nbformat": 4,
 "nbformat_minor": 0
}
