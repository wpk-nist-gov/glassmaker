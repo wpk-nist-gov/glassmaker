{
 "cells": [
  {
   "cell_type": "code",
   "execution_count": 1,
   "metadata": {
    "collapsed": true
   },
   "outputs": [],
   "source": [
    "import periodictable as PT\n",
    "import periodictable.formulas\n",
    "import json\n",
    "\n",
    "import pandas as pd\n",
    "from IPython.display import  display"
   ]
  },
  {
   "cell_type": "code",
   "execution_count": 2,
   "metadata": {
    "collapsed": false
   },
   "outputs": [
    {
     "data": {
      "text/plain": [
       "<module 'mix' from 'mix.pyc'>"
      ]
     },
     "execution_count": 2,
     "metadata": {},
     "output_type": "execute_result"
    }
   ],
   "source": [
    "import mix\n",
    "reload(mix)"
   ]
  },
  {
   "cell_type": "markdown",
   "metadata": {},
   "source": [
    "#compounds"
   ]
  },
  {
   "cell_type": "code",
   "execution_count": 3,
   "metadata": {
    "collapsed": false
   },
   "outputs": [
    {
     "data": {
      "text/html": [
       "<p> Compound('',None) </p>"
      ],
      "text/plain": [
       "Compound({'formula': ''})"
      ]
     },
     "execution_count": 3,
     "metadata": {},
     "output_type": "execute_result"
    }
   ],
   "source": [
    "c = mix.Compound()\n",
    "c"
   ]
  },
  {
   "cell_type": "code",
   "execution_count": 1302,
   "metadata": {
    "collapsed": false
   },
   "outputs": [
    {
     "data": {
      "text/html": [
       "<p> Compound('H2O',water) </p>"
      ],
      "text/plain": [
       "Compound({'formula': 'H2O', 'name': 'water'})"
      ]
     },
     "execution_count": 1302,
     "metadata": {},
     "output_type": "execute_result"
    }
   ],
   "source": [
    "c.formula = 'H2O'\n",
    "c.name = 'water'\n",
    "c"
   ]
  },
  {
   "cell_type": "code",
   "execution_count": 1303,
   "metadata": {
    "collapsed": false
   },
   "outputs": [
    {
     "name": "stdout",
     "output_type": "stream",
     "text": [
      "superdict([('O', 0.8881016559276347), ('H', 0.11189834407236524)])\n",
      "0.111898344072 0.888101655928\n"
     ]
    }
   ],
   "source": [
    "print c.mass_fraction\n",
    "#note, type c.mass_fraction[<press tab> to complete 'H', 'O']\n",
    "print c.mass_fraction['H'],c.mass_fraction['O']"
   ]
  },
  {
   "cell_type": "code",
   "execution_count": 1304,
   "metadata": {
    "collapsed": false
   },
   "outputs": [
    {
     "name": "stdout",
     "output_type": "stream",
     "text": [
      "{'formula': 'H2O', 'name': 'water'}\n"
     ]
    }
   ],
   "source": [
    "#serialize\n",
    "print c.to_dict()"
   ]
  },
  {
   "cell_type": "code",
   "execution_count": 1305,
   "metadata": {
    "collapsed": false
   },
   "outputs": [
    {
     "name": "stdout",
     "output_type": "stream",
     "text": [
      "{'formula': 'H2O', 'name': 'water'}\n",
      "{'formula': 'H2O', 'name': 'water'}\n",
      "{\"formula\": \"H2O\", \"name\": \"water\"}\n",
      "{'formula': 'H2O', 'name': u'water'}\n"
     ]
    }
   ],
   "source": [
    "#create from self\n",
    "print mix.Compound(c)\n",
    "\n",
    "#create from serial\n",
    "print mix.Compound(c.to_dict())\n",
    "\n",
    "#dump to json\n",
    "print json.dumps(c.to_dict())\n",
    "\n",
    "#create from json\n",
    "print mix.Compound(json.loads(json.dumps(c.to_dict())))"
   ]
  },
  {
   "cell_type": "code",
   "execution_count": 1306,
   "metadata": {
    "collapsed": false
   },
   "outputs": [
    {
     "name": "stdout",
     "output_type": "stream",
     "text": [
      "{'formula': 'H0.496061Fe0.00895335'}\n",
      "H0.496061Fe0.00895335\n",
      "superdict([('Fe', 0.5000000532050237), ('H', 0.49999994679497634)])\n",
      "{'formula': '(FeO2)0.00569192(H2O)0.0277542'}\n",
      "(FeO2)0.00569192(H2O)0.0277542\n",
      "superdict([('Fe', 0.31786541026712867), ('H', 0.055949160962717695), ('O', 0.6261854287701537)])\n"
     ]
    }
   ],
   "source": [
    "#create compound from mix by mass\n",
    "\n",
    "#simple case\n",
    "c = mix.Compound({'H':0.5,'Fe':0.5})\n",
    "print c\n",
    "print c.formula\n",
    "print c.mass_fraction\n",
    "\n",
    "#harder case\n",
    "c = mix.Compound({'H2O':0.5,'FeO2':0.5})\n",
    "print c\n",
    "print c.formula\n",
    "print c.mass_fraction\n"
   ]
  },
  {
   "cell_type": "code",
   "execution_count": 1307,
   "metadata": {
    "collapsed": false
   },
   "outputs": [
    {
     "data": {
      "text/html": [
       "<p> Compound('(FeO2)0.00569192(H2O)0.0277542',None) </p>"
      ],
      "text/plain": [
       "Compound({'formula': '(FeO2)0.00569192(H2O)0.0277542'})"
      ]
     },
     "execution_count": 1307,
     "metadata": {},
     "output_type": "execute_result"
    }
   ],
   "source": [
    "c"
   ]
  },
  {
   "cell_type": "code",
   "execution_count": 1308,
   "metadata": {
    "collapsed": false
   },
   "outputs": [
    {
     "data": {
      "text/plain": [
       "<module 'mix' from 'mix.pyc'>"
      ]
     },
     "execution_count": 1308,
     "metadata": {},
     "output_type": "execute_result"
    }
   ],
   "source": [
    "reload(mix)"
   ]
  },
  {
   "cell_type": "code",
   "execution_count": 1309,
   "metadata": {
    "collapsed": false
   },
   "outputs": [
    {
     "name": "stdout",
     "output_type": "stream",
     "text": [
      "{'formula': '(FeO2)0.00569192(H2O)0.0277542'}\n",
      "(FeO2)0.00569192(H2O)0.0277542\n",
      "superdict([('Fe', 0.31786541026712867), ('H', 0.055949160962717695), ('O', 0.6261854287701537)])\n"
     ]
    }
   ],
   "source": [
    "#create from mix of compounds\n",
    "A = mix.Compound('H2O')\n",
    "B = mix.Compound('FeO2')\n",
    "\n",
    "c = mix.Compound({A.formula:0.5,B.formula:0.5})\n",
    "print c\n",
    "print c.formula\n",
    "print c.mass_fraction"
   ]
  },
  {
   "cell_type": "markdown",
   "metadata": {},
   "source": [
    "#Compound Volatile\n",
    "\n",
    " * class to handle volatility\n",
    " * two main inputs\n",
    "     * measured: compound formula for measured substance\n",
    "     * final: compound after volatiles removed\n",
    "     * note: need consistent definition \n",
    "     * if have mix of \"A\" and \"V\" where \"V\" is volatile, then have two choices:\n",
    "         * measured = \"(A)x + (V)m\", final=\"(A)x + (V)f\"\n",
    "         * measured = {\"A\":x, \"V\":m}, final={\"A\":x, \"V\":m}\n",
    "         * x must be same in measured and final\n",
    "         \n",
    "      \n",
    "         \n",
    "     "
   ]
  },
  {
   "cell_type": "code",
   "execution_count": 1322,
   "metadata": {
    "collapsed": false
   },
   "outputs": [
    {
     "name": "stdout",
     "output_type": "stream",
     "text": [
      "{'measured': {'formula': 'H2O'}}\n"
     ]
    },
    {
     "data": {
      "text/html": [
       "<div>\n",
       "<table border=\"1\" class=\"dataframe\">\n",
       "  <thead>\n",
       "    <tr style=\"text-align: right;\">\n",
       "      <th></th>\n",
       "      <th>name</th>\n",
       "      <th>measured</th>\n",
       "      <th>final</th>\n",
       "    </tr>\n",
       "  </thead>\n",
       "  <tbody>\n",
       "    <tr>\n",
       "      <th>0</th>\n",
       "      <td>H2O</td>\n",
       "      <td>H2O</td>\n",
       "      <td>--</td>\n",
       "    </tr>\n",
       "  </tbody>\n",
       "</table>\n",
       "</div>"
      ],
      "text/plain": [
       "CompoundVolatile({'measured': {'formula': 'H2O'}})"
      ]
     },
     "metadata": {},
     "output_type": "display_data"
    }
   ],
   "source": [
    "c = mix.CompoundVolatile('H2O')\n",
    "print c\n",
    "display(c)"
   ]
  },
  {
   "cell_type": "code",
   "execution_count": 1336,
   "metadata": {
    "collapsed": false
   },
   "outputs": [
    {
     "name": "stdout",
     "output_type": "stream",
     "text": [
      "{'measured': {'formula': '(FeO2)0.00569192(H2O)0.0277542'}, 'final': {'formula': '(FeO2)0.00569192'}, 'name': 'A'}\n",
      "(FeO2)0.00569192(H2O)0.0277542\n",
      "(FeO2)0.00569192\n"
     ]
    },
    {
     "data": {
      "text/html": [
       "<div>\n",
       "<table border=\"1\" class=\"dataframe\">\n",
       "  <thead>\n",
       "    <tr style=\"text-align: right;\">\n",
       "      <th></th>\n",
       "      <th>name</th>\n",
       "      <th>measured</th>\n",
       "      <th>final</th>\n",
       "    </tr>\n",
       "  </thead>\n",
       "  <tbody>\n",
       "    <tr>\n",
       "      <th>0</th>\n",
       "      <td>A</td>\n",
       "      <td>(FeO2)0.00569192(H2O)0.0277542</td>\n",
       "      <td>(FeO2)0.00569192</td>\n",
       "    </tr>\n",
       "  </tbody>\n",
       "</table>\n",
       "</div>"
      ],
      "text/plain": [
       "CompoundVolatile({'measured': {'formula': '(FeO2)0.00569192(H2O)0.0277542'}, 'final': {'formula': '(FeO2)0.00569192'}, 'name': 'A'})"
      ]
     },
     "metadata": {},
     "output_type": "display_data"
    },
    {
     "name": "stdout",
     "output_type": "stream",
     "text": [
      "1.99999960416 0.50000009896\n"
     ]
    }
   ],
   "source": [
    "m = mix.Compound({'FeO2':0.5,'H2O':0.5})\n",
    "f = mix.Compound({'FeO2':0.5})\n",
    "\n",
    "c = mix.CompoundVolatile(measured=m,final=f,name='A')\n",
    "\n",
    "print c\n",
    "print c.measured.formula\n",
    "print c.final.formula\n",
    "\n",
    "display(c)\n",
    "\n",
    "#conversions\n",
    "print c.final_to_measured_conversion,c.measured_to_final_conversion\n",
    "\n",
    "\n",
    "#check that source 'Fe' does not change\n",
    "c.check_atom('Fe')"
   ]
  },
  {
   "cell_type": "code",
   "execution_count": 1329,
   "metadata": {
    "collapsed": false
   },
   "outputs": [
    {
     "data": {
      "text/html": [
       "<div>\n",
       "<table border=\"1\" class=\"dataframe\">\n",
       "  <thead>\n",
       "    <tr style=\"text-align: right;\">\n",
       "      <th></th>\n",
       "      <th>name</th>\n",
       "      <th>measured</th>\n",
       "      <th>final</th>\n",
       "    </tr>\n",
       "  </thead>\n",
       "  <tbody>\n",
       "    <tr>\n",
       "      <th>0</th>\n",
       "      <td>A</td>\n",
       "      <td>FeO2+H2O</td>\n",
       "      <td>FeO2</td>\n",
       "    </tr>\n",
       "  </tbody>\n",
       "</table>\n",
       "</div>"
      ],
      "text/plain": [
       "CompoundVolatile({'measured': {'formula': 'FeO2+H2O'}, 'final': {'formula': 'FeO2'}, 'name': 'A'})"
      ]
     },
     "metadata": {},
     "output_type": "display_data"
    },
    {
     "name": "stdout",
     "output_type": "stream",
     "text": [
      "{'measured': {'formula': 'FeO2+H2O'}, 'final': {'formula': 'FeO2'}, 'name': 'A'}\n",
      "FeO2H2O\n",
      "FeO2\n",
      "1.20508311344 0.829818282947\n"
     ]
    }
   ],
   "source": [
    "#mol mix\n",
    "m = mix.Compound('FeO2+H2O')\n",
    "f = mix.Compound('FeO2')\n",
    "\n",
    "c = mix.CompoundVolatile(measured=m,final=f,name='A')\n",
    "display(c)\n",
    "print c\n",
    "print c.measured.formula\n",
    "print c.final.formula\n",
    "\n",
    "#conversions\n",
    "print c.final_to_measured_conversion,c.measured_to_final_conversion\n",
    "\n",
    "\n",
    "#check that source 'Fe' does not change\n",
    "c.check_atom('Fe')"
   ]
  },
  {
   "cell_type": "markdown",
   "metadata": {},
   "source": [
    "#compound collection\n",
    "\n",
    " * collection of (volatile) compounds\n",
    " "
   ]
  },
  {
   "cell_type": "code",
   "execution_count": 1349,
   "metadata": {
    "collapsed": false
   },
   "outputs": [
    {
     "data": {
      "text/plain": [
       "<module 'mix' from 'mix.py'>"
      ]
     },
     "execution_count": 1349,
     "metadata": {},
     "output_type": "execute_result"
    }
   ],
   "source": [
    "reload(mix)"
   ]
  },
  {
   "cell_type": "code",
   "execution_count": 18,
   "metadata": {
    "collapsed": false
   },
   "outputs": [],
   "source": [
    "c = mix.CompoundCollection()"
   ]
  },
  {
   "cell_type": "code",
   "execution_count": 19,
   "metadata": {
    "collapsed": false
   },
   "outputs": [
    {
     "data": {
      "text/html": [
       "<div>\n",
       "<table border=\"1\" class=\"dataframe\">\n",
       "  <thead>\n",
       "    <tr style=\"text-align: right;\">\n",
       "      <th></th>\n",
       "    </tr>\n",
       "  </thead>\n",
       "  <tbody>\n",
       "  </tbody>\n",
       "</table>\n",
       "</div>"
      ],
      "text/plain": [
       "CompoundCollection({'formulas': []})"
      ]
     },
     "metadata": {},
     "output_type": "display_data"
    },
    {
     "data": {
      "text/html": [
       "<div>\n",
       "<table border=\"1\" class=\"dataframe\">\n",
       "  <thead>\n",
       "    <tr style=\"text-align: right;\">\n",
       "      <th></th>\n",
       "      <th>name</th>\n",
       "      <th>measured</th>\n",
       "      <th>final</th>\n",
       "    </tr>\n",
       "  </thead>\n",
       "  <tbody>\n",
       "    <tr>\n",
       "      <th>0</th>\n",
       "      <td>FeO2H2O</td>\n",
       "      <td>FeO2+H2O</td>\n",
       "      <td>--</td>\n",
       "    </tr>\n",
       "    <tr>\n",
       "      <th>1</th>\n",
       "      <td>CaO</td>\n",
       "      <td>CaO</td>\n",
       "      <td>--</td>\n",
       "    </tr>\n",
       "  </tbody>\n",
       "</table>\n",
       "</div>"
      ],
      "text/plain": [
       "CompoundCollection({'formulas': [{'measured': {'formula': 'FeO2+H2O'}}, {'measured': {'formula': 'CaO'}}]})"
      ]
     },
     "metadata": {},
     "output_type": "display_data"
    }
   ],
   "source": [
    "c = mix.CompoundCollection()\n",
    "display(c)\n",
    "\n",
    "#assign formulas\n",
    "c.formulas = ['FeO2+H2O','CaO']\n",
    "display(c)"
   ]
  },
  {
   "cell_type": "code",
   "execution_count": 20,
   "metadata": {
    "collapsed": true
   },
   "outputs": [],
   "source": [
    "c.append('H2O')"
   ]
  },
  {
   "cell_type": "code",
   "execution_count": 25,
   "metadata": {
    "collapsed": false
   },
   "outputs": [
    {
     "name": "stdout",
     "output_type": "stream",
     "text": [
      "{'measured': {'formula': 'FeO2+H2O'}}\n",
      "{'measured': {'formula': 'CaO'}}\n",
      "{'measured': {'formula': 'FeO2+H2O'}}\n",
      "{'measured': {'formula': 'CaO'}}\n",
      "['FeO2H2O', 'CaO', 'H2O']\n",
      "{'measured': {'formula': 'FeO2+H2O'}}\n",
      "{'measured': {'formula': 'CaO'}}\n",
      "{'measured': {'formula': 'FeO2+H2O'}}\n",
      "{'measured': {'formula': 'CaO'}}\n"
     ]
    }
   ],
   "source": [
    "#positional access\n",
    "print c[0]\n",
    "print c[1]\n",
    "\n",
    "#the above is equivalent to\n",
    "print c.formulas[0]\n",
    "print c.formulas[1]\n",
    "\n",
    "#can also access by name\n",
    "print c.keys()\n",
    "print c['FeO2H2O']\n",
    "print c['CaO']\n",
    "\n",
    "#can access by attribute\n",
    "print c.FeO2H2O\n",
    "print c.CaO"
   ]
  },
  {
   "cell_type": "code",
   "execution_count": 26,
   "metadata": {
    "collapsed": false
   },
   "outputs": [
    {
     "data": {
      "text/html": [
       "<p> Compound('FeO2+H2O',None) </p>"
      ],
      "text/plain": [
       "Compound({'formula': 'FeO2+H2O'})"
      ]
     },
     "metadata": {},
     "output_type": "display_data"
    },
    {
     "data": {
      "text/html": [
       "<p> Compound('FeO2+H2O',None) </p>"
      ],
      "text/plain": [
       "Compound({'formula': 'FeO2+H2O'})"
      ]
     },
     "metadata": {},
     "output_type": "display_data"
    }
   ],
   "source": [
    "#each member is a volatile compount\n",
    "display(c.FeO2H2O.measured)\n",
    "display(c.FeO2H2O.final)"
   ]
  },
  {
   "cell_type": "code",
   "execution_count": 27,
   "metadata": {
    "collapsed": false
   },
   "outputs": [
    {
     "data": {
      "text/plain": [
       "[CompoundVolatile({'measured': {'formula': 'FeO2+H2O'}, 'name': 'A'}),\n",
       " CompoundVolatile({'measured': {'formula': 'CaO'}, 'name': 'B'}),\n",
       " CompoundVolatile({'measured': {'formula': 'H2O'}})]"
      ]
     },
     "metadata": {},
     "output_type": "display_data"
    },
    {
     "data": {
      "text/html": [
       "<div>\n",
       "<table border=\"1\" class=\"dataframe\">\n",
       "  <thead>\n",
       "    <tr style=\"text-align: right;\">\n",
       "      <th></th>\n",
       "      <th>name</th>\n",
       "      <th>measured</th>\n",
       "      <th>final</th>\n",
       "    </tr>\n",
       "  </thead>\n",
       "  <tbody>\n",
       "    <tr>\n",
       "      <th>0</th>\n",
       "      <td>A</td>\n",
       "      <td>FeO2+H2O</td>\n",
       "      <td>--</td>\n",
       "    </tr>\n",
       "    <tr>\n",
       "      <th>1</th>\n",
       "      <td>B</td>\n",
       "      <td>CaO</td>\n",
       "      <td>--</td>\n",
       "    </tr>\n",
       "    <tr>\n",
       "      <th>2</th>\n",
       "      <td>H2O</td>\n",
       "      <td>H2O</td>\n",
       "      <td>--</td>\n",
       "    </tr>\n",
       "  </tbody>\n",
       "</table>\n",
       "</div>"
      ],
      "text/plain": [
       "CompoundCollection({'formulas': [{'measured': {'formula': 'FeO2+H2O'}, 'name': 'A'}, {'measured': {'formula': 'CaO'}, 'name': 'B'}, {'measured': {'formula': 'H2O'}}]})"
      ]
     },
     "metadata": {},
     "output_type": "display_data"
    }
   ],
   "source": [
    "#more control\n",
    "c.formulas[0].name = 'A'\n",
    "c.formulas[1].name = 'B'\n",
    "display(c.formulas)\n",
    "display(c)"
   ]
  },
  {
   "cell_type": "code",
   "execution_count": 28,
   "metadata": {
    "collapsed": false
   },
   "outputs": [
    {
     "data": {
      "text/html": [
       "<div>\n",
       "<table border=\"1\" class=\"dataframe\">\n",
       "  <thead>\n",
       "    <tr style=\"text-align: right;\">\n",
       "      <th></th>\n",
       "      <th>name</th>\n",
       "      <th>measured</th>\n",
       "      <th>final</th>\n",
       "    </tr>\n",
       "  </thead>\n",
       "  <tbody>\n",
       "    <tr>\n",
       "      <th>0</th>\n",
       "      <td>A</td>\n",
       "      <td>FeO2+H2O</td>\n",
       "      <td>--</td>\n",
       "    </tr>\n",
       "  </tbody>\n",
       "</table>\n",
       "</div>"
      ],
      "text/plain": [
       "CompoundVolatile({'measured': {'formula': 'FeO2+H2O'}, 'name': 'A'})"
      ]
     },
     "metadata": {},
     "output_type": "display_data"
    },
    {
     "data": {
      "text/html": [
       "<div>\n",
       "<table border=\"1\" class=\"dataframe\">\n",
       "  <thead>\n",
       "    <tr style=\"text-align: right;\">\n",
       "      <th></th>\n",
       "      <th>name</th>\n",
       "      <th>measured</th>\n",
       "      <th>final</th>\n",
       "    </tr>\n",
       "  </thead>\n",
       "  <tbody>\n",
       "    <tr>\n",
       "      <th>0</th>\n",
       "      <td>B</td>\n",
       "      <td>CaO</td>\n",
       "      <td>--</td>\n",
       "    </tr>\n",
       "  </tbody>\n",
       "</table>\n",
       "</div>"
      ],
      "text/plain": [
       "CompoundVolatile({'measured': {'formula': 'CaO'}, 'name': 'B'})"
      ]
     },
     "metadata": {},
     "output_type": "display_data"
    }
   ],
   "source": [
    "display(c['A'])\n",
    "display(c['B'])"
   ]
  },
  {
   "cell_type": "code",
   "execution_count": 29,
   "metadata": {
    "collapsed": false
   },
   "outputs": [
    {
     "data": {
      "text/html": [
       "<div>\n",
       "<table border=\"1\" class=\"dataframe\">\n",
       "  <thead>\n",
       "    <tr style=\"text-align: right;\">\n",
       "      <th></th>\n",
       "      <th>name</th>\n",
       "      <th>measured</th>\n",
       "      <th>final</th>\n",
       "    </tr>\n",
       "  </thead>\n",
       "  <tbody>\n",
       "    <tr>\n",
       "      <th>0</th>\n",
       "      <td>A</td>\n",
       "      <td>FeO2+H2O</td>\n",
       "      <td>FeO2</td>\n",
       "    </tr>\n",
       "    <tr>\n",
       "      <th>1</th>\n",
       "      <td>B</td>\n",
       "      <td>CaO</td>\n",
       "      <td>--</td>\n",
       "    </tr>\n",
       "    <tr>\n",
       "      <th>2</th>\n",
       "      <td>H2O</td>\n",
       "      <td>H2O</td>\n",
       "      <td>--</td>\n",
       "    </tr>\n",
       "  </tbody>\n",
       "</table>\n",
       "</div>"
      ],
      "text/plain": [
       "CompoundCollection({'formulas': [{'measured': {'formula': 'FeO2+H2O'}, 'final': {'formula': 'FeO2'}, 'name': 'A'}, {'measured': {'formula': 'CaO'}, 'name': 'B'}, {'measured': {'formula': 'H2O'}}]})"
      ]
     },
     "metadata": {},
     "output_type": "display_data"
    }
   ],
   "source": [
    "#add in final formula for 'A'\n",
    "c.A.final = 'FeO2'\n",
    "\n",
    "display(c)\n",
    "#check atom\n",
    "c.A.check_atom('Fe')\n",
    "\n"
   ]
  },
  {
   "cell_type": "markdown",
   "metadata": {},
   "source": [
    "#Single glass bead\n",
    "    \n",
    " * container for making a glass\n",
    "\n",
    "## Forward calculation:\n",
    "\n",
    " * specify target atoms composition\n",
    " * specify source compounds\n",
    " * specify matrix material ('LiB4O7')\n",
    " * solve for masses of source compounds and matrix material\n",
    " \n",
    "## reverse calculation:\n",
    " * given measured masses of \"stuff\", get "
   ]
  },
  {
   "cell_type": "code",
   "execution_count": 926,
   "metadata": {
    "collapsed": false
   },
   "outputs": [
    {
     "data": {
      "text/plain": [
       "<module 'mix' from 'mix.py'>"
      ]
     },
     "execution_count": 926,
     "metadata": {},
     "output_type": "execute_result"
    }
   ],
   "source": [
    "reload(mix)"
   ]
  },
  {
   "cell_type": "code",
   "execution_count": 927,
   "metadata": {
    "collapsed": false
   },
   "outputs": [
    {
     "data": {
      "text/html": [
       "<div>\n",
       "<table border=\"1\" class=\"dataframe\">\n",
       "  <thead>\n",
       "    <tr style=\"text-align: right;\">\n",
       "      <th></th>\n",
       "      <th>name</th>\n",
       "      <th>measured</th>\n",
       "      <th>final</th>\n",
       "      <th>mass</th>\n",
       "    </tr>\n",
       "  </thead>\n",
       "  <tbody>\n",
       "    <tr>\n",
       "      <th>0</th>\n",
       "      <td>CaO</td>\n",
       "      <td>(H2O)0.0277542(CaO)0.00891625</td>\n",
       "      <td>(CaO)0.00891625</td>\n",
       "      <td>0.279841</td>\n",
       "    </tr>\n",
       "    <tr>\n",
       "      <th>1</th>\n",
       "      <td>Fe2O3</td>\n",
       "      <td>Fe2O3</td>\n",
       "      <td>--</td>\n",
       "      <td>0.357436</td>\n",
       "    </tr>\n",
       "    <tr>\n",
       "      <th>2</th>\n",
       "      <td>lithium_borate</td>\n",
       "      <td>LiB4O7</td>\n",
       "      <td>--</td>\n",
       "      <td>0.502643</td>\n",
       "    </tr>\n",
       "  </tbody>\n",
       "</table>\n",
       "</div>"
      ],
      "text/plain": [
       "<mix.SingleBead at 0x10a2b9e90>"
      ]
     },
     "metadata": {},
     "output_type": "display_data"
    }
   ],
   "source": [
    "matrix = mix.CompoundVolatile('LiB4O7',name = 'lithium_borate')\n",
    "sourceA = mix.CompoundVolatile({'CaO':0.5,'H2O':0.5},{'CaO':0.5},name='CaO')\n",
    "sourceB = mix.CompoundVolatile('Fe2O3')\n",
    "sources = mix.CompoundCollection([sourceA,sourceB,matrix])\n",
    "\n",
    "s = mix.SingleBead.from_targets({'Ca':0.1,'Fe':0.25},1.0,sources)\n",
    "display(s)"
   ]
  },
  {
   "cell_type": "code",
   "execution_count": 928,
   "metadata": {
    "collapsed": false
   },
   "outputs": [
    {
     "data": {
      "text/html": [
       "<p> Compound('[(Compound({'formula': [('CaO', 0.5)]}), 0.13992065472328952), (Compound({'formula': 'Fe2O3'}), 0.3574362073596562), (Compound({'formula': 'LiB4O7'}), 0.50264313791705428)]',None) </p>"
      ],
      "text/plain": [
       "Compound({'formula': [(Compound({'formula': [('CaO', 0.5)]}), 0.13992065472328952), (Compound({'formula': 'Fe2O3'}), 0.3574362073596562), (Compound({'formula': 'LiB4O7'}), 0.50264313791705428)]})"
      ]
     },
     "metadata": {},
     "output_type": "display_data"
    },
    {
     "data": {
      "text/plain": [
       "superdict([('Ca', 0.09999999999999996), ('O', 0.4944628101700857), ('B', 0.13402511182633883), ('Li', 0.021512078003575474), ('Fe', 0.25)])"
      ]
     },
     "execution_count": 928,
     "metadata": {},
     "output_type": "execute_result"
    }
   ],
   "source": [
    "#if we in fact made this bead, we'd get the following compound\n",
    "display(s.final_compound)\n",
    "\n",
    "#with mass fractions\n",
    "s.final_compound.mass_fraction"
   ]
  },
  {
   "cell_type": "code",
   "execution_count": 929,
   "metadata": {
    "collapsed": false
   },
   "outputs": [
    {
     "data": {
      "text/html": [
       "<div>\n",
       "<table border=\"1\" class=\"dataframe\">\n",
       "  <thead>\n",
       "    <tr style=\"text-align: right;\">\n",
       "      <th></th>\n",
       "      <th>name</th>\n",
       "      <th>measured</th>\n",
       "      <th>final</th>\n",
       "      <th>mass</th>\n",
       "    </tr>\n",
       "  </thead>\n",
       "  <tbody>\n",
       "    <tr>\n",
       "      <th>0</th>\n",
       "      <td>CaO</td>\n",
       "      <td>(H2O)0.0277542(CaO)0.00891625</td>\n",
       "      <td>(CaO)0.00891625</td>\n",
       "      <td>0.28</td>\n",
       "    </tr>\n",
       "    <tr>\n",
       "      <th>1</th>\n",
       "      <td>Fe2O3</td>\n",
       "      <td>Fe2O3</td>\n",
       "      <td>--</td>\n",
       "      <td>0.36</td>\n",
       "    </tr>\n",
       "    <tr>\n",
       "      <th>2</th>\n",
       "      <td>lithium_borate</td>\n",
       "      <td>LiB4O7</td>\n",
       "      <td>--</td>\n",
       "      <td>0.50</td>\n",
       "    </tr>\n",
       "  </tbody>\n",
       "</table>\n",
       "</div>"
      ],
      "text/plain": [
       "<mix.SingleBead at 0x10a625810>"
      ]
     },
     "metadata": {},
     "output_type": "display_data"
    }
   ],
   "source": [
    "#lets say we make a bead almost like this\n",
    "sM = mix.SingleBead(sources,masses=[0.28,0.36,0.50])\n",
    "display(sM)"
   ]
  },
  {
   "cell_type": "code",
   "execution_count": 930,
   "metadata": {
    "collapsed": false
   },
   "outputs": [
    {
     "data": {
      "text/html": [
       "<p> Compound('[('Ca', 0.10005670733664543), ('Fe', 0.2517931819633511), ('No', 0.6431501107000035)]',None) </p>"
      ],
      "text/plain": [
       "Compound({'formula': [('Ca', 0.10005670733664543), ('Fe', 0.2517931819633511), ('No', 0.6431501107000035)]})"
      ]
     },
     "metadata": {},
     "output_type": "display_data"
    },
    {
     "name": "stdout",
     "output_type": "stream",
     "text": [
      "0.995\n",
      "superdict([('Ca', 0.10055950486095018), ('No', 0.6463820208040236), ('Fe', 0.2530584743350262)])\n"
     ]
    }
   ],
   "source": [
    "#we make the bead, and find that the final mass is\n",
    "mass_total = 0.995 #grams\n",
    "\n",
    "#create a truncated Compound from sM\n",
    "bead = sM.final_compound_filtered(elements = ['Fe','Ca'],mass = mass_total)\n",
    "\n",
    "display(bead)\n",
    "\n",
    "print bead.mass\n",
    "print bead.mass_fraction\n",
    "\n",
    "#note that 'No' is used as a filler"
   ]
  },
  {
   "cell_type": "code",
   "execution_count": 932,
   "metadata": {
    "collapsed": false
   },
   "outputs": [
    {
     "data": {
      "text/html": [
       "<p> Compound('[('Ca', 0.10005670733664541), ('Fe', 0.2517931819633511), ('No', 0.6431501107000035)]',None) </p>"
      ],
      "text/plain": [
       "Compound({'formula': [('Ca', 0.10005670733664541), ('Fe', 0.2517931819633511), ('No', 0.6431501107000035)]})"
      ]
     },
     "metadata": {},
     "output_type": "display_data"
    },
    {
     "name": "stdout",
     "output_type": "stream",
     "text": [
      "0.995\n",
      "superdict([('Ca', 0.10055950486095017), ('No', 0.6463820208040236), ('Fe', 0.2530584743350262)])\n"
     ]
    }
   ],
   "source": [
    "bead = sM.measured_compound_filtered(elements = ['Fe','Ca'],mass=mass_total)\n",
    "display(bead)\n",
    "\n",
    "print bead.mass\n",
    "print bead.mass_fraction"
   ]
  },
  {
   "cell_type": "markdown",
   "metadata": {},
   "source": [
    "#suggester"
   ]
  },
  {
   "cell_type": "code",
   "execution_count": 1175,
   "metadata": {
    "collapsed": false
   },
   "outputs": [
    {
     "data": {
      "text/plain": [
       "<module 'mix' from 'mix.pyc'>"
      ]
     },
     "execution_count": 1175,
     "metadata": {},
     "output_type": "execute_result"
    }
   ],
   "source": [
    "reload(mix)"
   ]
  },
  {
   "cell_type": "code",
   "execution_count": 1176,
   "metadata": {
    "collapsed": true
   },
   "outputs": [],
   "source": [
    "matrix = mix.CompoundVolatile('LiB4O7',name = 'lithium_borate')\n",
    "sourceA = mix.CompoundVolatile({'CaO':0.5,'H2O':0.5},{'CaO':0.5},name='CaO')\n",
    "sourceB = mix.CompoundVolatile('Fe2O3')\n",
    "sources = mix.CompoundCollection([sourceA,sourceB,matrix])\n",
    "target_mass = 1.0"
   ]
  },
  {
   "cell_type": "code",
   "execution_count": 1165,
   "metadata": {
    "collapsed": true
   },
   "outputs": [],
   "source": [
    "mix.random.seed(10)"
   ]
  },
  {
   "cell_type": "code",
   "execution_count": 1166,
   "metadata": {
    "collapsed": false
   },
   "outputs": [
    {
     "data": {
      "text/plain": [
       "<module 'mix' from 'mix.pyc'>"
      ]
     },
     "execution_count": 1166,
     "metadata": {},
     "output_type": "execute_result"
    }
   ],
   "source": [
    "reload(mix)"
   ]
  },
  {
   "cell_type": "code",
   "execution_count": 1167,
   "metadata": {
    "collapsed": false
   },
   "outputs": [
    {
     "data": {
      "text/plain": [
       "{'Ca': (0.2, 0.3), 'Fe': (0.1, 0.2)}"
      ]
     },
     "execution_count": 1167,
     "metadata": {},
     "output_type": "execute_result"
    }
   ],
   "source": [
    "Suggester = mix.Suggester(targets={},nsamples=5)\n",
    "Suggester.targets['Fe'] = (0.1,0.2)\n",
    "Suggester.targets['Ca'] = (0.2,0.3)\n",
    "Suggester.targets"
   ]
  },
  {
   "cell_type": "code",
   "execution_count": 1168,
   "metadata": {
    "collapsed": false
   },
   "outputs": [
    {
     "data": {
      "text/html": [
       "<div>\n",
       "<table border=\"1\" class=\"dataframe\">\n",
       "  <thead>\n",
       "    <tr>\n",
       "      <th></th>\n",
       "      <th colspan=\"3\" halign=\"left\">Ca</th>\n",
       "      <th colspan=\"3\" halign=\"left\">Fe</th>\n",
       "    </tr>\n",
       "    <tr>\n",
       "      <th></th>\n",
       "      <th>lb</th>\n",
       "      <th>sample</th>\n",
       "      <th>ub</th>\n",
       "      <th>lb</th>\n",
       "      <th>sample</th>\n",
       "      <th>ub</th>\n",
       "    </tr>\n",
       "  </thead>\n",
       "  <tbody>\n",
       "    <tr>\n",
       "      <th>0</th>\n",
       "      <td>-inf</td>\n",
       "      <td></td>\n",
       "      <td>0.2</td>\n",
       "      <td>-inf</td>\n",
       "      <td></td>\n",
       "      <td>0.1</td>\n",
       "    </tr>\n",
       "    <tr>\n",
       "      <th>1</th>\n",
       "      <td>0.200000</td>\n",
       "      <td></td>\n",
       "      <td>0.22</td>\n",
       "      <td>0.100000</td>\n",
       "      <td></td>\n",
       "      <td>0.12</td>\n",
       "    </tr>\n",
       "    <tr>\n",
       "      <th>2</th>\n",
       "      <td>0.220000</td>\n",
       "      <td></td>\n",
       "      <td>0.24</td>\n",
       "      <td>0.120000</td>\n",
       "      <td></td>\n",
       "      <td>0.14</td>\n",
       "    </tr>\n",
       "    <tr>\n",
       "      <th>3</th>\n",
       "      <td>0.240000</td>\n",
       "      <td></td>\n",
       "      <td>0.26</td>\n",
       "      <td>0.140000</td>\n",
       "      <td></td>\n",
       "      <td>0.16</td>\n",
       "    </tr>\n",
       "    <tr>\n",
       "      <th>4</th>\n",
       "      <td>0.260000</td>\n",
       "      <td></td>\n",
       "      <td>0.28</td>\n",
       "      <td>0.160000</td>\n",
       "      <td></td>\n",
       "      <td>0.18</td>\n",
       "    </tr>\n",
       "    <tr>\n",
       "      <th>5</th>\n",
       "      <td>0.280000</td>\n",
       "      <td></td>\n",
       "      <td>0.3</td>\n",
       "      <td>0.180000</td>\n",
       "      <td></td>\n",
       "      <td>0.2</td>\n",
       "    </tr>\n",
       "    <tr>\n",
       "      <th>6</th>\n",
       "      <td>0.300000</td>\n",
       "      <td></td>\n",
       "      <td>np.inf</td>\n",
       "      <td>0.200000</td>\n",
       "      <td></td>\n",
       "      <td>np.inf</td>\n",
       "    </tr>\n",
       "  </tbody>\n",
       "</table>\n",
       "</div>"
      ],
      "text/plain": [
       "         Ca                       Fe               \n",
       "         lb sample      ub        lb sample      ub\n",
       "0      -inf            0.2      -inf            0.1\n",
       "1  0.200000           0.22  0.100000           0.12\n",
       "2  0.220000           0.24  0.120000           0.14\n",
       "3  0.240000           0.26  0.140000           0.16\n",
       "4  0.260000           0.28  0.160000           0.18\n",
       "5  0.280000            0.3  0.180000            0.2\n",
       "6  0.300000         np.inf  0.200000         np.inf"
      ]
     },
     "execution_count": 1168,
     "metadata": {},
     "output_type": "execute_result"
    }
   ],
   "source": [
    "Suggester.get_state()"
   ]
  },
  {
   "cell_type": "code",
   "execution_count": 1169,
   "metadata": {
    "collapsed": true
   },
   "outputs": [],
   "source": [
    "#make first bead"
   ]
  },
  {
   "cell_type": "code",
   "execution_count": 1170,
   "metadata": {
    "collapsed": true
   },
   "outputs": [],
   "source": [
    "mix.random.seed(10)"
   ]
  },
  {
   "cell_type": "code",
   "execution_count": 1171,
   "metadata": {
    "collapsed": false
   },
   "outputs": [
    {
     "data": {
      "text/plain": [
       "{'Ca': 0.25, 'Fe': 0.15000000000000002}"
      ]
     },
     "execution_count": 1171,
     "metadata": {},
     "output_type": "execute_result"
    }
   ],
   "source": [
    "suggestion = Suggester.make_suggestion()\n",
    "suggestion"
   ]
  },
  {
   "cell_type": "code",
   "execution_count": 1178,
   "metadata": {
    "collapsed": false
   },
   "outputs": [
    {
     "data": {
      "text/html": [
       "<div>\n",
       "<table border=\"1\" class=\"dataframe\">\n",
       "  <thead>\n",
       "    <tr style=\"text-align: right;\">\n",
       "      <th></th>\n",
       "      <th>name</th>\n",
       "      <th>measured</th>\n",
       "      <th>final</th>\n",
       "      <th>mass</th>\n",
       "    </tr>\n",
       "  </thead>\n",
       "  <tbody>\n",
       "    <tr>\n",
       "      <th>0</th>\n",
       "      <td>CaO</td>\n",
       "      <td>(H2O)0.0277542(CaO)0.00891625</td>\n",
       "      <td>(CaO)0.00891625</td>\n",
       "      <td>0.699603</td>\n",
       "    </tr>\n",
       "    <tr>\n",
       "      <th>1</th>\n",
       "      <td>Fe2O3</td>\n",
       "      <td>Fe2O3</td>\n",
       "      <td>--</td>\n",
       "      <td>0.214462</td>\n",
       "    </tr>\n",
       "    <tr>\n",
       "      <th>2</th>\n",
       "      <td>lithium_borate</td>\n",
       "      <td>LiB4O7</td>\n",
       "      <td>--</td>\n",
       "      <td>0.435737</td>\n",
       "    </tr>\n",
       "  </tbody>\n",
       "</table>\n",
       "</div>"
      ],
      "text/plain": [
       "<mix.SingleBead at 0x10a7a1e90>"
      ]
     },
     "execution_count": 1178,
     "metadata": {},
     "output_type": "execute_result"
    }
   ],
   "source": [
    "s = mix.SingleBead.from_targets(suggestion,target_mass,sources)\n",
    "s"
   ]
  },
  {
   "cell_type": "code",
   "execution_count": 1179,
   "metadata": {
    "collapsed": false
   },
   "outputs": [
    {
     "data": {
      "text/html": [
       "<div>\n",
       "<table border=\"1\" class=\"dataframe\">\n",
       "  <thead>\n",
       "    <tr style=\"text-align: right;\">\n",
       "      <th></th>\n",
       "      <th>name</th>\n",
       "      <th>measured</th>\n",
       "      <th>final</th>\n",
       "      <th>mass</th>\n",
       "    </tr>\n",
       "  </thead>\n",
       "  <tbody>\n",
       "    <tr>\n",
       "      <th>0</th>\n",
       "      <td>CaO</td>\n",
       "      <td>(H2O)0.0277542(CaO)0.00891625</td>\n",
       "      <td>(CaO)0.00891625</td>\n",
       "      <td>0.70</td>\n",
       "    </tr>\n",
       "    <tr>\n",
       "      <th>1</th>\n",
       "      <td>Fe2O3</td>\n",
       "      <td>Fe2O3</td>\n",
       "      <td>--</td>\n",
       "      <td>0.19</td>\n",
       "    </tr>\n",
       "    <tr>\n",
       "      <th>2</th>\n",
       "      <td>lithium_borate</td>\n",
       "      <td>LiB4O7</td>\n",
       "      <td>--</td>\n",
       "      <td>0.46</td>\n",
       "    </tr>\n",
       "  </tbody>\n",
       "</table>\n",
       "</div>"
      ],
      "text/plain": [
       "<mix.SingleBead at 0x10a6a52d0>"
      ]
     },
     "metadata": {},
     "output_type": "display_data"
    },
    {
     "data": {
      "text/html": [
       "<p> Compound('[('Ca', 0.2501417683416135), ('Fe', 0.1328908460362131), ('No', 0.5669673856221733)]',None) </p>"
      ],
      "text/plain": [
       "Compound({'formula': [('Ca', 0.2501417683416135), ('Fe', 0.1328908460362131), ('No', 0.5669673856221733)]})"
      ]
     },
     "metadata": {},
     "output_type": "display_data"
    },
    {
     "name": "stdout",
     "output_type": "stream",
     "text": [
      "superdict([('Ca', 0.2633071245701195), ('No', 0.5968077743391298), ('Fe', 0.13988510109075064)])\n"
     ]
    }
   ],
   "source": [
    "#make actual bead\n",
    "sA = mix.SingleBead(sources,[0.70,0.19,0.46])\n",
    "display(sA)\n",
    "#mass ends up being 0.95\n",
    "bead = sA.measured_compound_filtered(['Ca','Fe'],0.95)\n",
    "display(bead)\n",
    "print bead.mass_fraction"
   ]
  },
  {
   "cell_type": "code",
   "execution_count": 1180,
   "metadata": {
    "collapsed": true
   },
   "outputs": [],
   "source": [
    "Suggester.add_sample(**bead.mass_fraction)"
   ]
  },
  {
   "cell_type": "code",
   "execution_count": 1182,
   "metadata": {
    "collapsed": false
   },
   "outputs": [
    {
     "data": {
      "text/html": [
       "<div>\n",
       "<table border=\"1\" class=\"dataframe\">\n",
       "  <thead>\n",
       "    <tr>\n",
       "      <th></th>\n",
       "      <th colspan=\"3\" halign=\"left\">Ca</th>\n",
       "      <th colspan=\"3\" halign=\"left\">Fe</th>\n",
       "    </tr>\n",
       "    <tr>\n",
       "      <th></th>\n",
       "      <th>lb</th>\n",
       "      <th>sample</th>\n",
       "      <th>ub</th>\n",
       "      <th>lb</th>\n",
       "      <th>sample</th>\n",
       "      <th>ub</th>\n",
       "    </tr>\n",
       "  </thead>\n",
       "  <tbody>\n",
       "    <tr>\n",
       "      <th>0</th>\n",
       "      <td>-inf</td>\n",
       "      <td></td>\n",
       "      <td>0.2</td>\n",
       "      <td>-inf</td>\n",
       "      <td></td>\n",
       "      <td>0.1</td>\n",
       "    </tr>\n",
       "    <tr>\n",
       "      <th>1</th>\n",
       "      <td>0.200000</td>\n",
       "      <td></td>\n",
       "      <td>0.22</td>\n",
       "      <td>0.100000</td>\n",
       "      <td></td>\n",
       "      <td>0.12</td>\n",
       "    </tr>\n",
       "    <tr>\n",
       "      <th>2</th>\n",
       "      <td>0.220000</td>\n",
       "      <td></td>\n",
       "      <td>0.24</td>\n",
       "      <td>0.120000</td>\n",
       "      <td>0</td>\n",
       "      <td>0.14</td>\n",
       "    </tr>\n",
       "    <tr>\n",
       "      <th>3</th>\n",
       "      <td>0.240000</td>\n",
       "      <td></td>\n",
       "      <td>0.26</td>\n",
       "      <td>0.140000</td>\n",
       "      <td></td>\n",
       "      <td>0.16</td>\n",
       "    </tr>\n",
       "    <tr>\n",
       "      <th>4</th>\n",
       "      <td>0.260000</td>\n",
       "      <td>0</td>\n",
       "      <td>0.28</td>\n",
       "      <td>0.160000</td>\n",
       "      <td></td>\n",
       "      <td>0.18</td>\n",
       "    </tr>\n",
       "    <tr>\n",
       "      <th>5</th>\n",
       "      <td>0.280000</td>\n",
       "      <td></td>\n",
       "      <td>0.3</td>\n",
       "      <td>0.180000</td>\n",
       "      <td></td>\n",
       "      <td>0.2</td>\n",
       "    </tr>\n",
       "    <tr>\n",
       "      <th>6</th>\n",
       "      <td>0.300000</td>\n",
       "      <td></td>\n",
       "      <td>np.inf</td>\n",
       "      <td>0.200000</td>\n",
       "      <td></td>\n",
       "      <td>np.inf</td>\n",
       "    </tr>\n",
       "  </tbody>\n",
       "</table>\n",
       "</div>"
      ],
      "text/plain": [
       "         Ca                       Fe               \n",
       "         lb sample      ub        lb sample      ub\n",
       "0      -inf            0.2      -inf            0.1\n",
       "1  0.200000           0.22  0.100000           0.12\n",
       "2  0.220000           0.24  0.120000      0    0.14\n",
       "3  0.240000           0.26  0.140000           0.16\n",
       "4  0.260000      0    0.28  0.160000           0.18\n",
       "5  0.280000            0.3  0.180000            0.2\n",
       "6  0.300000         np.inf  0.200000         np.inf"
      ]
     },
     "execution_count": 1182,
     "metadata": {},
     "output_type": "execute_result"
    }
   ],
   "source": [
    "#note how the target was for 0.25 and 0.15, but we missed, no worries\n",
    "Suggester.get_state()"
   ]
  },
  {
   "cell_type": "code",
   "execution_count": 1183,
   "metadata": {
    "collapsed": true
   },
   "outputs": [],
   "source": [
    "#again"
   ]
  },
  {
   "cell_type": "code",
   "execution_count": 1185,
   "metadata": {
    "collapsed": false
   },
   "outputs": [
    {
     "data": {
      "text/plain": [
       "{'Ca': 0.25, 'Fe': 0.11000000000000001}"
      ]
     },
     "execution_count": 1185,
     "metadata": {},
     "output_type": "execute_result"
    }
   ],
   "source": [
    "suggestion = Suggester.make_suggestion()\n",
    "suggestion"
   ]
  },
  {
   "cell_type": "code",
   "execution_count": 1186,
   "metadata": {
    "collapsed": false
   },
   "outputs": [
    {
     "data": {
      "text/html": [
       "<div>\n",
       "<table border=\"1\" class=\"dataframe\">\n",
       "  <thead>\n",
       "    <tr style=\"text-align: right;\">\n",
       "      <th></th>\n",
       "      <th>name</th>\n",
       "      <th>measured</th>\n",
       "      <th>final</th>\n",
       "      <th>mass</th>\n",
       "    </tr>\n",
       "  </thead>\n",
       "  <tbody>\n",
       "    <tr>\n",
       "      <th>0</th>\n",
       "      <td>CaO</td>\n",
       "      <td>(H2O)0.0277542(CaO)0.00891625</td>\n",
       "      <td>(CaO)0.00891625</td>\n",
       "      <td>0.699603</td>\n",
       "    </tr>\n",
       "    <tr>\n",
       "      <th>1</th>\n",
       "      <td>Fe2O3</td>\n",
       "      <td>Fe2O3</td>\n",
       "      <td>--</td>\n",
       "      <td>0.157272</td>\n",
       "    </tr>\n",
       "    <tr>\n",
       "      <th>2</th>\n",
       "      <td>lithium_borate</td>\n",
       "      <td>LiB4O7</td>\n",
       "      <td>--</td>\n",
       "      <td>0.492926</td>\n",
       "    </tr>\n",
       "  </tbody>\n",
       "</table>\n",
       "</div>"
      ],
      "text/plain": [
       "<mix.SingleBead at 0x10a7a1290>"
      ]
     },
     "execution_count": 1186,
     "metadata": {},
     "output_type": "execute_result"
    }
   ],
   "source": [
    "s = mix.SingleBead.from_targets(suggestion,target_mass,sources)\n",
    "s"
   ]
  },
  {
   "cell_type": "code",
   "execution_count": 1187,
   "metadata": {
    "collapsed": false
   },
   "outputs": [
    {
     "data": {
      "text/html": [
       "<div>\n",
       "<table border=\"1\" class=\"dataframe\">\n",
       "  <thead>\n",
       "    <tr style=\"text-align: right;\">\n",
       "      <th></th>\n",
       "      <th>name</th>\n",
       "      <th>measured</th>\n",
       "      <th>final</th>\n",
       "      <th>mass</th>\n",
       "    </tr>\n",
       "  </thead>\n",
       "  <tbody>\n",
       "    <tr>\n",
       "      <th>0</th>\n",
       "      <td>CaO</td>\n",
       "      <td>(H2O)0.0277542(CaO)0.00891625</td>\n",
       "      <td>(CaO)0.00891625</td>\n",
       "      <td>0.700</td>\n",
       "    </tr>\n",
       "    <tr>\n",
       "      <th>1</th>\n",
       "      <td>Fe2O3</td>\n",
       "      <td>Fe2O3</td>\n",
       "      <td>--</td>\n",
       "      <td>0.155</td>\n",
       "    </tr>\n",
       "    <tr>\n",
       "      <th>2</th>\n",
       "      <td>lithium_borate</td>\n",
       "      <td>LiB4O7</td>\n",
       "      <td>--</td>\n",
       "      <td>0.490</td>\n",
       "    </tr>\n",
       "  </tbody>\n",
       "</table>\n",
       "</div>"
      ],
      "text/plain": [
       "<mix.SingleBead at 0x10a6d5090>"
      ]
     },
     "metadata": {},
     "output_type": "display_data"
    },
    {
     "data": {
      "text/html": [
       "<p> Compound('[('Ca', 0.2501417683416135), ('Fe', 0.10841095334533171), ('No', 0.5914472783130548)]',None) </p>"
      ],
      "text/plain": [
       "Compound({'formula': [('Ca', 0.2501417683416135), ('Fe', 0.10841095334533171), ('No', 0.5914472783130548)]})"
      ]
     },
     "metadata": {},
     "output_type": "display_data"
    },
    {
     "name": "stdout",
     "output_type": "stream",
     "text": [
      "superdict([('Ca', 0.2633071245701195), ('No', 0.6225760824347946), ('Fe', 0.11411679299508602)])\n"
     ]
    }
   ],
   "source": [
    "#make an acutal bead\n",
    "#make actual bead\n",
    "sA = mix.SingleBead(sources,[0.70,0.155,0.49])\n",
    "display(sA)\n",
    "#mass ends up being 0.95\n",
    "bead = sA.measured_compound_filtered(['Ca','Fe'],0.95)\n",
    "display(bead)\n",
    "print bead.mass_fraction"
   ]
  },
  {
   "cell_type": "code",
   "execution_count": 1188,
   "metadata": {
    "collapsed": false
   },
   "outputs": [],
   "source": [
    "Suggester.add_sample(**bead.mass_fraction)"
   ]
  },
  {
   "cell_type": "code",
   "execution_count": 1189,
   "metadata": {
    "collapsed": false
   },
   "outputs": [
    {
     "data": {
      "text/html": [
       "<div>\n",
       "<table border=\"1\" class=\"dataframe\">\n",
       "  <thead>\n",
       "    <tr>\n",
       "      <th></th>\n",
       "      <th colspan=\"3\" halign=\"left\">Ca</th>\n",
       "      <th colspan=\"3\" halign=\"left\">Fe</th>\n",
       "    </tr>\n",
       "    <tr>\n",
       "      <th></th>\n",
       "      <th>lb</th>\n",
       "      <th>sample</th>\n",
       "      <th>ub</th>\n",
       "      <th>lb</th>\n",
       "      <th>sample</th>\n",
       "      <th>ub</th>\n",
       "    </tr>\n",
       "  </thead>\n",
       "  <tbody>\n",
       "    <tr>\n",
       "      <th>0</th>\n",
       "      <td>-inf</td>\n",
       "      <td></td>\n",
       "      <td>0.2</td>\n",
       "      <td>-inf</td>\n",
       "      <td></td>\n",
       "      <td>0.1</td>\n",
       "    </tr>\n",
       "    <tr>\n",
       "      <th>1</th>\n",
       "      <td>0.200000</td>\n",
       "      <td></td>\n",
       "      <td>0.22</td>\n",
       "      <td>0.100000</td>\n",
       "      <td>1</td>\n",
       "      <td>0.12</td>\n",
       "    </tr>\n",
       "    <tr>\n",
       "      <th>2</th>\n",
       "      <td>0.220000</td>\n",
       "      <td></td>\n",
       "      <td>0.24</td>\n",
       "      <td>0.120000</td>\n",
       "      <td>0</td>\n",
       "      <td>0.14</td>\n",
       "    </tr>\n",
       "    <tr>\n",
       "      <th>3</th>\n",
       "      <td>0.240000</td>\n",
       "      <td></td>\n",
       "      <td>0.26</td>\n",
       "      <td>0.140000</td>\n",
       "      <td></td>\n",
       "      <td>0.16</td>\n",
       "    </tr>\n",
       "    <tr>\n",
       "      <th>4</th>\n",
       "      <td>0.260000</td>\n",
       "      <td>0,1</td>\n",
       "      <td>0.28</td>\n",
       "      <td>0.160000</td>\n",
       "      <td></td>\n",
       "      <td>0.18</td>\n",
       "    </tr>\n",
       "    <tr>\n",
       "      <th>5</th>\n",
       "      <td>0.280000</td>\n",
       "      <td></td>\n",
       "      <td>0.3</td>\n",
       "      <td>0.180000</td>\n",
       "      <td></td>\n",
       "      <td>0.2</td>\n",
       "    </tr>\n",
       "    <tr>\n",
       "      <th>6</th>\n",
       "      <td>0.300000</td>\n",
       "      <td></td>\n",
       "      <td>np.inf</td>\n",
       "      <td>0.200000</td>\n",
       "      <td></td>\n",
       "      <td>np.inf</td>\n",
       "    </tr>\n",
       "  </tbody>\n",
       "</table>\n",
       "</div>"
      ],
      "text/plain": [
       "         Ca                       Fe               \n",
       "         lb sample      ub        lb sample      ub\n",
       "0      -inf            0.2      -inf            0.1\n",
       "1  0.200000           0.22  0.100000      1    0.12\n",
       "2  0.220000           0.24  0.120000      0    0.14\n",
       "3  0.240000           0.26  0.140000           0.16\n",
       "4  0.260000    0,1    0.28  0.160000           0.18\n",
       "5  0.280000            0.3  0.180000            0.2\n",
       "6  0.300000         np.inf  0.200000         np.inf"
      ]
     },
     "execution_count": 1189,
     "metadata": {},
     "output_type": "execute_result"
    }
   ],
   "source": [
    "Suggester.get_state()"
   ]
  },
  {
   "cell_type": "code",
   "execution_count": null,
   "metadata": {
    "collapsed": true
   },
   "outputs": [],
   "source": []
  }
 ],
 "metadata": {
  "kernelspec": {
   "display_name": "Python 2",
   "language": "python",
   "name": "python2"
  },
  "language_info": {
   "codemirror_mode": {
    "name": "ipython",
    "version": 2
   },
   "file_extension": ".py",
   "mimetype": "text/x-python",
   "name": "python",
   "nbconvert_exporter": "python",
   "pygments_lexer": "ipython2",
   "version": "2.7.10"
  }
 },
 "nbformat": 4,
 "nbformat_minor": 0
}
