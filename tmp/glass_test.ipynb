{
 "cells": [
  {
   "cell_type": "code",
   "execution_count": 96,
   "metadata": {
    "collapsed": true
   },
   "outputs": [],
   "source": [
    "import periodictable as PT\n",
    "import periodictable.formulas"
   ]
  },
  {
   "cell_type": "code",
   "execution_count": 938,
   "metadata": {
    "collapsed": true
   },
   "outputs": [],
   "source": [
    "import json"
   ]
  },
  {
   "cell_type": "code",
   "execution_count": 1084,
   "metadata": {
    "collapsed": false
   },
   "outputs": [
    {
     "data": {
      "text/plain": [
       "<module 'mix' from 'mix.py'>"
      ]
     },
     "execution_count": 1084,
     "metadata": {},
     "output_type": "execute_result"
    }
   ],
   "source": [
    "import mix\n",
    "reload(mix)"
   ]
  },
  {
   "cell_type": "code",
   "execution_count": 1114,
   "metadata": {
    "collapsed": true
   },
   "outputs": [],
   "source": [
    "import pandas as pd"
   ]
  },
  {
   "cell_type": "code",
   "execution_count": 1144,
   "metadata": {
    "collapsed": false
   },
   "outputs": [],
   "source": [
    "df = pd.DataFrame([1,2,3],columns=['hello'],index=list('abc'))"
   ]
  },
  {
   "cell_type": "code",
   "execution_count": 1145,
   "metadata": {
    "collapsed": false
   },
   "outputs": [
    {
     "data": {
      "text/html": [
       "<div>\n",
       "<table border=\"1\" class=\"dataframe\">\n",
       "  <thead>\n",
       "    <tr style=\"text-align: right;\">\n",
       "      <th></th>\n",
       "      <th>hello</th>\n",
       "    </tr>\n",
       "  </thead>\n",
       "  <tbody>\n",
       "    <tr>\n",
       "      <th>a</th>\n",
       "      <td>1</td>\n",
       "    </tr>\n",
       "    <tr>\n",
       "      <th>b</th>\n",
       "      <td>2</td>\n",
       "    </tr>\n",
       "    <tr>\n",
       "      <th>c</th>\n",
       "      <td>3</td>\n",
       "    </tr>\n",
       "  </tbody>\n",
       "</table>\n",
       "</div>"
      ],
      "text/plain": [
       "   hello\n",
       "a      1\n",
       "b      2\n",
       "c      3"
      ]
     },
     "execution_count": 1145,
     "metadata": {},
     "output_type": "execute_result"
    }
   ],
   "source": [
    "df"
   ]
  },
  {
   "cell_type": "code",
   "execution_count": 1149,
   "metadata": {
    "collapsed": false
   },
   "outputs": [
    {
     "name": "stdout",
     "output_type": "stream",
     "text": [
      "<div>\n",
      "<table border=\"1\" class=\"dataframe\">\n",
      "  <thead>\n",
      "    <tr style=\"text-align: right;\">\n",
      "      <th></th>\n",
      "      <th>hello</th>\n",
      "    </tr>\n",
      "  </thead>\n",
      "  <tbody>\n",
      "    <tr>\n",
      "      <th>a</th>\n",
      "      <td>1</td>\n",
      "    </tr>\n",
      "    <tr>\n",
      "      <th>b</th>\n",
      "      <td>2</td>\n",
      "    </tr>\n",
      "    <tr>\n",
      "      <th>c</th>\n",
      "      <td>3</td>\n",
      "    </tr>\n",
      "  </tbody>\n",
      "</table>\n",
      "</div>\n"
     ]
    }
   ],
   "source": [
    "print df._repr_html_()"
   ]
  },
  {
   "cell_type": "code",
   "execution_count": 1151,
   "metadata": {
    "collapsed": false
   },
   "outputs": [
    {
     "data": {
      "text/plain": [
       "u'<div>\\n<table border=\"1\" class=\"dataframe\">\\n  <thead>\\n    <tr style=\"text-align: right;\">\\n      <th></th>\\n      <th>hello</th>\\n    </tr>\\n  </thead>\\n  <tbody>\\n    <tr>\\n      <th>a</th>\\n      <td>1</td>\\n    </tr>\\n    <tr>\\n      <th>b</th>\\n      <td>2</td>\\n    </tr>\\n    <tr>\\n      <th>c</th>\\n      <td>3</td>\\n    </tr>\\n  </tbody>\\n</table>\\n</div>'"
      ]
     },
     "execution_count": 1151,
     "metadata": {},
     "output_type": "execute_result"
    }
   ],
   "source": [
    "df._repr_html_()"
   ]
  },
  {
   "cell_type": "code",
   "execution_count": 1147,
   "metadata": {
    "collapsed": false
   },
   "outputs": [
    {
     "data": {
      "text/html": [
       "<div>\n",
       "<table border=\"1\" class=\"dataframe\">\n",
       "  <thead>\n",
       "    <tr style=\"text-align: right;\">\n",
       "      <th></th>\n",
       "      <th>hello</th>\n",
       "    </tr>\n",
       "  </thead>\n",
       "  <tbody>\n",
       "    <tr>\n",
       "      <th>a</th>\n",
       "      <td>1</td>\n",
       "    </tr>\n",
       "    <tr>\n",
       "      <th>b</th>\n",
       "      <td>2</td>\n",
       "    </tr>\n",
       "    <tr>\n",
       "      <th>c</th>\n",
       "      <td>3</td>\n",
       "    </tr>\n",
       "  </tbody>\n",
       "</table>\n",
       "</div>"
      ],
      "text/plain": [
       "   hello\n",
       "a      1\n",
       "b      2\n",
       "c      3"
      ]
     },
     "execution_count": 1147,
     "metadata": {},
     "output_type": "execute_result"
    }
   ],
   "source": [
    "df"
   ]
  },
  {
   "cell_type": "code",
   "execution_count": 1171,
   "metadata": {
    "collapsed": false
   },
   "outputs": [
    {
     "data": {
      "text/plain": [
       "<module 'mix' from 'mix.py'>"
      ]
     },
     "execution_count": 1171,
     "metadata": {},
     "output_type": "execute_result"
    }
   ],
   "source": [
    "reload(mix)"
   ]
  },
  {
   "cell_type": "code",
   "execution_count": 1174,
   "metadata": {
    "collapsed": true
   },
   "outputs": [],
   "source": [
    "c = mix.Compound({'H2O':1.0},name='hello')"
   ]
  },
  {
   "cell_type": "code",
   "execution_count": 1175,
   "metadata": {
    "collapsed": false
   },
   "outputs": [
    {
     "data": {
      "text/html": [
       "<p> Compound('OrderedDict([('H2O', 1.0)])',hello) </p>"
      ],
      "text/plain": [
       "Compound({'formula': OrderedDict([('H2O', 1.0)]), 'name': 'hello'})"
      ]
     },
     "execution_count": 1175,
     "metadata": {},
     "output_type": "execute_result"
    }
   ],
   "source": [
    "c"
   ]
  },
  {
   "cell_type": "code",
   "execution_count": 1161,
   "metadata": {
    "collapsed": true
   },
   "outputs": [],
   "source": [
    "class Shout(object):\n",
    "    def __init__(self, text,val):\n",
    "        self.text = text\n",
    "        self.val = val\n",
    "\n",
    "    def _repr_html_(self):\n",
    "        return \"<p> {0}:{1} </p>\".format(self.text,self.val)"
   ]
  },
  {
   "cell_type": "code",
   "execution_count": 1163,
   "metadata": {
    "collapsed": false
   },
   "outputs": [],
   "source": [
    "x = Shout('hello',1.0)"
   ]
  },
  {
   "cell_type": "code",
   "execution_count": 1164,
   "metadata": {
    "collapsed": false
   },
   "outputs": [
    {
     "data": {
      "text/html": [
       "<p> hello:1.0 </p>"
      ],
      "text/plain": [
       "<__main__.Shout at 0x10a521e10>"
      ]
     },
     "execution_count": 1164,
     "metadata": {},
     "output_type": "execute_result"
    }
   ],
   "source": [
    "x"
   ]
  },
  {
   "cell_type": "code",
   "execution_count": 1133,
   "metadata": {
    "collapsed": false
   },
   "outputs": [
    {
     "data": {
      "text/plain": [
       "hello    a\n",
       "dtype: object"
      ]
     },
     "execution_count": 1133,
     "metadata": {},
     "output_type": "execute_result"
    }
   ],
   "source": [
    "pd.Series(['a'],index=['hello'])"
   ]
  },
  {
   "cell_type": "markdown",
   "metadata": {},
   "source": [
    "#compounds"
   ]
  },
  {
   "cell_type": "code",
   "execution_count": 1128,
   "metadata": {
    "collapsed": false
   },
   "outputs": [
    {
     "data": {
      "text/plain": [
       "Compound({'formula': ''})"
      ]
     },
     "execution_count": 1128,
     "metadata": {},
     "output_type": "execute_result"
    }
   ],
   "source": [
    "c = mix.Compound()\n",
    "c"
   ]
  },
  {
   "cell_type": "code",
   "execution_count": 1086,
   "metadata": {
    "collapsed": false
   },
   "outputs": [
    {
     "data": {
      "text/plain": [
       "Compound({'formula': 'H2O', 'name': 'water'})"
      ]
     },
     "execution_count": 1086,
     "metadata": {},
     "output_type": "execute_result"
    }
   ],
   "source": [
    "c.formula = 'H2O'\n",
    "c.name = 'water'\n",
    "c"
   ]
  },
  {
   "cell_type": "code",
   "execution_count": 1087,
   "metadata": {
    "collapsed": false
   },
   "outputs": [
    {
     "name": "stdout",
     "output_type": "stream",
     "text": [
      "superdict([('O', 0.8881016559276347), ('H', 0.11189834407236524)])\n",
      "0.111898344072 0.888101655928\n"
     ]
    }
   ],
   "source": [
    "print c.mass_fraction\n",
    "#note, type c.mass_fraction[<press tab> to complete 'H', 'O']\n",
    "print c.mass_fraction['H'],c.mass_fraction['O']"
   ]
  },
  {
   "cell_type": "code",
   "execution_count": 1088,
   "metadata": {
    "collapsed": false
   },
   "outputs": [
    {
     "name": "stdout",
     "output_type": "stream",
     "text": [
      "{'formula': 'H2O', 'name': 'water'}\n"
     ]
    }
   ],
   "source": [
    "#serialize\n",
    "print c.to_dict()"
   ]
  },
  {
   "cell_type": "code",
   "execution_count": 1089,
   "metadata": {
    "collapsed": false
   },
   "outputs": [
    {
     "name": "stdout",
     "output_type": "stream",
     "text": [
      "{'formula': 'H2O', 'name': 'water'}\n",
      "{'formula': 'H2O', 'name': 'water'}\n",
      "{\"formula\": \"H2O\", \"name\": \"water\"}\n",
      "{'formula': 'H2O', 'name': u'water'}\n"
     ]
    }
   ],
   "source": [
    "#create from self\n",
    "print mix.Compound(c)\n",
    "\n",
    "#create from serial\n",
    "print mix.Compound(c.to_dict())\n",
    "\n",
    "#dump to json\n",
    "print json.dumps(c.to_dict())\n",
    "\n",
    "#create from json\n",
    "print mix.Compound(json.loads(json.dumps(c.to_dict())))"
   ]
  },
  {
   "cell_type": "code",
   "execution_count": 1090,
   "metadata": {
    "collapsed": false
   },
   "outputs": [
    {
     "name": "stdout",
     "output_type": "stream",
     "text": [
      "{'formula': OrderedDict([('H', 0.5), ('Fe', 0.5)])}\n",
      "H0.496061Fe0.00895335\n",
      "superdict([('Fe', 0.5), ('H', 0.5)])\n",
      "{'formula': OrderedDict([('FeO2', 0.5), ('H2O', 0.5)])}\n",
      "(FeO2)0.00569192(H2O)0.0277542\n",
      "superdict([('Fe', 0.31786534735519184), ('H', 0.055949172036182625), ('O', 0.6261854806086256)])\n"
     ]
    }
   ],
   "source": [
    "#create compound from mix by mass\n",
    "\n",
    "#simple case\n",
    "c = mix.Compound({'H':0.5,'Fe':0.5})\n",
    "print c\n",
    "print c.formula\n",
    "print c.mass_fraction\n",
    "\n",
    "#harder case\n",
    "c = mix.Compound({'H2O':0.5,'FeO2':0.5})\n",
    "print c\n",
    "print c.formula\n",
    "print c.mass_fraction\n"
   ]
  },
  {
   "cell_type": "code",
   "execution_count": 1091,
   "metadata": {
    "collapsed": false
   },
   "outputs": [
    {
     "data": {
      "text/plain": [
       "Compound({'formula': OrderedDict([('FeO2', 0.5), ('H2O', 0.5)])})"
      ]
     },
     "execution_count": 1091,
     "metadata": {},
     "output_type": "execute_result"
    }
   ],
   "source": [
    "c"
   ]
  },
  {
   "cell_type": "code",
   "execution_count": 1092,
   "metadata": {
    "collapsed": false
   },
   "outputs": [
    {
     "data": {
      "text/plain": [
       "<module 'mix' from 'mix.pyc'>"
      ]
     },
     "execution_count": 1092,
     "metadata": {},
     "output_type": "execute_result"
    }
   ],
   "source": [
    "reload(mix)"
   ]
  },
  {
   "cell_type": "code",
   "execution_count": 1094,
   "metadata": {
    "collapsed": false
   },
   "outputs": [
    {
     "name": "stdout",
     "output_type": "stream",
     "text": [
      "{'formula': OrderedDict([('H2O', 0.5), ('FeO2', 0.5)])}\n",
      "(H2O)0.0277542(FeO2)0.00569192\n",
      "superdict([('O', 0.6261854806086256), ('H', 0.055949172036182625), ('Fe', 0.31786534735519184)])\n"
     ]
    }
   ],
   "source": [
    "#create from mix of compounds\n",
    "A = mix.Compound('H2O')\n",
    "B = mix.Compound('FeO2')\n",
    "\n",
    "c = mix.Compound({A.formula:0.5,B.formula:0.5})\n",
    "print c\n",
    "print c.formula\n",
    "print c.mass_fraction"
   ]
  },
  {
   "cell_type": "markdown",
   "metadata": {},
   "source": [
    "#Compound Volatile\n",
    "\n",
    " * class to handle volatility\n",
    " * two main inputs\n",
    "     * measured: compound formula for measured substance\n",
    "     * final: compound after volatiles removed\n",
    "     * note: need consistent definition \n",
    "     * if have mix of \"A\" and \"V\" where \"V\" is volatile, then have two choices:\n",
    "         * measured = \"(A)x + (V)m\", final=\"(A)x + (V)f\"\n",
    "         * measured = {\"A\":x, \"V\":m}, final={\"A\":x, \"V\":m}\n",
    "         * x must be same in measured and final\n",
    "         \n",
    "      \n",
    "         \n",
    "     "
   ]
  },
  {
   "cell_type": "code",
   "execution_count": 1095,
   "metadata": {
    "collapsed": false
   },
   "outputs": [
    {
     "name": "stdout",
     "output_type": "stream",
     "text": [
      "{'measured': {'formula': 'H2O'}}\n",
      "H2O\n",
      "H2O\n"
     ]
    }
   ],
   "source": [
    "c = mix.CompoundVolatile('H2O')\n",
    "print c\n",
    "print c.measured.formula\n",
    "print c.final.formula"
   ]
  },
  {
   "cell_type": "code",
   "execution_count": 1003,
   "metadata": {
    "collapsed": false
   },
   "outputs": [
    {
     "name": "stdout",
     "output_type": "stream",
     "text": [
      "{'measured': {'formula': OrderedDict([('FeO2', 0.5), ('H2O', 0.5)])}, 'final': {'formula': OrderedDict([('FeO2', 0.5)])}}\n",
      "(FeO2)0.00569192(H2O)0.0277542\n",
      "(FeO2)0.00569192\n",
      "2.0 0.5\n",
      "False\n"
     ]
    }
   ],
   "source": [
    "m = mix.Compound({'FeO2':0.5,'H2O':0.5})\n",
    "f = mix.Compound({'FeO2':0.5})\n",
    "\n",
    "c = mix.CompoundVolatile(measured=m,final=f)\n",
    "print c\n",
    "print c.measured.formula\n",
    "print c.final.formula\n",
    "\n",
    "#conversions\n",
    "print c.final_to_measured_conversion,c.measured_to_final_conversion\n",
    "\n",
    "\n",
    "#check that source 'Fe' does not change\n",
    "print c.changes('Fe')"
   ]
  },
  {
   "cell_type": "code",
   "execution_count": 1097,
   "metadata": {
    "collapsed": false
   },
   "outputs": [
    {
     "data": {
      "text/plain": [
       "<module 'mix' from 'mix.py'>"
      ]
     },
     "execution_count": 1097,
     "metadata": {},
     "output_type": "execute_result"
    }
   ],
   "source": [
    "reload(mix)"
   ]
  },
  {
   "cell_type": "code",
   "execution_count": 1101,
   "metadata": {
    "collapsed": false
   },
   "outputs": [
    {
     "name": "stdout",
     "output_type": "stream",
     "text": [
      "{'measured': {'formula': 'FeO2+H2O'}, 'final': {'formula': 'FeO2'}}\n",
      "FeO2H2O\n",
      "FeO2\n",
      "1.20508311344 0.829818282947\n"
     ]
    }
   ],
   "source": [
    "#mol mix\n",
    "m = mix.Compound('FeO2+H2O')\n",
    "f = mix.Compound('FeO2')\n",
    "\n",
    "c = mix.CompoundVolatile(measured=m,final=f)\n",
    "print c\n",
    "print c.measured.formula\n",
    "print c.final.formula\n",
    "\n",
    "#conversions\n",
    "print c.final_to_measured_conversion,c.measured_to_final_conversion\n",
    "\n",
    "\n",
    "#check that source 'Fe' does not change\n",
    "c.check_atom('Fe')"
   ]
  },
  {
   "cell_type": "markdown",
   "metadata": {},
   "source": [
    "#compound collection\n",
    "\n",
    " * collection of (volatile) compounds\n",
    " "
   ]
  },
  {
   "cell_type": "code",
   "execution_count": 1104,
   "metadata": {
    "collapsed": false
   },
   "outputs": [
    {
     "name": "stdout",
     "output_type": "stream",
     "text": [
      "{'formulas': []}\n",
      "{'formulas': [{'measured': {'formula': 'FeO2+H2O'}}, {'measured': {'formula': 'CaO'}}]}\n"
     ]
    }
   ],
   "source": [
    "c = mix.CompoundCollection()\n",
    "print c\n",
    "\n",
    "#assign formulas\n",
    "c.formulas = ['FeO2+H2O','CaO']\n",
    "print c"
   ]
  },
  {
   "cell_type": "code",
   "execution_count": 1105,
   "metadata": {
    "collapsed": false
   },
   "outputs": [
    {
     "name": "stdout",
     "output_type": "stream",
     "text": [
      "{'measured': {'formula': 'FeO2+H2O'}}\n",
      "{'measured': {'formula': 'CaO'}}\n",
      "{'measured': {'formula': 'FeO2+H2O'}}\n",
      "{'measured': {'formula': 'CaO'}}\n",
      "['FeO2H2O', 'CaO']\n",
      "{'measured': {'formula': 'FeO2+H2O'}}\n",
      "{'measured': {'formula': 'CaO'}}\n",
      "{'measured': {'formula': 'FeO2+H2O'}}\n",
      "{'measured': {'formula': 'CaO'}}\n"
     ]
    }
   ],
   "source": [
    "#positional access\n",
    "print c[0]\n",
    "print c[1]\n",
    "\n",
    "#the above is equivalent to\n",
    "print c.formulas[0]\n",
    "print c.formulas[1]\n",
    "\n",
    "#can also access by name\n",
    "print c.keys()\n",
    "print c['FeO2H2O']\n",
    "print c['CaO']\n",
    "\n",
    "#can access by attribute\n",
    "print c.FeO2H2O\n",
    "print c.CaO"
   ]
  },
  {
   "cell_type": "code",
   "execution_count": 1106,
   "metadata": {
    "collapsed": false
   },
   "outputs": [
    {
     "name": "stdout",
     "output_type": "stream",
     "text": [
      "{'formula': 'FeO2+H2O'}\n",
      "{'formula': 'FeO2+H2O'}\n"
     ]
    }
   ],
   "source": [
    "#each member is a volatile compount\n",
    "print c.FeO2H2O.measured\n",
    "print c.FeO2H2O.final"
   ]
  },
  {
   "cell_type": "code",
   "execution_count": 1107,
   "metadata": {
    "collapsed": false
   },
   "outputs": [
    {
     "name": "stdout",
     "output_type": "stream",
     "text": [
      "[CompoundVolatile({'measured': {'formula': 'FeO2+H2O'}, 'name': 'A'}), CompoundVolatile({'measured': {'formula': 'CaO'}, 'name': 'B'})]\n"
     ]
    }
   ],
   "source": [
    "#more control\n",
    "c.formulas[0].name = 'A'\n",
    "c.formulas[1].name = 'B'\n",
    "print c.formulas"
   ]
  },
  {
   "cell_type": "code",
   "execution_count": 1108,
   "metadata": {
    "collapsed": false
   },
   "outputs": [
    {
     "name": "stdout",
     "output_type": "stream",
     "text": [
      "{'measured': {'formula': 'FeO2+H2O'}, 'name': 'A'}\n",
      "{'measured': {'formula': 'CaO'}, 'name': 'B'}\n"
     ]
    }
   ],
   "source": [
    "print c['A']\n",
    "print c['B']"
   ]
  },
  {
   "cell_type": "code",
   "execution_count": 1110,
   "metadata": {
    "collapsed": false
   },
   "outputs": [
    {
     "name": "stdout",
     "output_type": "stream",
     "text": [
      "{'measured': {'formula': 'FeO2+H2O'}, 'final': {'formula': 'FeO2'}, 'name': 'A'}\n"
     ]
    }
   ],
   "source": [
    "#add in final formula for 'A'\n",
    "c.A.final = 'FeO2'\n",
    "print c.A\n",
    "#check atom\n",
    "c.A.check_atom('Fe')"
   ]
  },
  {
   "cell_type": "markdown",
   "metadata": {},
   "source": [
    "#glass\n",
    "    \n",
    " * container for making a glass\n",
    "\n",
    "## Forward calculation:\n",
    "\n",
    " * specify target atoms composition\n",
    " * specify source compounds\n",
    " * specify matrix material ('LiB4O7')\n",
    " * solve for masses of source compounds and matrix material"
   ]
  },
  {
   "cell_type": "code",
   "execution_count": 1113,
   "metadata": {
    "collapsed": false
   },
   "outputs": [
    {
     "data": {
      "text/plain": [
       "<module 'mix' from 'mix.pyc'>"
      ]
     },
     "execution_count": 1113,
     "metadata": {},
     "output_type": "execute_result"
    }
   ],
   "source": [
    "import mix\n",
    "reload(mix)"
   ]
  },
  {
   "cell_type": "code",
   "execution_count": 865,
   "metadata": {
    "collapsed": true
   },
   "outputs": [],
   "source": [
    "g = mix.glass()\n",
    "#set target masses\n",
    "g.targets['Ca'] = 0.1\n",
    "g.targets['Fe'] = 0.25\n",
    "\n",
    "sourceA = mix.CompoundVolatile({'CaO':0.5,'H2O':0.5},{'CaO':0.5},name='CaO')\n",
    "sourceB = mix.CompoundVolatile('Fe2O3')\n",
    "#sourceA = mix.CompoundVolatile('CaO',name='A')\n",
    "g.sources.append(sourceA)\n",
    "g.sources.append(sourceB)\n"
   ]
  },
  {
   "cell_type": "code",
   "execution_count": 887,
   "metadata": {
    "collapsed": false
   },
   "outputs": [
    {
     "data": {
      "text/plain": [
       "'{\"sources\": {\"formulas\": [{\"measured\": {\"formula\": {\"H2O\": 0.5, \"CaO\": 0.5}}, \"final\": {\"formula\": {\"CaO\": 0.5}}, \"name\": \"CaO\"}, {\"measured\": {\"formula\": \"Fe2O3\"}}]}, \"matrix\": {\"measured\": {\"formula\": \"LiB4O7\", \"name\": \"lithium_borate\"}}, \"targets\": [[\"Ca\", 0.1], [\"Fe\", 0.25]]}'"
      ]
     },
     "execution_count": 887,
     "metadata": {},
     "output_type": "execute_result"
    }
   ],
   "source": [
    "json.dumps(g.to_dict())"
   ]
  },
  {
   "cell_type": "code",
   "execution_count": 871,
   "metadata": {
    "collapsed": false
   },
   "outputs": [],
   "source": [
    "g2 = mix.glass(**g.to_dict())"
   ]
  },
  {
   "cell_type": "code",
   "execution_count": 884,
   "metadata": {
    "collapsed": false
   },
   "outputs": [
    {
     "data": {
      "text/plain": [
       "OrderedDict([('CaO', 2.7984130944657912), ('Fe2O3', 3.5743620735965611), ('lithium_borate', 5.0264313791705435)])"
      ]
     },
     "execution_count": 884,
     "metadata": {},
     "output_type": "execute_result"
    }
   ],
   "source": [
    "g2.get_solution(10.0)"
   ]
  },
  {
   "cell_type": "code",
   "execution_count": 820,
   "metadata": {
    "collapsed": false
   },
   "outputs": [
    {
     "data": {
      "text/plain": [
       "{'matrix': {'measured': {'formula': 'LiB4O7', 'name': 'lithium_borate'}},\n",
       " 'sources': {'formulas': [{'final': {'formula': OrderedDict([('CaO', 0.5)])},\n",
       "    'measured': {'formula': OrderedDict([('H2O', 0.5), ('CaO', 0.5)])},\n",
       "    'name': 'CaO'},\n",
       "   {'measured': {'formula': 'Fe2O3'}}]},\n",
       " 'targets': [('Ca', 0.1), ('Fe', 0.25)]}"
      ]
     },
     "execution_count": 820,
     "metadata": {},
     "output_type": "execute_result"
    }
   ],
   "source": [
    "g.to_dict()"
   ]
  },
  {
   "cell_type": "code",
   "execution_count": 826,
   "metadata": {
    "collapsed": false
   },
   "outputs": [],
   "source": [
    "g2 =mix.glass(g.targets,g.sources.to_dict())"
   ]
  },
  {
   "cell_type": "code",
   "execution_count": 832,
   "metadata": {
    "collapsed": false
   },
   "outputs": [
    {
     "data": {
      "text/plain": [
       "CompoundCollection(**{'formulas': [{'measured': {'formula': OrderedDict([('H2O', 0.5), ('CaO', 0.5)])}, 'final': {'formula': OrderedDict([('CaO', 0.5)])}, 'name': 'CaO'}, {'measured': {'formula': 'Fe2O3'}}]})"
      ]
     },
     "execution_count": 832,
     "metadata": {},
     "output_type": "execute_result"
    }
   ],
   "source": [
    "g.sources"
   ]
  },
  {
   "cell_type": "code",
   "execution_count": 829,
   "metadata": {
    "collapsed": false
   },
   "outputs": [
    {
     "data": {
      "text/plain": [
       "CompoundCollection(**{'formulas': [{'measured': {'formula': 'formulas'}}]})"
      ]
     },
     "execution_count": 829,
     "metadata": {},
     "output_type": "execute_result"
    }
   ],
   "source": [
    "g2.sources"
   ]
  },
  {
   "cell_type": "code",
   "execution_count": 823,
   "metadata": {
    "collapsed": false
   },
   "outputs": [
    {
     "data": {
      "text/plain": [
       "{'formulas': [{'final': {'formula': OrderedDict([('CaO', 0.5)])},\n",
       "   'measured': {'formula': OrderedDict([('H2O', 0.5), ('CaO', 0.5)])},\n",
       "   'name': 'CaO'},\n",
       "  {'measured': {'formula': 'Fe2O3'}}]}"
      ]
     },
     "execution_count": 823,
     "metadata": {},
     "output_type": "execute_result"
    }
   ],
   "source": [
    "g.sources.to_dict()"
   ]
  },
  {
   "cell_type": "code",
   "execution_count": null,
   "metadata": {
    "collapsed": true
   },
   "outputs": [],
   "source": [
    "g.g"
   ]
  },
  {
   "cell_type": "code",
   "execution_count": 797,
   "metadata": {
    "collapsed": false
   },
   "outputs": [
    {
     "data": {
      "text/plain": [
       "'{\"a\": 1, \"b\": 2}'"
      ]
     },
     "execution_count": 797,
     "metadata": {},
     "output_type": "execute_result"
    }
   ],
   "source": [
    "json.dumps(mix.OrderedDict(a=1,b=2))"
   ]
  },
  {
   "cell_type": "code",
   "execution_count": 791,
   "metadata": {
    "collapsed": false
   },
   "outputs": [
    {
     "data": {
      "text/plain": [
       "'{\"Ca\": 0.1, \"Fe\": 0.25}'"
      ]
     },
     "execution_count": 791,
     "metadata": {},
     "output_type": "execute_result"
    }
   ],
   "source": [
    "json.dumps(g._targets)"
   ]
  },
  {
   "cell_type": "code",
   "execution_count": 789,
   "metadata": {
    "collapsed": false
   },
   "outputs": [
    {
     "data": {
      "text/plain": [
       "'{\"Ca\": 0.1, \"Fe\": 0.25}'"
      ]
     },
     "execution_count": 789,
     "metadata": {},
     "output_type": "execute_result"
    }
   ],
   "source": [
    "json.dumps(g._targets)"
   ]
  },
  {
   "cell_type": "code",
   "execution_count": 565,
   "metadata": {
    "collapsed": false
   },
   "outputs": [
    {
     "data": {
      "text/plain": [
       "OrderedDict([('CaO', 0.27984130944657909), ('Fe2O3', 0.3574362073596562), ('lithium_borate', 0.50264313791705428)])"
      ]
     },
     "execution_count": 565,
     "metadata": {},
     "output_type": "execute_result"
    }
   ],
   "source": [
    "g.get_solution(1.0)"
   ]
  },
  {
   "cell_type": "code",
   "execution_count": 567,
   "metadata": {
    "collapsed": false
   },
   "outputs": [],
   "source": [
    "g2 = mix.glass(**g.to_dict())"
   ]
  },
  {
   "cell_type": "code",
   "execution_count": 568,
   "metadata": {
    "collapsed": false
   },
   "outputs": [
    {
     "data": {
      "text/plain": [
       "OrderedDict([('CaO', 0.27984130944657909), ('Fe2O3', 0.3574362073596562), ('lithium_borate', 0.50264313791705428)])"
      ]
     },
     "execution_count": 568,
     "metadata": {},
     "output_type": "execute_result"
    }
   ],
   "source": [
    "g2.get_solution(1.0)"
   ]
  },
  {
   "cell_type": "code",
   "execution_count": 564,
   "metadata": {
    "collapsed": false
   },
   "outputs": [
    {
     "data": {
      "text/plain": [
       "{'matrix': {'measured': {'formula': 'LiB4O7', 'name': 'lithium_borate'}, 'final': None, 'name': None},\n",
       " 'sources': {'formulas': [{'measured': {'formula': OrderedDict([('H2O', 0.5), ('CaO', 0.5)]), 'name': None}, 'final': {'formula': OrderedDict([('CaO', 0.5)]), 'name': None}, 'name': 'CaO'}, {'measured': {'formula': 'Fe2O3', 'name': None}, 'final': None, 'name': None}]},\n",
       " 'targets': superdict([('Ca', 0.1), ('Fe', 0.25)])}"
      ]
     },
     "execution_count": 564,
     "metadata": {},
     "output_type": "execute_result"
    }
   ],
   "source": [
    "g.to_dict()"
   ]
  },
  {
   "cell_type": "code",
   "execution_count": 559,
   "metadata": {
    "collapsed": false
   },
   "outputs": [],
   "source": [
    "x = g.get_solution(1.0)"
   ]
  },
  {
   "cell_type": "code",
   "execution_count": 560,
   "metadata": {
    "collapsed": false
   },
   "outputs": [
    {
     "data": {
      "text/plain": [
       "OrderedDict([('CaO', 0.27984130944657909), ('Fe2O3', 0.3574362073596562), ('lithium_borate', 0.50264313791705428)])"
      ]
     },
     "execution_count": 560,
     "metadata": {},
     "output_type": "execute_result"
    }
   ],
   "source": [
    "x"
   ]
  },
  {
   "cell_type": "code",
   "execution_count": 547,
   "metadata": {
    "collapsed": false
   },
   "outputs": [
    {
     "data": {
      "text/plain": [
       "['A', 'B']"
      ]
     },
     "execution_count": 547,
     "metadata": {},
     "output_type": "execute_result"
    }
   ],
   "source": [
    "g.sources.names"
   ]
  },
  {
   "cell_type": "code",
   "execution_count": 540,
   "metadata": {
    "collapsed": false
   },
   "outputs": [
    {
     "data": {
      "text/plain": [
       "[('Ca', 0.27984130944657909),\n",
       " ('Fe', 0.3574362073596562),\n",
       " ('lithium_borate', 0.50264313791705428)]"
      ]
     },
     "execution_count": 540,
     "metadata": {},
     "output_type": "execute_result"
    }
   ],
   "source": [
    "zip(g.targets.keys()+[g.matrix.name],x)"
   ]
  },
  {
   "cell_type": "code",
   "execution_count": 251,
   "metadata": {
    "collapsed": false
   },
   "outputs": [
    {
     "data": {
      "text/plain": [
       "array([ 0.1 ,  0.25,  1.  ])"
      ]
     },
     "execution_count": 251,
     "metadata": {},
     "output_type": "execute_result"
    }
   ],
   "source": [
    "g._get_RHS(1.0)"
   ]
  },
  {
   "cell_type": "code",
   "execution_count": 206,
   "metadata": {
    "collapsed": false
   },
   "outputs": [
    {
     "name": "stdout",
     "output_type": "stream",
     "text": [
      "56.0774\n",
      "159.6882\n"
     ]
    }
   ],
   "source": [
    "for x in g.sources:\n",
    "    print x.mass"
   ]
  },
  {
   "cell_type": "code",
   "execution_count": 175,
   "metadata": {
    "collapsed": false,
    "scrolled": true
   },
   "outputs": [
    {
     "ename": "AttributeError",
     "evalue": "'MyFormulaCollection' object has no attribute 'keys'",
     "output_type": "error",
     "traceback": [
      "\u001b[0;31m---------------------------------------------------------------------------\u001b[0m",
      "\u001b[0;31mAttributeError\u001b[0m                            Traceback (most recent call last)",
      "\u001b[0;32m<ipython-input-175-87281cdb2777>\u001b[0m in \u001b[0;36m<module>\u001b[0;34m()\u001b[0m\n\u001b[0;32m----> 1\u001b[0;31m \u001b[0mm\u001b[0m\u001b[0;34m.\u001b[0m\u001b[0mkeys\u001b[0m\u001b[0;34m(\u001b[0m\u001b[0;34m)\u001b[0m\u001b[0;34m\u001b[0m\u001b[0m\n\u001b[0m",
      "\u001b[0;31mAttributeError\u001b[0m: 'MyFormulaCollection' object has no attribute 'keys'"
     ]
    }
   ],
   "source": [
    "m.keys()"
   ]
  },
  {
   "cell_type": "code",
   "execution_count": 174,
   "metadata": {
    "collapsed": false
   },
   "outputs": [
    {
     "data": {
      "text/plain": [
       "formula('CaO')"
      ]
     },
     "execution_count": 174,
     "metadata": {},
     "output_type": "execute_result"
    }
   ],
   "source": [
    "g.sources."
   ]
  },
  {
   "cell_type": "code",
   "execution_count": null,
   "metadata": {
    "collapsed": true
   },
   "outputs": [],
   "source": [
    "g.targets['Ca'] = 0.1\n",
    "g.targets['Fe'] = 0.25\n",
    "\n",
    "g.sources[]"
   ]
  },
  {
   "cell_type": "code",
   "execution_count": 691,
   "metadata": {
    "collapsed": false
   },
   "outputs": [],
   "source": [
    "g._targets['Ca'] = 0.1"
   ]
  },
  {
   "cell_type": "code",
   "execution_count": 692,
   "metadata": {
    "collapsed": false
   },
   "outputs": [
    {
     "data": {
      "text/plain": [
       "superdict([('Ca', 0.1)])"
      ]
     },
     "execution_count": 692,
     "metadata": {},
     "output_type": "execute_result"
    }
   ],
   "source": [
    "g._targets"
   ]
  },
  {
   "cell_type": "code",
   "execution_count": 494,
   "metadata": {
    "collapsed": true
   },
   "outputs": [],
   "source": [
    "x = OrderedDict([('a',1),('b',2),('c',3)])\n",
    "# x['a'] = 1\n",
    "# x['b'] = 2\n",
    "# x['c'] = 3"
   ]
  },
  {
   "cell_type": "code",
   "execution_count": 550,
   "metadata": {
    "collapsed": true
   },
   "outputs": [],
   "source": [
    "class superdict(OrderedDict):\n",
    "    def __init__(self,*args,**kwargs):\n",
    "        super(superdict,self).__init__(*args,**kwargs)\n",
    "#        self._check_keys()\n",
    "        \n",
    "    def __getattr__(self,name):\n",
    "        if hasattr(super(superdict,self),name):\n",
    "            return getattr(super(superdict,self),name)\n",
    "#         elif name in self.keys():\n",
    "#             return self.__getitem__(name)\n",
    "#         elif name in self.keys():\n",
    "#             print 'hello'\n",
    "        else:\n",
    "            raise AttributeError('bad attribute',name)\n",
    "    \n",
    "#     def __setattr__(self,name,value):\n",
    "#         return super(superdict,self).__setattr__(name)\n",
    "        \n",
    "        \n",
    "#     def _check_keys(self):\n",
    "#         for k in self.keys():\n",
    "#             if type(k) is int:\n",
    "#                 raise IndexError('key cannot be ints')\n",
    "                \n",
    "#     def _getkey(self,key):\n",
    "#         if type(key) is int:\n",
    "#             return self.keys()[key]\n",
    "#         else:\n",
    "#             return key\n",
    "        \n",
    "#     def __getitem__(self,key):\n",
    "#         skey = self._getkey(key)\n",
    "#         return super(superdict,self).__getitem__(skey)#self._getkey[key])\n",
    "#     def __setitem__(self,key,value):\n",
    "#         skey = self._getkey(key)\n",
    "#         return super(superdict,self).__setitem__(skey,value)\n",
    "    \n",
    "        "
   ]
  },
  {
   "cell_type": "code",
   "execution_count": 581,
   "metadata": {
    "collapsed": true
   },
   "outputs": [],
   "source": [
    "class OrderedAttrDict(OrderedDict):\n",
    "    \"\"\"\n",
    "    Constructs an odict.OrderedDict with attribute access to data.\n",
    "\n",
    "    Setting a NEW attribute only creates it on the instance, not the dict.\n",
    "    Setting an attribute that is a key in the data will set the dict data but \n",
    "    will not create a new instance attribute\n",
    "    \"\"\"\n",
    "    \n",
    "    \n",
    "    \n",
    "    def __init__(self,*args,**kwargs):\n",
    "        super(OrderedAttrDict,self).__init__(*args,**kwargs)\n",
    "        self._check_keys()\n",
    "        \n",
    "    def _check_keys(self):\n",
    "        for k in self.keys():\n",
    "            if type(k) is int:\n",
    "                raise IndexError('key cannot be ints')\n",
    "                \n",
    "    def _getkey(self,key):\n",
    "        if type(key) is int:\n",
    "            return self.keys()[key]\n",
    "        else:\n",
    "            return key\n",
    "        \n",
    "    def __getitem__(self,key):\n",
    "        skey = self._getkey(key)\n",
    "        return super(OrderedAttrDict,self).__getitem__(skey)#self._getkey[key])\n",
    "    def __setitem__(self,key,value):\n",
    "        skey = self._getkey(key)\n",
    "        return super(OrderedAttrDict,self).__setitem__(skey,value)\n",
    "    \n",
    "    def __getattr__(self, attr):\n",
    "        \"\"\"\n",
    "        Try to get the data. If attr is not a key, fall-back and get the attr\n",
    "        \"\"\"\n",
    "        if self.has_key(attr):\n",
    "            return super(OrderedAttrDict, self).__getitem__(attr)\n",
    "        else:\n",
    "            return super(OrderedAttrDict, self).__getattr__(attr)\n",
    "\n",
    "\n",
    "    def __setattr__(self, attr, value):\n",
    "        \"\"\"\n",
    "        Try to set the data. If attr is not a key, fall-back and set the attr\n",
    "        \"\"\"\n",
    "        if self.has_key(attr):\n",
    "            super(OrderedAttrDict, self).__setitem__(attr, value)\n",
    "        else:\n",
    "            super(OrderedAttrDict, self).__setattr__(attr, value)"
   ]
  },
  {
   "cell_type": "code",
   "execution_count": 618,
   "metadata": {
    "collapsed": true
   },
   "outputs": [],
   "source": [
    "class OrderedAttrDefaultDict(OrderedDict):\n",
    "    \"\"\"\n",
    "    Constructs an defaultDict with attribute and positional access to data.\n",
    "\n",
    "    Setting a NEW attribute only creates it on the instance, not the dict.\n",
    "    Setting an attribute that is a key in the data will set the dict data but \n",
    "    will not create a new instance attribute\n",
    "    \"\"\"\n",
    "    \n",
    "    \n",
    "    \n",
    "    def __init__(self,default,*args,**kwargs):\n",
    "        super(OrderedAttrDefaultDict,self).__init__(*args,**kwargs)\n",
    "        self._check_keys()\n",
    "        self._default = default\n",
    "        \n",
    "    def _check_keys(self):\n",
    "        for k in self.keys():\n",
    "            if type(k) is int:\n",
    "                raise IndexError('key cannot be ints')\n",
    "                \n",
    "    def _getkey(self,key):\n",
    "        if type(key) is int:\n",
    "            return self.keys()[key]\n",
    "        else:\n",
    "            return key\n",
    "        \n",
    "    def __getitem__(self,key):\n",
    "        skey = self._getkey(key)\n",
    "        if self.has_key(skey):\n",
    "            return super(OrderedAttrDefaultDict,self).__getitem__(skey)#self._getkey[key])\n",
    "        else:\n",
    "            return self._default\n",
    "    def __setitem__(self,key,value):\n",
    "        skey = self._getkey(key)\n",
    "        return super(OrderedAttrDefaultDict,self).__setitem__(skey,value)\n",
    "    \n",
    "    def __getattr__(self, attr):\n",
    "        \"\"\"\n",
    "        Try to get the data. If attr is not a key, fall-back and get the attr\n",
    "        \"\"\"\n",
    "        if self.has_key(attr):\n",
    "            return super(OrderedAttrDefaultDict, self).__getitem__(attr)\n",
    "        else:\n",
    "            return super(OrderedAttrDefaultDict, self).__getattr__(attr)\n",
    "\n",
    "\n",
    "    def __setattr__(self, attr, value):\n",
    "        \"\"\"\n",
    "        Try to set the data. If attr is not a key, fall-back and set the attr\n",
    "        \"\"\"\n",
    "        if self.has_key(attr):\n",
    "            super(OrderedAttrDefaultDict, self).__setitem__(attr, value)\n",
    "        else:\n",
    "            super(OrderedAttrDefaultDict, self).__setattr__(attr, value)\n",
    "            \n",
    "            \n",
    "    def __dir__(self):\n",
    "        heritage = dir(super(self.__class__, self)) # inherited attributes\n",
    "        hide = [] #attributes to hide\n",
    "        new = self.keys()\n",
    "        show = [k for k in new if k not in heritage + hide]\n",
    "        return sorted(heritage + show)    \n"
   ]
  }
 ],
 "metadata": {
  "kernelspec": {
   "display_name": "Python 2",
   "language": "python",
   "name": "python2"
  },
  "language_info": {
   "codemirror_mode": {
    "name": "ipython",
    "version": 2
   },
   "file_extension": ".py",
   "mimetype": "text/x-python",
   "name": "python",
   "nbconvert_exporter": "python",
   "pygments_lexer": "ipython2",
   "version": "2.7.10"
  }
 },
 "nbformat": 4,
 "nbformat_minor": 0
}
